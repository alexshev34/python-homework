{
  "nbformat": 4,
  "nbformat_minor": 0,
  "metadata": {
    "kernelspec": {
      "display_name": "Python 3",
      "language": "python",
      "name": "python3"
    },
    "language_info": {
      "codemirror_mode": {
        "name": "ipython",
        "version": 3
      },
      "file_extension": ".py",
      "mimetype": "text/x-python",
      "name": "python",
      "nbconvert_exporter": "python",
      "pygments_lexer": "ipython3",
      "version": "3.6.1"
    },
    "colab": {
      "name": "Копия блокнота \"Homework1ML.ipynb\"",
      "provenance": [],
      "collapsed_sections": []
    }
  },
  "cells": [
    {
      "cell_type": "code",
      "metadata": {
        "collapsed": true,
        "id": "M7uqsa5KZiSk"
      },
      "source": [
        "import numpy as np\n",
        "import pandas as pd"
      ],
      "execution_count": null,
      "outputs": []
    },
    {
      "cell_type": "markdown",
      "metadata": {
        "id": "8VB3Ia0FZiSr"
      },
      "source": [
        "**1\\.** Как создать pd.Series из листа, numpy array и словаря(dict)? (★☆☆)"
      ]
    },
    {
      "cell_type": "code",
      "metadata": {
        "collapsed": true,
        "id": "ljHsEwBYZiSs"
      },
      "source": [
        "mylist = list('abcedfghijklmnopqrstuvwxyz')\n",
        "myarr = np.arange(26)\n",
        "mydict = dict(zip(mylist, myarr))\n",
        "\n",
        "#your code\n",
        "list1 = pd.Series(mylist)\n",
        "arr1 = pd.Series(myarr)\n",
        "mydict1 = pd.Series(mydict) \n"
      ],
      "execution_count": null,
      "outputs": []
    },
    {
      "cell_type": "markdown",
      "metadata": {
        "id": "I4LrbKoWZiSt"
      },
      "source": [
        "**2\\.** Как сделать превратить индексы из датафрейма в колонку? (★☆☆)"
      ]
    },
    {
      "cell_type": "code",
      "metadata": {
        "id": "W_UieQ25ZiSt",
        "colab": {
          "base_uri": "https://localhost:8080/",
          "height": 142
        },
        "outputId": "73ee9582-640f-4fd8-d073-49da61343518"
      },
      "source": [
        "df=pd.DataFrame(['a', 'b', 'c'])\n",
        "\n",
        "#your code\n",
        "df['index'] = df.index\n",
        "df"
      ],
      "execution_count": null,
      "outputs": [
        {
          "output_type": "execute_result",
          "data": {
            "text/html": [
              "<div>\n",
              "<style scoped>\n",
              "    .dataframe tbody tr th:only-of-type {\n",
              "        vertical-align: middle;\n",
              "    }\n",
              "\n",
              "    .dataframe tbody tr th {\n",
              "        vertical-align: top;\n",
              "    }\n",
              "\n",
              "    .dataframe thead th {\n",
              "        text-align: right;\n",
              "    }\n",
              "</style>\n",
              "<table border=\"1\" class=\"dataframe\">\n",
              "  <thead>\n",
              "    <tr style=\"text-align: right;\">\n",
              "      <th></th>\n",
              "      <th>0</th>\n",
              "      <th>index</th>\n",
              "    </tr>\n",
              "  </thead>\n",
              "  <tbody>\n",
              "    <tr>\n",
              "      <th>0</th>\n",
              "      <td>a</td>\n",
              "      <td>0</td>\n",
              "    </tr>\n",
              "    <tr>\n",
              "      <th>1</th>\n",
              "      <td>b</td>\n",
              "      <td>1</td>\n",
              "    </tr>\n",
              "    <tr>\n",
              "      <th>2</th>\n",
              "      <td>c</td>\n",
              "      <td>2</td>\n",
              "    </tr>\n",
              "  </tbody>\n",
              "</table>\n",
              "</div>"
            ],
            "text/plain": [
              "   0  index\n",
              "0  a      0\n",
              "1  b      1\n",
              "2  c      2"
            ]
          },
          "metadata": {
            "tags": []
          },
          "execution_count": 71
        }
      ]
    },
    {
      "cell_type": "markdown",
      "metadata": {
        "id": "mbeSXjqjZiSu"
      },
      "source": [
        "**3\\.** Как из нескольких pd.Series сделать один датафрейм? (★★☆)\n",
        "\n",
        "(hint: pd.concat или словарь с колонками)"
      ]
    },
    {
      "cell_type": "code",
      "metadata": {
        "id": "ir3z2I8sZiSu",
        "colab": {
          "base_uri": "https://localhost:8080/",
          "height": 142
        },
        "outputId": "9f443a21-cc47-411e-a3f5-c0eb4e1244a9"
      },
      "source": [
        "df1=pd.Series(['a', 'b', 'c'])\n",
        "df2=pd.Series(['aa', 'b1', 'c2'])\n",
        "df3=pd.Series(['44', '55', '66'])\n",
        "\n",
        "#your code\n",
        "pd.DataFrame(zip(df1, df2, df3))"
      ],
      "execution_count": null,
      "outputs": [
        {
          "output_type": "execute_result",
          "data": {
            "text/html": [
              "<div>\n",
              "<style scoped>\n",
              "    .dataframe tbody tr th:only-of-type {\n",
              "        vertical-align: middle;\n",
              "    }\n",
              "\n",
              "    .dataframe tbody tr th {\n",
              "        vertical-align: top;\n",
              "    }\n",
              "\n",
              "    .dataframe thead th {\n",
              "        text-align: right;\n",
              "    }\n",
              "</style>\n",
              "<table border=\"1\" class=\"dataframe\">\n",
              "  <thead>\n",
              "    <tr style=\"text-align: right;\">\n",
              "      <th></th>\n",
              "      <th>0</th>\n",
              "      <th>1</th>\n",
              "      <th>2</th>\n",
              "    </tr>\n",
              "  </thead>\n",
              "  <tbody>\n",
              "    <tr>\n",
              "      <th>0</th>\n",
              "      <td>a</td>\n",
              "      <td>aa</td>\n",
              "      <td>44</td>\n",
              "    </tr>\n",
              "    <tr>\n",
              "      <th>1</th>\n",
              "      <td>b</td>\n",
              "      <td>b1</td>\n",
              "      <td>55</td>\n",
              "    </tr>\n",
              "    <tr>\n",
              "      <th>2</th>\n",
              "      <td>c</td>\n",
              "      <td>c2</td>\n",
              "      <td>66</td>\n",
              "    </tr>\n",
              "  </tbody>\n",
              "</table>\n",
              "</div>"
            ],
            "text/plain": [
              "   0   1   2\n",
              "0  a  aa  44\n",
              "1  b  b1  55\n",
              "2  c  c2  66"
            ]
          },
          "metadata": {
            "tags": []
          },
          "execution_count": 12
        }
      ]
    },
    {
      "cell_type": "markdown",
      "metadata": {
        "id": "5IsagR-4ZiSv"
      },
      "source": [
        "**4\\.** Как получить строки из series A, которые не содержатся в series B? (★★☆)"
      ]
    },
    {
      "cell_type": "code",
      "metadata": {
        "id": "XEO1yu75ZiSv",
        "colab": {
          "base_uri": "https://localhost:8080/"
        },
        "outputId": "e1e55461-ac4d-442d-eb54-a5cc25398c15"
      },
      "source": [
        "df1=pd.Series(['a', 'b', 'c'])\n",
        "df2=pd.Series(['a', 'b1', 'c2'])\n",
        "\n",
        "#your code\n",
        "df1[~df1.isin(df2)]"
      ],
      "execution_count": null,
      "outputs": [
        {
          "output_type": "execute_result",
          "data": {
            "text/plain": [
              "1    b\n",
              "2    c\n",
              "dtype: object"
            ]
          },
          "metadata": {
            "tags": []
          },
          "execution_count": 13
        }
      ]
    },
    {
      "cell_type": "markdown",
      "metadata": {
        "id": "occvJQpYZiSv"
      },
      "source": [
        "**5\\.** Как получить из series/dataframe минимум, 25й персентиль, медиану, 75тый персентиль, максимум? (★☆☆)\n",
        "\n",
        "(hint: использовать одну команду)"
      ]
    },
    {
      "cell_type": "code",
      "metadata": {
        "id": "ifqxeAGIZiSz",
        "colab": {
          "base_uri": "https://localhost:8080/"
        },
        "outputId": "bee17461-65e4-4adf-ead0-cd7d47d0d3f6"
      },
      "source": [
        "df1=pd.Series(np.arange(10, 99))\n",
        "\n",
        "#your code\n",
        "np.percentile(df1, [25, 50, 75, 100])"
      ],
      "execution_count": null,
      "outputs": [
        {
          "output_type": "execute_result",
          "data": {
            "text/plain": [
              "array([32., 54., 76., 98.])"
            ]
          },
          "metadata": {
            "tags": []
          },
          "execution_count": 72
        }
      ]
    },
    {
      "cell_type": "markdown",
      "metadata": {
        "id": "Hb4nnV02ZiSz"
      },
      "source": [
        "**6\\.** Как получить частоту\\долю для всех уникальных объектов в series? (★☆☆)"
      ]
    },
    {
      "cell_type": "code",
      "metadata": {
        "id": "imc_9xSMZiSz",
        "colab": {
          "base_uri": "https://localhost:8080/"
        },
        "outputId": "24092721-8beb-4ac5-f846-7f79315a85d0"
      },
      "source": [
        "df1=pd.Series(['a', 'b', 'c', 'g', 'v', 'a', 'a', 'a', 'u', 'a', 'b', 'c', 'c'])\n",
        "\n",
        "#your code\n",
        "df1.value_counts()"
      ],
      "execution_count": null,
      "outputs": [
        {
          "output_type": "execute_result",
          "data": {
            "text/plain": [
              "a    5\n",
              "c    3\n",
              "b    2\n",
              "v    1\n",
              "g    1\n",
              "u    1\n",
              "dtype: int64"
            ]
          },
          "metadata": {
            "tags": []
          },
          "execution_count": 16
        }
      ]
    },
    {
      "cell_type": "markdown",
      "metadata": {
        "id": "jArImfDQZiS0"
      },
      "source": [
        "**7\\.** Как оставить только топ-2 самых часто встречающихся значений, а все остальные значения заменить на 'other'?  (★★☆)"
      ]
    },
    {
      "cell_type": "code",
      "metadata": {
        "id": "pFSK_8i1ZiS0",
        "colab": {
          "base_uri": "https://localhost:8080/"
        },
        "outputId": "d041d175-4185-45e5-bda7-8c614151ac97"
      },
      "source": [
        "df1=pd.Series(['a', 'b', 'c', 'g', 'v', 'a', 'a', 'a', 'u', 'a', 'b', 'c', 'c'])\n",
        "\n",
        "#your code\n",
        "df1.replace(df1.value_counts()[2:].index, 'other')"
      ],
      "execution_count": null,
      "outputs": [
        {
          "output_type": "execute_result",
          "data": {
            "text/plain": [
              "0         a\n",
              "1     other\n",
              "2         c\n",
              "3     other\n",
              "4     other\n",
              "5         a\n",
              "6         a\n",
              "7         a\n",
              "8     other\n",
              "9         a\n",
              "10    other\n",
              "11        c\n",
              "12        c\n",
              "dtype: object"
            ]
          },
          "metadata": {
            "tags": []
          },
          "execution_count": 17
        }
      ]
    },
    {
      "cell_type": "markdown",
      "metadata": {
        "id": "y0JxLahEZiS0"
      },
      "source": [
        "**8\\.** Как разбить колонку с числовыми значениями на 10 групп одинакового размера?  (★★☆)\n",
        "\n",
        "(hint: pd.qcut)"
      ]
    },
    {
      "cell_type": "code",
      "metadata": {
        "id": "nbI7FvIGZiS1",
        "colab": {
          "base_uri": "https://localhost:8080/"
        },
        "outputId": "a2a7ac48-8012-4b18-a43e-952d7eea9f0f"
      },
      "source": [
        "s = pd.Series(np.random.random(20))\n",
        "\n",
        "#your code\n",
        "pd.qcut(s, 10)"
      ],
      "execution_count": null,
      "outputs": [
        {
          "output_type": "execute_result",
          "data": {
            "text/plain": [
              "0                    (0.365, 0.389]\n",
              "1                    (0.612, 0.886]\n",
              "2                    (0.324, 0.365]\n",
              "3                    (0.181, 0.272]\n",
              "4                    (0.324, 0.365]\n",
              "5                    (0.588, 0.612]\n",
              "6                    (0.886, 0.993]\n",
              "7                    (0.365, 0.389]\n",
              "8                    (0.272, 0.324]\n",
              "9                    (0.494, 0.588]\n",
              "10                   (0.588, 0.612]\n",
              "11    (0.041299999999999996, 0.181]\n",
              "12                   (0.389, 0.494]\n",
              "13                   (0.886, 0.993]\n",
              "14                   (0.612, 0.886]\n",
              "15                   (0.389, 0.494]\n",
              "16    (0.041299999999999996, 0.181]\n",
              "17                   (0.494, 0.588]\n",
              "18                   (0.181, 0.272]\n",
              "19                   (0.272, 0.324]\n",
              "dtype: category\n",
              "Categories (10, interval[float64]): [(0.041299999999999996, 0.181] < (0.181, 0.272] < (0.272, 0.324] <\n",
              "                                     (0.324, 0.365] ... (0.494, 0.588] < (0.588, 0.612] <\n",
              "                                     (0.612, 0.886] < (0.886, 0.993]]"
            ]
          },
          "metadata": {
            "tags": []
          },
          "execution_count": 18
        }
      ]
    },
    {
      "cell_type": "markdown",
      "metadata": {
        "id": "G7P_X0NHZiS1"
      },
      "source": [
        "**9\\.** Как найти позиции чисел, которые делятся на 3 без остатка из series?  (★★☆)\n",
        "\n",
        "(можно с помощью numpy и с помощью pandas)"
      ]
    },
    {
      "cell_type": "code",
      "metadata": {
        "id": "51N8_1dCZiS1",
        "colab": {
          "base_uri": "https://localhost:8080/"
        },
        "outputId": "fa6ddb11-e638-4604-f898-8ad4d3eb2d55"
      },
      "source": [
        "arr1 = pd.Series([9, 4, 6, 10, 12, 19, 18, 21, 23, 29])\n",
        "\n",
        "arr1[arr1 % 3 == 0].index"
      ],
      "execution_count": null,
      "outputs": [
        {
          "output_type": "execute_result",
          "data": {
            "text/plain": [
              "Int64Index([0, 2, 4, 6, 7], dtype='int64')"
            ]
          },
          "metadata": {
            "tags": []
          },
          "execution_count": 19
        }
      ]
    },
    {
      "cell_type": "markdown",
      "metadata": {
        "id": "NNw1Du-5ZiS2"
      },
      "source": [
        "**10\\.** Как извлечь из series строки по индексам?  (★☆☆)"
      ]
    },
    {
      "cell_type": "code",
      "metadata": {
        "id": "Jwh3iUxHZiS2",
        "colab": {
          "base_uri": "https://localhost:8080/"
        },
        "outputId": "5f3fbf8c-dd82-41b0-a9cd-49d0fdf8ae3a"
      },
      "source": [
        "s = pd.Series(list('abcdefghijklmnopqrstuvwxyz'))\n",
        "pos = [0, 4, 8, 14, 20]\n",
        "\n",
        "#your code\n",
        "s[pos]"
      ],
      "execution_count": null,
      "outputs": [
        {
          "output_type": "execute_result",
          "data": {
            "text/plain": [
              "0     a\n",
              "4     e\n",
              "8     i\n",
              "14    o\n",
              "20    u\n",
              "dtype: object"
            ]
          },
          "metadata": {
            "tags": []
          },
          "execution_count": 20
        }
      ]
    },
    {
      "cell_type": "markdown",
      "metadata": {
        "id": "O-DnVPfxZiS2"
      },
      "source": [
        "**11\\.** Как сделать stack двух series вертикально и горизонтально? (★☆☆)\n",
        "\n",
        "(hint: pd.append, pd.concat)"
      ]
    },
    {
      "cell_type": "code",
      "metadata": {
        "id": "Ktj4IRa0ZiS2",
        "colab": {
          "base_uri": "https://localhost:8080/",
          "height": 204
        },
        "outputId": "157ed0ad-b0ca-41b5-dfdb-255282335658"
      },
      "source": [
        "s1 = pd.Series(range(5))\n",
        "s2 = pd.Series(list('abcde'))\n",
        "\n",
        "#your code\n",
        "s1.append(s2)\n",
        "pd.concat([s1,s2], 1)"
      ],
      "execution_count": null,
      "outputs": [
        {
          "output_type": "execute_result",
          "data": {
            "text/html": [
              "<div>\n",
              "<style scoped>\n",
              "    .dataframe tbody tr th:only-of-type {\n",
              "        vertical-align: middle;\n",
              "    }\n",
              "\n",
              "    .dataframe tbody tr th {\n",
              "        vertical-align: top;\n",
              "    }\n",
              "\n",
              "    .dataframe thead th {\n",
              "        text-align: right;\n",
              "    }\n",
              "</style>\n",
              "<table border=\"1\" class=\"dataframe\">\n",
              "  <thead>\n",
              "    <tr style=\"text-align: right;\">\n",
              "      <th></th>\n",
              "      <th>0</th>\n",
              "      <th>1</th>\n",
              "    </tr>\n",
              "  </thead>\n",
              "  <tbody>\n",
              "    <tr>\n",
              "      <th>0</th>\n",
              "      <td>0</td>\n",
              "      <td>a</td>\n",
              "    </tr>\n",
              "    <tr>\n",
              "      <th>1</th>\n",
              "      <td>1</td>\n",
              "      <td>b</td>\n",
              "    </tr>\n",
              "    <tr>\n",
              "      <th>2</th>\n",
              "      <td>2</td>\n",
              "      <td>c</td>\n",
              "    </tr>\n",
              "    <tr>\n",
              "      <th>3</th>\n",
              "      <td>3</td>\n",
              "      <td>d</td>\n",
              "    </tr>\n",
              "    <tr>\n",
              "      <th>4</th>\n",
              "      <td>4</td>\n",
              "      <td>e</td>\n",
              "    </tr>\n",
              "  </tbody>\n",
              "</table>\n",
              "</div>"
            ],
            "text/plain": [
              "   0  1\n",
              "0  0  a\n",
              "1  1  b\n",
              "2  2  c\n",
              "3  3  d\n",
              "4  4  e"
            ]
          },
          "metadata": {
            "tags": []
          },
          "execution_count": 21
        }
      ]
    },
    {
      "cell_type": "markdown",
      "metadata": {
        "id": "J5tk995pZiS3"
      },
      "source": [
        "**12\\.** Как получить позиции строк из series A из другого series B? (★☆☆)\n",
        "\n",
        "(можно с помощью numpy и с помощью pandas)"
      ]
    },
    {
      "cell_type": "code",
      "metadata": {
        "id": "ltXT5mmPZiS3",
        "colab": {
          "base_uri": "https://localhost:8080/"
        },
        "outputId": "05979a95-a927-47ad-8f11-b3fe52bffcae"
      },
      "source": [
        "s1 = pd.Series([10, 9, 6, 5, 3, 1, 12, 8, 13])\n",
        "s2 = pd.Series([1, 3, 10, 13])\n",
        "\n",
        "#your code\n",
        "s1 = pd.Series(s1.index, s1.values)\n",
        "s1[s2]"
      ],
      "execution_count": null,
      "outputs": [
        {
          "output_type": "execute_result",
          "data": {
            "text/plain": [
              "1     5\n",
              "3     4\n",
              "10    0\n",
              "13    8\n",
              "dtype: int64"
            ]
          },
          "metadata": {
            "tags": []
          },
          "execution_count": 22
        }
      ]
    },
    {
      "cell_type": "markdown",
      "metadata": {
        "id": "LAful7wiZiS3"
      },
      "source": [
        "**13\\.** Как вычислить среднеквадратическую ошибку для истинных и предсказанных значений? (★★☆)"
      ]
    },
    {
      "cell_type": "code",
      "metadata": {
        "id": "Tb7M9GIYZiS4",
        "colab": {
          "base_uri": "https://localhost:8080/"
        },
        "outputId": "edb5a387-e17c-4138-a342-c05d3d0e2151"
      },
      "source": [
        "truth = pd.Series(range(10))\n",
        "pred = pd.Series(range(10)) + np.random.random(10)\n",
        "#your code\n",
        "((truth - pred) ** 2).mean()"
      ],
      "execution_count": null,
      "outputs": [
        {
          "output_type": "execute_result",
          "data": {
            "text/plain": [
              "0.4597342990289195"
            ]
          },
          "metadata": {
            "tags": []
          },
          "execution_count": 23
        }
      ]
    },
    {
      "cell_type": "markdown",
      "metadata": {
        "id": "Pr9HpjWOZiS4"
      },
      "source": [
        "**14\\.** Как конвертировать каждый первый элемент строке в series в верхний регистр? (★★☆)"
      ]
    },
    {
      "cell_type": "code",
      "metadata": {
        "id": "asfq7nPDZiS4",
        "colab": {
          "base_uri": "https://localhost:8080/"
        },
        "outputId": "4140f98c-c503-4520-960b-bb636f4d2254"
      },
      "source": [
        "s = pd.Series(['how', 'to', 'kick', 'ass?'])\n",
        "\n",
        "#your code\n",
        "s.str.capitalize()"
      ],
      "execution_count": null,
      "outputs": [
        {
          "output_type": "execute_result",
          "data": {
            "text/plain": [
              "0     How\n",
              "1      To\n",
              "2    Kick\n",
              "3    Ass?\n",
              "dtype: object"
            ]
          },
          "metadata": {
            "tags": []
          },
          "execution_count": 24
        }
      ]
    },
    {
      "cell_type": "markdown",
      "metadata": {
        "id": "lEZbW4KoZiS4"
      },
      "source": [
        "**15\\.** Как посчитать количество символов в каждой строке? (★★☆)"
      ]
    },
    {
      "cell_type": "code",
      "metadata": {
        "id": "ffuRsxPjZiS5",
        "colab": {
          "base_uri": "https://localhost:8080/"
        },
        "outputId": "739b9590-bdcf-4a3b-d840-8facb9cb3534"
      },
      "source": [
        "s = pd.Series(['how', 'to', 'kick', 'ass?'])\n",
        "\n",
        "#your code\n",
        "s.str.len()"
      ],
      "execution_count": null,
      "outputs": [
        {
          "output_type": "execute_result",
          "data": {
            "text/plain": [
              "0    3\n",
              "1    2\n",
              "2    4\n",
              "3    4\n",
              "dtype: int64"
            ]
          },
          "metadata": {
            "tags": []
          },
          "execution_count": 25
        }
      ]
    },
    {
      "cell_type": "markdown",
      "metadata": {
        "id": "ehIJBVV9ZiS5"
      },
      "source": [
        "**16\\.** Как преобразовать даты в виде строк в timeseries?  (★☆☆)\n",
        "\n",
        "(hint: pd.to_datetime)"
      ]
    },
    {
      "cell_type": "code",
      "metadata": {
        "id": "AbxUvYGMZiS5",
        "colab": {
          "base_uri": "https://localhost:8080/"
        },
        "outputId": "be8b52c5-d488-4d15-c873-d2fa9a1dcc89"
      },
      "source": [
        "s = pd.Series(['01 Jan 2010', '02-02-2011', '20120303', '2013/04/04', '2014-05-05', '2015-06-06T12:20'])\n",
        "\n",
        "#your code\n",
        "pd.to_datetime(s)"
      ],
      "execution_count": null,
      "outputs": [
        {
          "output_type": "execute_result",
          "data": {
            "text/plain": [
              "0   2010-01-01 00:00:00\n",
              "1   2011-02-02 00:00:00\n",
              "2   2012-03-03 00:00:00\n",
              "3   2013-04-04 00:00:00\n",
              "4   2014-05-05 00:00:00\n",
              "5   2015-06-06 12:20:00\n",
              "dtype: datetime64[ns]"
            ]
          },
          "metadata": {
            "tags": []
          },
          "execution_count": 26
        }
      ]
    },
    {
      "cell_type": "markdown",
      "metadata": {
        "id": "2wVNdrPbZiS6"
      },
      "source": [
        "**17\\.** Как получить день месяца, номер недели, день года и день недели из даты в виде строки? (★★☆)"
      ]
    },
    {
      "cell_type": "code",
      "metadata": {
        "id": "XewWHJjMZiS6"
      },
      "source": [
        "s = pd.Series(['01 Jan 2010', '02-02-2011', '20120303', '2013/04/04', '2014-05-05', '2015-06-06T12:20'])\n",
        "\n",
        "#your code\n",
        "\n",
        "print(\"Date: \",   )\n",
        "\n",
        "print(\"Week number: \",    )\n",
        "\n",
        "print(\"Day number of year: \",     )\n",
        "\n",
        "print(\"Day of week: \",     )"
      ],
      "execution_count": null,
      "outputs": []
    },
    {
      "cell_type": "markdown",
      "metadata": {
        "id": "CAMNXc2HZiS6"
      },
      "source": [
        "**18\\.** Как конвертировать дату из формата месяц-год в формат год-месяц-первое число? (★★☆)\n",
        "\n",
        "(hint: .strftime('%Y-%m-%d'))"
      ]
    },
    {
      "cell_type": "code",
      "metadata": {
        "id": "aXHbVNxSZiS6",
        "colab": {
          "base_uri": "https://localhost:8080/"
        },
        "outputId": "b9c66003-7a25-4afe-df8b-5c2d9d450db8"
      },
      "source": [
        "s = pd.Series(['Jan 2017', 'Feb 2019', 'Mar 2012'])\n",
        "\n",
        "#your code\n",
        "s = pd.to_datetime(s)\n",
        "s.dt.strftime('%Y-%m-%d')"
      ],
      "execution_count": null,
      "outputs": [
        {
          "output_type": "execute_result",
          "data": {
            "text/plain": [
              "0    2017-01-01\n",
              "1    2019-02-01\n",
              "2    2012-03-01\n",
              "dtype: object"
            ]
          },
          "metadata": {
            "tags": []
          },
          "execution_count": 28
        }
      ]
    },
    {
      "cell_type": "markdown",
      "metadata": {
        "id": "iu79bJ14ZiS7"
      },
      "source": [
        "**19\\.** Как отфильтровать слова, содержащие не менее 2 гласных? (★★☆)"
      ]
    },
    {
      "cell_type": "code",
      "metadata": {
        "id": "uMNEfWI2ZiS7",
        "colab": {
          "base_uri": "https://localhost:8080/"
        },
        "outputId": "0ebacf08-205e-4e74-df4e-0b7e235e35b6"
      },
      "source": [
        "s = pd.Series(['Kitty', 'Cat', 'Plan', 'Python', 'Money'])\n",
        "\n",
        "#your code\n",
        "s[s.str.count('[aeiouy]')>=2]"
      ],
      "execution_count": null,
      "outputs": [
        {
          "output_type": "execute_result",
          "data": {
            "text/plain": [
              "0     Kitty\n",
              "3    Python\n",
              "4     Money\n",
              "dtype: object"
            ]
          },
          "metadata": {
            "tags": []
          },
          "execution_count": 29
        }
      ]
    },
    {
      "cell_type": "markdown",
      "metadata": {
        "id": "cyz4706RZiS7"
      },
      "source": [
        "**20\\.** Заполните все пропущенные даты от минимальной до максимальной, значения при этом дожны быть равны предыдущей не пропущеной дате (★★★)"
      ]
    },
    {
      "cell_type": "code",
      "metadata": {
        "id": "fTlIOy_ZZiS7",
        "colab": {
          "base_uri": "https://localhost:8080/"
        },
        "outputId": "9100b648-14f4-45c7-f096-c8427d755f12"
      },
      "source": [
        "s = pd.Series([1,10,3,np.nan], index=pd.to_datetime(['2000-01-01', '2000-01-03', '2000-01-06', '2000-01-08']))\n",
        "\n",
        "#your code\n",
        "s.asfreq('D', 'pad')"
      ],
      "execution_count": null,
      "outputs": [
        {
          "output_type": "execute_result",
          "data": {
            "text/plain": [
              "2000-01-01     1.0\n",
              "2000-01-02     1.0\n",
              "2000-01-03    10.0\n",
              "2000-01-04    10.0\n",
              "2000-01-05    10.0\n",
              "2000-01-06     3.0\n",
              "2000-01-07     3.0\n",
              "2000-01-08     NaN\n",
              "Freq: D, dtype: float64"
            ]
          },
          "metadata": {
            "tags": []
          },
          "execution_count": 30
        }
      ]
    },
    {
      "cell_type": "markdown",
      "metadata": {
        "id": "cr9Z1RetZiS8"
      },
      "source": [
        "**21\\.** Считайте файл из CSV-файла по строчно и добавьте считанные строки в датафрейм (файл data/BostonHousing.csv)?  (★★☆)\n",
        "\n",
        "(hint: csv reader)"
      ]
    },
    {
      "cell_type": "code",
      "metadata": {
        "colab": {
          "base_uri": "https://localhost:8080/",
          "height": 419
        },
        "id": "CA9qWNHsqakJ",
        "outputId": "bdbfea38-1091-4fe5-a68b-9c45df88d2d9"
      },
      "source": [
        "testfile = pd.read_csv(\"https://raw.githubusercontent.com/selva86/datasets/master/BostonHousing.csv\")\n",
        "testfile"
      ],
      "execution_count": null,
      "outputs": [
        {
          "output_type": "execute_result",
          "data": {
            "text/html": [
              "<div>\n",
              "<style scoped>\n",
              "    .dataframe tbody tr th:only-of-type {\n",
              "        vertical-align: middle;\n",
              "    }\n",
              "\n",
              "    .dataframe tbody tr th {\n",
              "        vertical-align: top;\n",
              "    }\n",
              "\n",
              "    .dataframe thead th {\n",
              "        text-align: right;\n",
              "    }\n",
              "</style>\n",
              "<table border=\"1\" class=\"dataframe\">\n",
              "  <thead>\n",
              "    <tr style=\"text-align: right;\">\n",
              "      <th></th>\n",
              "      <th>crim</th>\n",
              "      <th>zn</th>\n",
              "      <th>...</th>\n",
              "      <th>lstat</th>\n",
              "      <th>medv</th>\n",
              "    </tr>\n",
              "  </thead>\n",
              "  <tbody>\n",
              "    <tr>\n",
              "      <th>0</th>\n",
              "      <td>0.00632</td>\n",
              "      <td>18.0</td>\n",
              "      <td>...</td>\n",
              "      <td>4.98</td>\n",
              "      <td>24.0</td>\n",
              "    </tr>\n",
              "    <tr>\n",
              "      <th>1</th>\n",
              "      <td>0.02731</td>\n",
              "      <td>0.0</td>\n",
              "      <td>...</td>\n",
              "      <td>9.14</td>\n",
              "      <td>21.6</td>\n",
              "    </tr>\n",
              "    <tr>\n",
              "      <th>2</th>\n",
              "      <td>0.02729</td>\n",
              "      <td>0.0</td>\n",
              "      <td>...</td>\n",
              "      <td>4.03</td>\n",
              "      <td>34.7</td>\n",
              "    </tr>\n",
              "    <tr>\n",
              "      <th>3</th>\n",
              "      <td>0.03237</td>\n",
              "      <td>0.0</td>\n",
              "      <td>...</td>\n",
              "      <td>2.94</td>\n",
              "      <td>33.4</td>\n",
              "    </tr>\n",
              "    <tr>\n",
              "      <th>4</th>\n",
              "      <td>0.06905</td>\n",
              "      <td>0.0</td>\n",
              "      <td>...</td>\n",
              "      <td>5.33</td>\n",
              "      <td>36.2</td>\n",
              "    </tr>\n",
              "    <tr>\n",
              "      <th>...</th>\n",
              "      <td>...</td>\n",
              "      <td>...</td>\n",
              "      <td>...</td>\n",
              "      <td>...</td>\n",
              "      <td>...</td>\n",
              "    </tr>\n",
              "    <tr>\n",
              "      <th>501</th>\n",
              "      <td>0.06263</td>\n",
              "      <td>0.0</td>\n",
              "      <td>...</td>\n",
              "      <td>9.67</td>\n",
              "      <td>22.4</td>\n",
              "    </tr>\n",
              "    <tr>\n",
              "      <th>502</th>\n",
              "      <td>0.04527</td>\n",
              "      <td>0.0</td>\n",
              "      <td>...</td>\n",
              "      <td>9.08</td>\n",
              "      <td>20.6</td>\n",
              "    </tr>\n",
              "    <tr>\n",
              "      <th>503</th>\n",
              "      <td>0.06076</td>\n",
              "      <td>0.0</td>\n",
              "      <td>...</td>\n",
              "      <td>5.64</td>\n",
              "      <td>23.9</td>\n",
              "    </tr>\n",
              "    <tr>\n",
              "      <th>504</th>\n",
              "      <td>0.10959</td>\n",
              "      <td>0.0</td>\n",
              "      <td>...</td>\n",
              "      <td>6.48</td>\n",
              "      <td>22.0</td>\n",
              "    </tr>\n",
              "    <tr>\n",
              "      <th>505</th>\n",
              "      <td>0.04741</td>\n",
              "      <td>0.0</td>\n",
              "      <td>...</td>\n",
              "      <td>7.88</td>\n",
              "      <td>11.9</td>\n",
              "    </tr>\n",
              "  </tbody>\n",
              "</table>\n",
              "<p>506 rows × 14 columns</p>\n",
              "</div>"
            ],
            "text/plain": [
              "        crim    zn  ...  lstat  medv\n",
              "0    0.00632  18.0  ...   4.98  24.0\n",
              "1    0.02731   0.0  ...   9.14  21.6\n",
              "2    0.02729   0.0  ...   4.03  34.7\n",
              "3    0.03237   0.0  ...   2.94  33.4\n",
              "4    0.06905   0.0  ...   5.33  36.2\n",
              "..       ...   ...  ...    ...   ...\n",
              "501  0.06263   0.0  ...   9.67  22.4\n",
              "502  0.04527   0.0  ...   9.08  20.6\n",
              "503  0.06076   0.0  ...   5.64  23.9\n",
              "504  0.10959   0.0  ...   6.48  22.0\n",
              "505  0.04741   0.0  ...   7.88  11.9\n",
              "\n",
              "[506 rows x 14 columns]"
            ]
          },
          "metadata": {
            "tags": []
          },
          "execution_count": 67
        }
      ]
    },
    {
      "cell_type": "code",
      "metadata": {
        "id": "BN7iiAhPqaOt"
      },
      "source": [
        ""
      ],
      "execution_count": null,
      "outputs": []
    },
    {
      "cell_type": "code",
      "metadata": {
        "collapsed": true,
        "id": "DTircXPFZiS8"
      },
      "source": [
        ""
      ],
      "execution_count": null,
      "outputs": []
    },
    {
      "cell_type": "markdown",
      "metadata": {
        "id": "333mObPvZiS8"
      },
      "source": [
        "**22\\.** Как изменить значения столбца при импорте csv в фрейм данных?\n",
        "Импортируйте датасет с помощью pd.read_csv, но колонку 'medv' (median house value) измените так, что если value < 25 = ‘Low’ и если > 25 = ‘High’.  (★★☆)\n",
        "\n",
        "(hint: pd.read_csv(....., converts={}))"
      ]
    },
    {
      "cell_type": "code",
      "metadata": {
        "collapsed": true,
        "id": "AJ3XnVE_ZiS9"
      },
      "source": [
        ""
      ],
      "execution_count": null,
      "outputs": []
    },
    {
      "cell_type": "markdown",
      "metadata": {
        "id": "H1mvcOPzZiS9"
      },
      "source": [
        "**23\\.** Как импортировать только указанные столбцы('crim' и 'medv') и только n строк из CSV-файла?  (★☆☆)"
      ]
    },
    {
      "cell_type": "code",
      "metadata": {
        "id": "eJt9QPdEZiS9",
        "colab": {
          "base_uri": "https://localhost:8080/",
          "height": 419
        },
        "outputId": "cc52b55e-a133-439f-f0d6-22f1220f03a1"
      },
      "source": [
        "df = pd.read_csv(\"https://raw.githubusercontent.com/selva86/datasets/master/BostonHousing.csv\", usecols=['crim','medv'], nrows=25)\n",
        "df\n"
      ],
      "execution_count": null,
      "outputs": [
        {
          "output_type": "execute_result",
          "data": {
            "text/html": [
              "<div>\n",
              "<style scoped>\n",
              "    .dataframe tbody tr th:only-of-type {\n",
              "        vertical-align: middle;\n",
              "    }\n",
              "\n",
              "    .dataframe tbody tr th {\n",
              "        vertical-align: top;\n",
              "    }\n",
              "\n",
              "    .dataframe thead th {\n",
              "        text-align: right;\n",
              "    }\n",
              "</style>\n",
              "<table border=\"1\" class=\"dataframe\">\n",
              "  <thead>\n",
              "    <tr style=\"text-align: right;\">\n",
              "      <th></th>\n",
              "      <th>crim</th>\n",
              "      <th>medv</th>\n",
              "    </tr>\n",
              "  </thead>\n",
              "  <tbody>\n",
              "    <tr>\n",
              "      <th>0</th>\n",
              "      <td>0.00632</td>\n",
              "      <td>24.0</td>\n",
              "    </tr>\n",
              "    <tr>\n",
              "      <th>1</th>\n",
              "      <td>0.02731</td>\n",
              "      <td>21.6</td>\n",
              "    </tr>\n",
              "    <tr>\n",
              "      <th>2</th>\n",
              "      <td>0.02729</td>\n",
              "      <td>34.7</td>\n",
              "    </tr>\n",
              "    <tr>\n",
              "      <th>3</th>\n",
              "      <td>0.03237</td>\n",
              "      <td>33.4</td>\n",
              "    </tr>\n",
              "    <tr>\n",
              "      <th>4</th>\n",
              "      <td>0.06905</td>\n",
              "      <td>36.2</td>\n",
              "    </tr>\n",
              "    <tr>\n",
              "      <th>...</th>\n",
              "      <td>...</td>\n",
              "      <td>...</td>\n",
              "    </tr>\n",
              "    <tr>\n",
              "      <th>20</th>\n",
              "      <td>1.25179</td>\n",
              "      <td>13.6</td>\n",
              "    </tr>\n",
              "    <tr>\n",
              "      <th>21</th>\n",
              "      <td>0.85204</td>\n",
              "      <td>19.6</td>\n",
              "    </tr>\n",
              "    <tr>\n",
              "      <th>22</th>\n",
              "      <td>1.23247</td>\n",
              "      <td>15.2</td>\n",
              "    </tr>\n",
              "    <tr>\n",
              "      <th>23</th>\n",
              "      <td>0.98843</td>\n",
              "      <td>14.5</td>\n",
              "    </tr>\n",
              "    <tr>\n",
              "      <th>24</th>\n",
              "      <td>0.75026</td>\n",
              "      <td>15.6</td>\n",
              "    </tr>\n",
              "  </tbody>\n",
              "</table>\n",
              "<p>25 rows × 2 columns</p>\n",
              "</div>"
            ],
            "text/plain": [
              "       crim  medv\n",
              "0   0.00632  24.0\n",
              "1   0.02731  21.6\n",
              "2   0.02729  34.7\n",
              "3   0.03237  33.4\n",
              "4   0.06905  36.2\n",
              "..      ...   ...\n",
              "20  1.25179  13.6\n",
              "21  0.85204  19.6\n",
              "22  1.23247  15.2\n",
              "23  0.98843  14.5\n",
              "24  0.75026  15.6\n",
              "\n",
              "[25 rows x 2 columns]"
            ]
          },
          "metadata": {
            "tags": []
          },
          "execution_count": 69
        }
      ]
    },
    {
      "cell_type": "markdown",
      "metadata": {
        "id": "9SC6viQ2ZiS9"
      },
      "source": [
        "**24\\.** Как получить кол-во строк, кол-во столбцов, тип столбцов, кол-во столбцов с таким типом данных, итоговую статистику каждого столбца датафрейма?  (★☆☆)"
      ]
    },
    {
      "cell_type": "code",
      "metadata": {
        "id": "Wxkq-HpMZiS-",
        "colab": {
          "base_uri": "https://localhost:8080/",
          "height": 317
        },
        "outputId": "01f96b5c-e999-4944-adfb-2c7fe0faf472"
      },
      "source": [
        "df = pd.read_csv('https://raw.githubusercontent.com/selva86/datasets/master/Cars93_miss.csv')\n",
        "\n",
        "#  number of rows and columns\n",
        "df.shape\n",
        "# datatypes\n",
        "df.dtypes\n",
        "# how many columns under each dtype\n",
        "df.dtypes.value_counts()\n",
        "# summary statistics\n",
        "df.describe()"
      ],
      "execution_count": null,
      "outputs": [
        {
          "output_type": "execute_result",
          "data": {
            "text/html": [
              "<div>\n",
              "<style scoped>\n",
              "    .dataframe tbody tr th:only-of-type {\n",
              "        vertical-align: middle;\n",
              "    }\n",
              "\n",
              "    .dataframe tbody tr th {\n",
              "        vertical-align: top;\n",
              "    }\n",
              "\n",
              "    .dataframe thead th {\n",
              "        text-align: right;\n",
              "    }\n",
              "</style>\n",
              "<table border=\"1\" class=\"dataframe\">\n",
              "  <thead>\n",
              "    <tr style=\"text-align: right;\">\n",
              "      <th></th>\n",
              "      <th>Min.Price</th>\n",
              "      <th>Price</th>\n",
              "      <th>Max.Price</th>\n",
              "      <th>MPG.city</th>\n",
              "      <th>MPG.highway</th>\n",
              "      <th>EngineSize</th>\n",
              "      <th>Horsepower</th>\n",
              "      <th>RPM</th>\n",
              "      <th>Rev.per.mile</th>\n",
              "      <th>Fuel.tank.capacity</th>\n",
              "      <th>Passengers</th>\n",
              "      <th>Length</th>\n",
              "      <th>Wheelbase</th>\n",
              "      <th>Width</th>\n",
              "      <th>Turn.circle</th>\n",
              "      <th>Rear.seat.room</th>\n",
              "      <th>Luggage.room</th>\n",
              "      <th>Weight</th>\n",
              "    </tr>\n",
              "  </thead>\n",
              "  <tbody>\n",
              "    <tr>\n",
              "      <th>count</th>\n",
              "      <td>86.000000</td>\n",
              "      <td>91.000000</td>\n",
              "      <td>88.000000</td>\n",
              "      <td>84.000000</td>\n",
              "      <td>91.000000</td>\n",
              "      <td>91.000000</td>\n",
              "      <td>86.000000</td>\n",
              "      <td>90.000000</td>\n",
              "      <td>87.000000</td>\n",
              "      <td>85.000000</td>\n",
              "      <td>91.000000</td>\n",
              "      <td>89.000000</td>\n",
              "      <td>92.000000</td>\n",
              "      <td>87.000000</td>\n",
              "      <td>88.000000</td>\n",
              "      <td>89.000000</td>\n",
              "      <td>74.000000</td>\n",
              "      <td>86.000000</td>\n",
              "    </tr>\n",
              "    <tr>\n",
              "      <th>mean</th>\n",
              "      <td>17.118605</td>\n",
              "      <td>19.616484</td>\n",
              "      <td>21.459091</td>\n",
              "      <td>22.404762</td>\n",
              "      <td>29.065934</td>\n",
              "      <td>2.658242</td>\n",
              "      <td>144.000000</td>\n",
              "      <td>5276.666667</td>\n",
              "      <td>2355.000000</td>\n",
              "      <td>16.683529</td>\n",
              "      <td>5.076923</td>\n",
              "      <td>182.865169</td>\n",
              "      <td>103.956522</td>\n",
              "      <td>69.448276</td>\n",
              "      <td>38.954545</td>\n",
              "      <td>27.853933</td>\n",
              "      <td>13.986486</td>\n",
              "      <td>3104.593023</td>\n",
              "    </tr>\n",
              "    <tr>\n",
              "      <th>std</th>\n",
              "      <td>8.828290</td>\n",
              "      <td>9.724280</td>\n",
              "      <td>10.696563</td>\n",
              "      <td>5.841520</td>\n",
              "      <td>5.370293</td>\n",
              "      <td>1.045845</td>\n",
              "      <td>53.455204</td>\n",
              "      <td>605.554811</td>\n",
              "      <td>486.916616</td>\n",
              "      <td>3.375748</td>\n",
              "      <td>1.045953</td>\n",
              "      <td>14.792651</td>\n",
              "      <td>6.856317</td>\n",
              "      <td>3.778023</td>\n",
              "      <td>3.304157</td>\n",
              "      <td>3.018129</td>\n",
              "      <td>3.120824</td>\n",
              "      <td>600.129993</td>\n",
              "    </tr>\n",
              "    <tr>\n",
              "      <th>min</th>\n",
              "      <td>6.700000</td>\n",
              "      <td>7.400000</td>\n",
              "      <td>7.900000</td>\n",
              "      <td>15.000000</td>\n",
              "      <td>20.000000</td>\n",
              "      <td>1.000000</td>\n",
              "      <td>55.000000</td>\n",
              "      <td>3800.000000</td>\n",
              "      <td>1320.000000</td>\n",
              "      <td>9.200000</td>\n",
              "      <td>2.000000</td>\n",
              "      <td>141.000000</td>\n",
              "      <td>90.000000</td>\n",
              "      <td>60.000000</td>\n",
              "      <td>32.000000</td>\n",
              "      <td>19.000000</td>\n",
              "      <td>6.000000</td>\n",
              "      <td>1695.000000</td>\n",
              "    </tr>\n",
              "    <tr>\n",
              "      <th>25%</th>\n",
              "      <td>10.825000</td>\n",
              "      <td>12.350000</td>\n",
              "      <td>14.575000</td>\n",
              "      <td>18.000000</td>\n",
              "      <td>26.000000</td>\n",
              "      <td>1.800000</td>\n",
              "      <td>100.750000</td>\n",
              "      <td>4800.000000</td>\n",
              "      <td>2017.500000</td>\n",
              "      <td>14.500000</td>\n",
              "      <td>4.000000</td>\n",
              "      <td>174.000000</td>\n",
              "      <td>98.000000</td>\n",
              "      <td>67.000000</td>\n",
              "      <td>36.000000</td>\n",
              "      <td>26.000000</td>\n",
              "      <td>12.000000</td>\n",
              "      <td>2647.500000</td>\n",
              "    </tr>\n",
              "    <tr>\n",
              "      <th>50%</th>\n",
              "      <td>14.600000</td>\n",
              "      <td>17.700000</td>\n",
              "      <td>19.150000</td>\n",
              "      <td>21.000000</td>\n",
              "      <td>28.000000</td>\n",
              "      <td>2.300000</td>\n",
              "      <td>140.000000</td>\n",
              "      <td>5200.000000</td>\n",
              "      <td>2360.000000</td>\n",
              "      <td>16.500000</td>\n",
              "      <td>5.000000</td>\n",
              "      <td>181.000000</td>\n",
              "      <td>103.000000</td>\n",
              "      <td>69.000000</td>\n",
              "      <td>39.000000</td>\n",
              "      <td>27.500000</td>\n",
              "      <td>14.000000</td>\n",
              "      <td>3085.000000</td>\n",
              "    </tr>\n",
              "    <tr>\n",
              "      <th>75%</th>\n",
              "      <td>20.250000</td>\n",
              "      <td>23.500000</td>\n",
              "      <td>24.825000</td>\n",
              "      <td>25.000000</td>\n",
              "      <td>31.000000</td>\n",
              "      <td>3.250000</td>\n",
              "      <td>170.000000</td>\n",
              "      <td>5787.500000</td>\n",
              "      <td>2565.000000</td>\n",
              "      <td>19.000000</td>\n",
              "      <td>6.000000</td>\n",
              "      <td>192.000000</td>\n",
              "      <td>110.000000</td>\n",
              "      <td>72.000000</td>\n",
              "      <td>42.000000</td>\n",
              "      <td>30.000000</td>\n",
              "      <td>16.000000</td>\n",
              "      <td>3567.500000</td>\n",
              "    </tr>\n",
              "    <tr>\n",
              "      <th>max</th>\n",
              "      <td>45.400000</td>\n",
              "      <td>61.900000</td>\n",
              "      <td>80.000000</td>\n",
              "      <td>46.000000</td>\n",
              "      <td>50.000000</td>\n",
              "      <td>5.700000</td>\n",
              "      <td>300.000000</td>\n",
              "      <td>6500.000000</td>\n",
              "      <td>3755.000000</td>\n",
              "      <td>27.000000</td>\n",
              "      <td>8.000000</td>\n",
              "      <td>219.000000</td>\n",
              "      <td>119.000000</td>\n",
              "      <td>78.000000</td>\n",
              "      <td>45.000000</td>\n",
              "      <td>36.000000</td>\n",
              "      <td>22.000000</td>\n",
              "      <td>4105.000000</td>\n",
              "    </tr>\n",
              "  </tbody>\n",
              "</table>\n",
              "</div>"
            ],
            "text/plain": [
              "       Min.Price      Price  ...  Luggage.room       Weight\n",
              "count  86.000000  91.000000  ...     74.000000    86.000000\n",
              "mean   17.118605  19.616484  ...     13.986486  3104.593023\n",
              "std     8.828290   9.724280  ...      3.120824   600.129993\n",
              "min     6.700000   7.400000  ...      6.000000  1695.000000\n",
              "25%    10.825000  12.350000  ...     12.000000  2647.500000\n",
              "50%    14.600000  17.700000  ...     14.000000  3085.000000\n",
              "75%    20.250000  23.500000  ...     16.000000  3567.500000\n",
              "max    45.400000  61.900000  ...     22.000000  4105.000000\n",
              "\n",
              "[8 rows x 18 columns]"
            ]
          },
          "metadata": {
            "tags": []
          },
          "execution_count": 33
        }
      ]
    },
    {
      "cell_type": "markdown",
      "metadata": {
        "id": "kPv4JHReZiS-"
      },
      "source": [
        "**25\\.** Как извлечь номер строки и столбца конкретной ячейки с заданным критерием? (★☆☆)"
      ]
    },
    {
      "cell_type": "code",
      "metadata": {
        "id": "Q7WnNcqoZiS-",
        "colab": {
          "base_uri": "https://localhost:8080/"
        },
        "outputId": "8a71b5d3-a190-4aea-ce12-43f5ed094dde"
      },
      "source": [
        "df = pd.read_csv('https://raw.githubusercontent.com/selva86/datasets/master/Cars93_miss.csv')\n",
        "\n",
        "df.loc[df['Price'].idxmax()].Manufacturer\n",
        "df.loc[df['Price'].idxmax()].name, df.columns.get_loc('Price')\n",
        "df.loc[df['Price'].idxmax()].Price\n",
        "\n",
        "\n"
      ],
      "execution_count": null,
      "outputs": [
        {
          "output_type": "execute_result",
          "data": {
            "text/plain": [
              "61.9"
            ]
          },
          "metadata": {
            "tags": []
          },
          "execution_count": 34
        }
      ]
    },
    {
      "cell_type": "markdown",
      "metadata": {
        "id": "uUVyawg-ZiS-"
      },
      "source": [
        "**26\\.** Переименнуйте колонку Type в CarType, в столбцах с '.' в названии замените её на '_'. Как добавить ко всем названиям колонок суффиксы?  (★☆☆)"
      ]
    },
    {
      "cell_type": "code",
      "metadata": {
        "id": "ScnKoGqQZiS_",
        "colab": {
          "base_uri": "https://localhost:8080/",
          "height": 558
        },
        "outputId": "0a572ed5-e9e1-4d08-941a-ae5962bcb59d"
      },
      "source": [
        "df = pd.read_csv('https://raw.githubusercontent.com/selva86/datasets/master/Cars93_miss.csv')\n",
        "\n",
        "#your code\n",
        "df = df.rename(columns={'Type': 'CarType'})\n",
        "df.columns = df.columns.str.replace('.', '_')\n",
        "df.add_suffix('suffix')"
      ],
      "execution_count": null,
      "outputs": [
        {
          "output_type": "execute_result",
          "data": {
            "text/html": [
              "<div>\n",
              "<style scoped>\n",
              "    .dataframe tbody tr th:only-of-type {\n",
              "        vertical-align: middle;\n",
              "    }\n",
              "\n",
              "    .dataframe tbody tr th {\n",
              "        vertical-align: top;\n",
              "    }\n",
              "\n",
              "    .dataframe thead th {\n",
              "        text-align: right;\n",
              "    }\n",
              "</style>\n",
              "<table border=\"1\" class=\"dataframe\">\n",
              "  <thead>\n",
              "    <tr style=\"text-align: right;\">\n",
              "      <th></th>\n",
              "      <th>Manufacturersuffix</th>\n",
              "      <th>Modelsuffix</th>\n",
              "      <th>CarTypesuffix</th>\n",
              "      <th>Min_Pricesuffix</th>\n",
              "      <th>Pricesuffix</th>\n",
              "      <th>Max_Pricesuffix</th>\n",
              "      <th>MPG_citysuffix</th>\n",
              "      <th>MPG_highwaysuffix</th>\n",
              "      <th>AirBagssuffix</th>\n",
              "      <th>DriveTrainsuffix</th>\n",
              "      <th>Cylinderssuffix</th>\n",
              "      <th>EngineSizesuffix</th>\n",
              "      <th>Horsepowersuffix</th>\n",
              "      <th>RPMsuffix</th>\n",
              "      <th>Rev_per_milesuffix</th>\n",
              "      <th>Man_trans_availsuffix</th>\n",
              "      <th>Fuel_tank_capacitysuffix</th>\n",
              "      <th>Passengerssuffix</th>\n",
              "      <th>Lengthsuffix</th>\n",
              "      <th>Wheelbasesuffix</th>\n",
              "      <th>Widthsuffix</th>\n",
              "      <th>Turn_circlesuffix</th>\n",
              "      <th>Rear_seat_roomsuffix</th>\n",
              "      <th>Luggage_roomsuffix</th>\n",
              "      <th>Weightsuffix</th>\n",
              "      <th>Originsuffix</th>\n",
              "      <th>Makesuffix</th>\n",
              "    </tr>\n",
              "  </thead>\n",
              "  <tbody>\n",
              "    <tr>\n",
              "      <th>0</th>\n",
              "      <td>Acura</td>\n",
              "      <td>Integra</td>\n",
              "      <td>Small</td>\n",
              "      <td>12.9</td>\n",
              "      <td>15.9</td>\n",
              "      <td>18.8</td>\n",
              "      <td>25.0</td>\n",
              "      <td>31.0</td>\n",
              "      <td>None</td>\n",
              "      <td>Front</td>\n",
              "      <td>4</td>\n",
              "      <td>1.8</td>\n",
              "      <td>140.0</td>\n",
              "      <td>6300.0</td>\n",
              "      <td>2890.0</td>\n",
              "      <td>Yes</td>\n",
              "      <td>13.2</td>\n",
              "      <td>5.0</td>\n",
              "      <td>177.0</td>\n",
              "      <td>102.0</td>\n",
              "      <td>68.0</td>\n",
              "      <td>37.0</td>\n",
              "      <td>26.5</td>\n",
              "      <td>NaN</td>\n",
              "      <td>2705.0</td>\n",
              "      <td>non-USA</td>\n",
              "      <td>Acura Integra</td>\n",
              "    </tr>\n",
              "    <tr>\n",
              "      <th>1</th>\n",
              "      <td>NaN</td>\n",
              "      <td>Legend</td>\n",
              "      <td>Midsize</td>\n",
              "      <td>29.2</td>\n",
              "      <td>33.9</td>\n",
              "      <td>38.7</td>\n",
              "      <td>18.0</td>\n",
              "      <td>25.0</td>\n",
              "      <td>Driver &amp; Passenger</td>\n",
              "      <td>Front</td>\n",
              "      <td>6</td>\n",
              "      <td>3.2</td>\n",
              "      <td>200.0</td>\n",
              "      <td>5500.0</td>\n",
              "      <td>2335.0</td>\n",
              "      <td>Yes</td>\n",
              "      <td>18.0</td>\n",
              "      <td>5.0</td>\n",
              "      <td>195.0</td>\n",
              "      <td>115.0</td>\n",
              "      <td>71.0</td>\n",
              "      <td>38.0</td>\n",
              "      <td>30.0</td>\n",
              "      <td>15.0</td>\n",
              "      <td>3560.0</td>\n",
              "      <td>non-USA</td>\n",
              "      <td>Acura Legend</td>\n",
              "    </tr>\n",
              "    <tr>\n",
              "      <th>2</th>\n",
              "      <td>Audi</td>\n",
              "      <td>90</td>\n",
              "      <td>Compact</td>\n",
              "      <td>25.9</td>\n",
              "      <td>29.1</td>\n",
              "      <td>32.3</td>\n",
              "      <td>20.0</td>\n",
              "      <td>26.0</td>\n",
              "      <td>Driver only</td>\n",
              "      <td>Front</td>\n",
              "      <td>6</td>\n",
              "      <td>2.8</td>\n",
              "      <td>172.0</td>\n",
              "      <td>5500.0</td>\n",
              "      <td>2280.0</td>\n",
              "      <td>Yes</td>\n",
              "      <td>16.9</td>\n",
              "      <td>5.0</td>\n",
              "      <td>180.0</td>\n",
              "      <td>102.0</td>\n",
              "      <td>67.0</td>\n",
              "      <td>37.0</td>\n",
              "      <td>28.0</td>\n",
              "      <td>14.0</td>\n",
              "      <td>3375.0</td>\n",
              "      <td>non-USA</td>\n",
              "      <td>Audi 90</td>\n",
              "    </tr>\n",
              "    <tr>\n",
              "      <th>3</th>\n",
              "      <td>Audi</td>\n",
              "      <td>100</td>\n",
              "      <td>Midsize</td>\n",
              "      <td>NaN</td>\n",
              "      <td>37.7</td>\n",
              "      <td>44.6</td>\n",
              "      <td>19.0</td>\n",
              "      <td>26.0</td>\n",
              "      <td>Driver &amp; Passenger</td>\n",
              "      <td>NaN</td>\n",
              "      <td>6</td>\n",
              "      <td>NaN</td>\n",
              "      <td>172.0</td>\n",
              "      <td>5500.0</td>\n",
              "      <td>2535.0</td>\n",
              "      <td>NaN</td>\n",
              "      <td>21.1</td>\n",
              "      <td>6.0</td>\n",
              "      <td>193.0</td>\n",
              "      <td>106.0</td>\n",
              "      <td>NaN</td>\n",
              "      <td>37.0</td>\n",
              "      <td>31.0</td>\n",
              "      <td>17.0</td>\n",
              "      <td>3405.0</td>\n",
              "      <td>non-USA</td>\n",
              "      <td>Audi 100</td>\n",
              "    </tr>\n",
              "    <tr>\n",
              "      <th>4</th>\n",
              "      <td>BMW</td>\n",
              "      <td>535i</td>\n",
              "      <td>Midsize</td>\n",
              "      <td>NaN</td>\n",
              "      <td>30.0</td>\n",
              "      <td>NaN</td>\n",
              "      <td>22.0</td>\n",
              "      <td>30.0</td>\n",
              "      <td>NaN</td>\n",
              "      <td>Rear</td>\n",
              "      <td>4</td>\n",
              "      <td>3.5</td>\n",
              "      <td>208.0</td>\n",
              "      <td>5700.0</td>\n",
              "      <td>2545.0</td>\n",
              "      <td>Yes</td>\n",
              "      <td>21.1</td>\n",
              "      <td>4.0</td>\n",
              "      <td>186.0</td>\n",
              "      <td>109.0</td>\n",
              "      <td>69.0</td>\n",
              "      <td>39.0</td>\n",
              "      <td>27.0</td>\n",
              "      <td>13.0</td>\n",
              "      <td>3640.0</td>\n",
              "      <td>non-USA</td>\n",
              "      <td>BMW 535i</td>\n",
              "    </tr>\n",
              "    <tr>\n",
              "      <th>...</th>\n",
              "      <td>...</td>\n",
              "      <td>...</td>\n",
              "      <td>...</td>\n",
              "      <td>...</td>\n",
              "      <td>...</td>\n",
              "      <td>...</td>\n",
              "      <td>...</td>\n",
              "      <td>...</td>\n",
              "      <td>...</td>\n",
              "      <td>...</td>\n",
              "      <td>...</td>\n",
              "      <td>...</td>\n",
              "      <td>...</td>\n",
              "      <td>...</td>\n",
              "      <td>...</td>\n",
              "      <td>...</td>\n",
              "      <td>...</td>\n",
              "      <td>...</td>\n",
              "      <td>...</td>\n",
              "      <td>...</td>\n",
              "      <td>...</td>\n",
              "      <td>...</td>\n",
              "      <td>...</td>\n",
              "      <td>...</td>\n",
              "      <td>...</td>\n",
              "      <td>...</td>\n",
              "      <td>...</td>\n",
              "    </tr>\n",
              "    <tr>\n",
              "      <th>88</th>\n",
              "      <td>Volkswagen</td>\n",
              "      <td>Eurovan</td>\n",
              "      <td>Van</td>\n",
              "      <td>16.6</td>\n",
              "      <td>19.7</td>\n",
              "      <td>22.7</td>\n",
              "      <td>17.0</td>\n",
              "      <td>21.0</td>\n",
              "      <td>None</td>\n",
              "      <td>Front</td>\n",
              "      <td>5</td>\n",
              "      <td>2.5</td>\n",
              "      <td>109.0</td>\n",
              "      <td>4500.0</td>\n",
              "      <td>2915.0</td>\n",
              "      <td>Yes</td>\n",
              "      <td>21.1</td>\n",
              "      <td>7.0</td>\n",
              "      <td>187.0</td>\n",
              "      <td>115.0</td>\n",
              "      <td>72.0</td>\n",
              "      <td>38.0</td>\n",
              "      <td>34.0</td>\n",
              "      <td>NaN</td>\n",
              "      <td>3960.0</td>\n",
              "      <td>NaN</td>\n",
              "      <td>Volkswagen Eurovan</td>\n",
              "    </tr>\n",
              "    <tr>\n",
              "      <th>89</th>\n",
              "      <td>Volkswagen</td>\n",
              "      <td>Passat</td>\n",
              "      <td>Compact</td>\n",
              "      <td>17.6</td>\n",
              "      <td>20.0</td>\n",
              "      <td>22.4</td>\n",
              "      <td>21.0</td>\n",
              "      <td>30.0</td>\n",
              "      <td>None</td>\n",
              "      <td>Front</td>\n",
              "      <td>4</td>\n",
              "      <td>2.0</td>\n",
              "      <td>134.0</td>\n",
              "      <td>5800.0</td>\n",
              "      <td>2685.0</td>\n",
              "      <td>Yes</td>\n",
              "      <td>18.5</td>\n",
              "      <td>5.0</td>\n",
              "      <td>180.0</td>\n",
              "      <td>103.0</td>\n",
              "      <td>67.0</td>\n",
              "      <td>35.0</td>\n",
              "      <td>31.5</td>\n",
              "      <td>14.0</td>\n",
              "      <td>2985.0</td>\n",
              "      <td>non-USA</td>\n",
              "      <td>Volkswagen Passat</td>\n",
              "    </tr>\n",
              "    <tr>\n",
              "      <th>90</th>\n",
              "      <td>Volkswagen</td>\n",
              "      <td>Corrado</td>\n",
              "      <td>Sporty</td>\n",
              "      <td>22.9</td>\n",
              "      <td>23.3</td>\n",
              "      <td>23.7</td>\n",
              "      <td>18.0</td>\n",
              "      <td>25.0</td>\n",
              "      <td>None</td>\n",
              "      <td>Front</td>\n",
              "      <td>6</td>\n",
              "      <td>2.8</td>\n",
              "      <td>178.0</td>\n",
              "      <td>5800.0</td>\n",
              "      <td>2385.0</td>\n",
              "      <td>Yes</td>\n",
              "      <td>18.5</td>\n",
              "      <td>4.0</td>\n",
              "      <td>159.0</td>\n",
              "      <td>97.0</td>\n",
              "      <td>66.0</td>\n",
              "      <td>36.0</td>\n",
              "      <td>26.0</td>\n",
              "      <td>15.0</td>\n",
              "      <td>2810.0</td>\n",
              "      <td>non-USA</td>\n",
              "      <td>Volkswagen Corrado</td>\n",
              "    </tr>\n",
              "    <tr>\n",
              "      <th>91</th>\n",
              "      <td>Volvo</td>\n",
              "      <td>240</td>\n",
              "      <td>Compact</td>\n",
              "      <td>21.8</td>\n",
              "      <td>22.7</td>\n",
              "      <td>23.5</td>\n",
              "      <td>21.0</td>\n",
              "      <td>28.0</td>\n",
              "      <td>Driver only</td>\n",
              "      <td>Rear</td>\n",
              "      <td>NaN</td>\n",
              "      <td>2.3</td>\n",
              "      <td>114.0</td>\n",
              "      <td>5400.0</td>\n",
              "      <td>2215.0</td>\n",
              "      <td>Yes</td>\n",
              "      <td>15.8</td>\n",
              "      <td>5.0</td>\n",
              "      <td>190.0</td>\n",
              "      <td>104.0</td>\n",
              "      <td>67.0</td>\n",
              "      <td>37.0</td>\n",
              "      <td>29.5</td>\n",
              "      <td>14.0</td>\n",
              "      <td>2985.0</td>\n",
              "      <td>non-USA</td>\n",
              "      <td>Volvo 240</td>\n",
              "    </tr>\n",
              "    <tr>\n",
              "      <th>92</th>\n",
              "      <td>NaN</td>\n",
              "      <td>850</td>\n",
              "      <td>Midsize</td>\n",
              "      <td>24.8</td>\n",
              "      <td>26.7</td>\n",
              "      <td>28.5</td>\n",
              "      <td>20.0</td>\n",
              "      <td>28.0</td>\n",
              "      <td>Driver &amp; Passenger</td>\n",
              "      <td>Front</td>\n",
              "      <td>5</td>\n",
              "      <td>2.4</td>\n",
              "      <td>168.0</td>\n",
              "      <td>6200.0</td>\n",
              "      <td>NaN</td>\n",
              "      <td>Yes</td>\n",
              "      <td>19.3</td>\n",
              "      <td>5.0</td>\n",
              "      <td>184.0</td>\n",
              "      <td>105.0</td>\n",
              "      <td>69.0</td>\n",
              "      <td>38.0</td>\n",
              "      <td>30.0</td>\n",
              "      <td>15.0</td>\n",
              "      <td>3245.0</td>\n",
              "      <td>non-USA</td>\n",
              "      <td>Volvo 850</td>\n",
              "    </tr>\n",
              "  </tbody>\n",
              "</table>\n",
              "<p>93 rows × 27 columns</p>\n",
              "</div>"
            ],
            "text/plain": [
              "   Manufacturersuffix Modelsuffix  ... Originsuffix          Makesuffix\n",
              "0               Acura     Integra  ...      non-USA       Acura Integra\n",
              "1                 NaN      Legend  ...      non-USA        Acura Legend\n",
              "2                Audi          90  ...      non-USA             Audi 90\n",
              "3                Audi         100  ...      non-USA            Audi 100\n",
              "4                 BMW        535i  ...      non-USA            BMW 535i\n",
              "..                ...         ...  ...          ...                 ...\n",
              "88         Volkswagen     Eurovan  ...          NaN  Volkswagen Eurovan\n",
              "89         Volkswagen      Passat  ...      non-USA   Volkswagen Passat\n",
              "90         Volkswagen     Corrado  ...      non-USA  Volkswagen Corrado\n",
              "91              Volvo         240  ...      non-USA           Volvo 240\n",
              "92                NaN         850  ...      non-USA           Volvo 850\n",
              "\n",
              "[93 rows x 27 columns]"
            ]
          },
          "metadata": {
            "tags": []
          },
          "execution_count": 35
        }
      ]
    },
    {
      "cell_type": "markdown",
      "metadata": {
        "id": "trOohNnTZiTA"
      },
      "source": [
        "**27\\.** Проверьте есть ли в датафрейме пропуски? Если да, посчитайте кол-во nan\\none в каждом столбце датафрейма  (★★☆)"
      ]
    },
    {
      "cell_type": "code",
      "metadata": {
        "id": "N-tZScrOZiTA",
        "colab": {
          "base_uri": "https://localhost:8080/"
        },
        "outputId": "50516d91-ffd7-485a-db15-fa4a7358c2bb"
      },
      "source": [
        "df = pd.read_csv('https://raw.githubusercontent.com/selva86/datasets/master/Cars93_miss.csv')\n",
        "\n",
        "#your code\n",
        "df.isna().sum()"
      ],
      "execution_count": null,
      "outputs": [
        {
          "output_type": "execute_result",
          "data": {
            "text/plain": [
              "Manufacturer           4\n",
              "Model                  1\n",
              "Type                   3\n",
              "Min.Price              7\n",
              "Price                  2\n",
              "Max.Price              5\n",
              "MPG.city               9\n",
              "MPG.highway            2\n",
              "AirBags                6\n",
              "DriveTrain             7\n",
              "Cylinders              5\n",
              "EngineSize             2\n",
              "Horsepower             7\n",
              "RPM                    3\n",
              "Rev.per.mile           6\n",
              "Man.trans.avail        5\n",
              "Fuel.tank.capacity     8\n",
              "Passengers             2\n",
              "Length                 4\n",
              "Wheelbase              1\n",
              "Width                  6\n",
              "Turn.circle            5\n",
              "Rear.seat.room         4\n",
              "Luggage.room          19\n",
              "Weight                 7\n",
              "Origin                 5\n",
              "Make                   3\n",
              "dtype: int64"
            ]
          },
          "metadata": {
            "tags": []
          },
          "execution_count": 36
        }
      ]
    },
    {
      "cell_type": "markdown",
      "metadata": {
        "id": "9iow1K8VZiTB"
      },
      "source": [
        "**28\\.** Как заменить отсутствующие значения нескольких числовых столбцов средним?  (★★☆)"
      ]
    },
    {
      "cell_type": "code",
      "metadata": {
        "id": "sNKgSp4IZiTB",
        "colab": {
          "base_uri": "https://localhost:8080/",
          "height": 609
        },
        "outputId": "a82f13d3-052e-4709-80f3-945e91d1eeec"
      },
      "source": [
        "df = pd.read_csv('https://raw.githubusercontent.com/selva86/datasets/master/Cars93_miss.csv')\n",
        "\n",
        "#your code\n",
        "df.fillna(df.mean())"
      ],
      "execution_count": null,
      "outputs": [
        {
          "output_type": "execute_result",
          "data": {
            "text/html": [
              "<div>\n",
              "<style scoped>\n",
              "    .dataframe tbody tr th:only-of-type {\n",
              "        vertical-align: middle;\n",
              "    }\n",
              "\n",
              "    .dataframe tbody tr th {\n",
              "        vertical-align: top;\n",
              "    }\n",
              "\n",
              "    .dataframe thead th {\n",
              "        text-align: right;\n",
              "    }\n",
              "</style>\n",
              "<table border=\"1\" class=\"dataframe\">\n",
              "  <thead>\n",
              "    <tr style=\"text-align: right;\">\n",
              "      <th></th>\n",
              "      <th>Manufacturer</th>\n",
              "      <th>Model</th>\n",
              "      <th>Type</th>\n",
              "      <th>Min.Price</th>\n",
              "      <th>Price</th>\n",
              "      <th>Max.Price</th>\n",
              "      <th>MPG.city</th>\n",
              "      <th>MPG.highway</th>\n",
              "      <th>AirBags</th>\n",
              "      <th>DriveTrain</th>\n",
              "      <th>Cylinders</th>\n",
              "      <th>EngineSize</th>\n",
              "      <th>Horsepower</th>\n",
              "      <th>RPM</th>\n",
              "      <th>Rev.per.mile</th>\n",
              "      <th>Man.trans.avail</th>\n",
              "      <th>Fuel.tank.capacity</th>\n",
              "      <th>Passengers</th>\n",
              "      <th>Length</th>\n",
              "      <th>Wheelbase</th>\n",
              "      <th>Width</th>\n",
              "      <th>Turn.circle</th>\n",
              "      <th>Rear.seat.room</th>\n",
              "      <th>Luggage.room</th>\n",
              "      <th>Weight</th>\n",
              "      <th>Origin</th>\n",
              "      <th>Make</th>\n",
              "    </tr>\n",
              "  </thead>\n",
              "  <tbody>\n",
              "    <tr>\n",
              "      <th>0</th>\n",
              "      <td>Acura</td>\n",
              "      <td>Integra</td>\n",
              "      <td>Small</td>\n",
              "      <td>12.900000</td>\n",
              "      <td>15.9</td>\n",
              "      <td>18.800000</td>\n",
              "      <td>25.0</td>\n",
              "      <td>31.0</td>\n",
              "      <td>None</td>\n",
              "      <td>Front</td>\n",
              "      <td>4</td>\n",
              "      <td>1.800000</td>\n",
              "      <td>140.0</td>\n",
              "      <td>6300.0</td>\n",
              "      <td>2890.0</td>\n",
              "      <td>Yes</td>\n",
              "      <td>13.2</td>\n",
              "      <td>5.0</td>\n",
              "      <td>177.0</td>\n",
              "      <td>102.0</td>\n",
              "      <td>68.000000</td>\n",
              "      <td>37.0</td>\n",
              "      <td>26.5</td>\n",
              "      <td>13.986486</td>\n",
              "      <td>2705.0</td>\n",
              "      <td>non-USA</td>\n",
              "      <td>Acura Integra</td>\n",
              "    </tr>\n",
              "    <tr>\n",
              "      <th>1</th>\n",
              "      <td>NaN</td>\n",
              "      <td>Legend</td>\n",
              "      <td>Midsize</td>\n",
              "      <td>29.200000</td>\n",
              "      <td>33.9</td>\n",
              "      <td>38.700000</td>\n",
              "      <td>18.0</td>\n",
              "      <td>25.0</td>\n",
              "      <td>Driver &amp; Passenger</td>\n",
              "      <td>Front</td>\n",
              "      <td>6</td>\n",
              "      <td>3.200000</td>\n",
              "      <td>200.0</td>\n",
              "      <td>5500.0</td>\n",
              "      <td>2335.0</td>\n",
              "      <td>Yes</td>\n",
              "      <td>18.0</td>\n",
              "      <td>5.0</td>\n",
              "      <td>195.0</td>\n",
              "      <td>115.0</td>\n",
              "      <td>71.000000</td>\n",
              "      <td>38.0</td>\n",
              "      <td>30.0</td>\n",
              "      <td>15.000000</td>\n",
              "      <td>3560.0</td>\n",
              "      <td>non-USA</td>\n",
              "      <td>Acura Legend</td>\n",
              "    </tr>\n",
              "    <tr>\n",
              "      <th>2</th>\n",
              "      <td>Audi</td>\n",
              "      <td>90</td>\n",
              "      <td>Compact</td>\n",
              "      <td>25.900000</td>\n",
              "      <td>29.1</td>\n",
              "      <td>32.300000</td>\n",
              "      <td>20.0</td>\n",
              "      <td>26.0</td>\n",
              "      <td>Driver only</td>\n",
              "      <td>Front</td>\n",
              "      <td>6</td>\n",
              "      <td>2.800000</td>\n",
              "      <td>172.0</td>\n",
              "      <td>5500.0</td>\n",
              "      <td>2280.0</td>\n",
              "      <td>Yes</td>\n",
              "      <td>16.9</td>\n",
              "      <td>5.0</td>\n",
              "      <td>180.0</td>\n",
              "      <td>102.0</td>\n",
              "      <td>67.000000</td>\n",
              "      <td>37.0</td>\n",
              "      <td>28.0</td>\n",
              "      <td>14.000000</td>\n",
              "      <td>3375.0</td>\n",
              "      <td>non-USA</td>\n",
              "      <td>Audi 90</td>\n",
              "    </tr>\n",
              "    <tr>\n",
              "      <th>3</th>\n",
              "      <td>Audi</td>\n",
              "      <td>100</td>\n",
              "      <td>Midsize</td>\n",
              "      <td>17.118605</td>\n",
              "      <td>37.7</td>\n",
              "      <td>44.600000</td>\n",
              "      <td>19.0</td>\n",
              "      <td>26.0</td>\n",
              "      <td>Driver &amp; Passenger</td>\n",
              "      <td>NaN</td>\n",
              "      <td>6</td>\n",
              "      <td>2.658242</td>\n",
              "      <td>172.0</td>\n",
              "      <td>5500.0</td>\n",
              "      <td>2535.0</td>\n",
              "      <td>NaN</td>\n",
              "      <td>21.1</td>\n",
              "      <td>6.0</td>\n",
              "      <td>193.0</td>\n",
              "      <td>106.0</td>\n",
              "      <td>69.448276</td>\n",
              "      <td>37.0</td>\n",
              "      <td>31.0</td>\n",
              "      <td>17.000000</td>\n",
              "      <td>3405.0</td>\n",
              "      <td>non-USA</td>\n",
              "      <td>Audi 100</td>\n",
              "    </tr>\n",
              "    <tr>\n",
              "      <th>4</th>\n",
              "      <td>BMW</td>\n",
              "      <td>535i</td>\n",
              "      <td>Midsize</td>\n",
              "      <td>17.118605</td>\n",
              "      <td>30.0</td>\n",
              "      <td>21.459091</td>\n",
              "      <td>22.0</td>\n",
              "      <td>30.0</td>\n",
              "      <td>NaN</td>\n",
              "      <td>Rear</td>\n",
              "      <td>4</td>\n",
              "      <td>3.500000</td>\n",
              "      <td>208.0</td>\n",
              "      <td>5700.0</td>\n",
              "      <td>2545.0</td>\n",
              "      <td>Yes</td>\n",
              "      <td>21.1</td>\n",
              "      <td>4.0</td>\n",
              "      <td>186.0</td>\n",
              "      <td>109.0</td>\n",
              "      <td>69.000000</td>\n",
              "      <td>39.0</td>\n",
              "      <td>27.0</td>\n",
              "      <td>13.000000</td>\n",
              "      <td>3640.0</td>\n",
              "      <td>non-USA</td>\n",
              "      <td>BMW 535i</td>\n",
              "    </tr>\n",
              "    <tr>\n",
              "      <th>...</th>\n",
              "      <td>...</td>\n",
              "      <td>...</td>\n",
              "      <td>...</td>\n",
              "      <td>...</td>\n",
              "      <td>...</td>\n",
              "      <td>...</td>\n",
              "      <td>...</td>\n",
              "      <td>...</td>\n",
              "      <td>...</td>\n",
              "      <td>...</td>\n",
              "      <td>...</td>\n",
              "      <td>...</td>\n",
              "      <td>...</td>\n",
              "      <td>...</td>\n",
              "      <td>...</td>\n",
              "      <td>...</td>\n",
              "      <td>...</td>\n",
              "      <td>...</td>\n",
              "      <td>...</td>\n",
              "      <td>...</td>\n",
              "      <td>...</td>\n",
              "      <td>...</td>\n",
              "      <td>...</td>\n",
              "      <td>...</td>\n",
              "      <td>...</td>\n",
              "      <td>...</td>\n",
              "      <td>...</td>\n",
              "    </tr>\n",
              "    <tr>\n",
              "      <th>88</th>\n",
              "      <td>Volkswagen</td>\n",
              "      <td>Eurovan</td>\n",
              "      <td>Van</td>\n",
              "      <td>16.600000</td>\n",
              "      <td>19.7</td>\n",
              "      <td>22.700000</td>\n",
              "      <td>17.0</td>\n",
              "      <td>21.0</td>\n",
              "      <td>None</td>\n",
              "      <td>Front</td>\n",
              "      <td>5</td>\n",
              "      <td>2.500000</td>\n",
              "      <td>109.0</td>\n",
              "      <td>4500.0</td>\n",
              "      <td>2915.0</td>\n",
              "      <td>Yes</td>\n",
              "      <td>21.1</td>\n",
              "      <td>7.0</td>\n",
              "      <td>187.0</td>\n",
              "      <td>115.0</td>\n",
              "      <td>72.000000</td>\n",
              "      <td>38.0</td>\n",
              "      <td>34.0</td>\n",
              "      <td>13.986486</td>\n",
              "      <td>3960.0</td>\n",
              "      <td>NaN</td>\n",
              "      <td>Volkswagen Eurovan</td>\n",
              "    </tr>\n",
              "    <tr>\n",
              "      <th>89</th>\n",
              "      <td>Volkswagen</td>\n",
              "      <td>Passat</td>\n",
              "      <td>Compact</td>\n",
              "      <td>17.600000</td>\n",
              "      <td>20.0</td>\n",
              "      <td>22.400000</td>\n",
              "      <td>21.0</td>\n",
              "      <td>30.0</td>\n",
              "      <td>None</td>\n",
              "      <td>Front</td>\n",
              "      <td>4</td>\n",
              "      <td>2.000000</td>\n",
              "      <td>134.0</td>\n",
              "      <td>5800.0</td>\n",
              "      <td>2685.0</td>\n",
              "      <td>Yes</td>\n",
              "      <td>18.5</td>\n",
              "      <td>5.0</td>\n",
              "      <td>180.0</td>\n",
              "      <td>103.0</td>\n",
              "      <td>67.000000</td>\n",
              "      <td>35.0</td>\n",
              "      <td>31.5</td>\n",
              "      <td>14.000000</td>\n",
              "      <td>2985.0</td>\n",
              "      <td>non-USA</td>\n",
              "      <td>Volkswagen Passat</td>\n",
              "    </tr>\n",
              "    <tr>\n",
              "      <th>90</th>\n",
              "      <td>Volkswagen</td>\n",
              "      <td>Corrado</td>\n",
              "      <td>Sporty</td>\n",
              "      <td>22.900000</td>\n",
              "      <td>23.3</td>\n",
              "      <td>23.700000</td>\n",
              "      <td>18.0</td>\n",
              "      <td>25.0</td>\n",
              "      <td>None</td>\n",
              "      <td>Front</td>\n",
              "      <td>6</td>\n",
              "      <td>2.800000</td>\n",
              "      <td>178.0</td>\n",
              "      <td>5800.0</td>\n",
              "      <td>2385.0</td>\n",
              "      <td>Yes</td>\n",
              "      <td>18.5</td>\n",
              "      <td>4.0</td>\n",
              "      <td>159.0</td>\n",
              "      <td>97.0</td>\n",
              "      <td>66.000000</td>\n",
              "      <td>36.0</td>\n",
              "      <td>26.0</td>\n",
              "      <td>15.000000</td>\n",
              "      <td>2810.0</td>\n",
              "      <td>non-USA</td>\n",
              "      <td>Volkswagen Corrado</td>\n",
              "    </tr>\n",
              "    <tr>\n",
              "      <th>91</th>\n",
              "      <td>Volvo</td>\n",
              "      <td>240</td>\n",
              "      <td>Compact</td>\n",
              "      <td>21.800000</td>\n",
              "      <td>22.7</td>\n",
              "      <td>23.500000</td>\n",
              "      <td>21.0</td>\n",
              "      <td>28.0</td>\n",
              "      <td>Driver only</td>\n",
              "      <td>Rear</td>\n",
              "      <td>NaN</td>\n",
              "      <td>2.300000</td>\n",
              "      <td>114.0</td>\n",
              "      <td>5400.0</td>\n",
              "      <td>2215.0</td>\n",
              "      <td>Yes</td>\n",
              "      <td>15.8</td>\n",
              "      <td>5.0</td>\n",
              "      <td>190.0</td>\n",
              "      <td>104.0</td>\n",
              "      <td>67.000000</td>\n",
              "      <td>37.0</td>\n",
              "      <td>29.5</td>\n",
              "      <td>14.000000</td>\n",
              "      <td>2985.0</td>\n",
              "      <td>non-USA</td>\n",
              "      <td>Volvo 240</td>\n",
              "    </tr>\n",
              "    <tr>\n",
              "      <th>92</th>\n",
              "      <td>NaN</td>\n",
              "      <td>850</td>\n",
              "      <td>Midsize</td>\n",
              "      <td>24.800000</td>\n",
              "      <td>26.7</td>\n",
              "      <td>28.500000</td>\n",
              "      <td>20.0</td>\n",
              "      <td>28.0</td>\n",
              "      <td>Driver &amp; Passenger</td>\n",
              "      <td>Front</td>\n",
              "      <td>5</td>\n",
              "      <td>2.400000</td>\n",
              "      <td>168.0</td>\n",
              "      <td>6200.0</td>\n",
              "      <td>2355.0</td>\n",
              "      <td>Yes</td>\n",
              "      <td>19.3</td>\n",
              "      <td>5.0</td>\n",
              "      <td>184.0</td>\n",
              "      <td>105.0</td>\n",
              "      <td>69.000000</td>\n",
              "      <td>38.0</td>\n",
              "      <td>30.0</td>\n",
              "      <td>15.000000</td>\n",
              "      <td>3245.0</td>\n",
              "      <td>non-USA</td>\n",
              "      <td>Volvo 850</td>\n",
              "    </tr>\n",
              "  </tbody>\n",
              "</table>\n",
              "<p>93 rows × 27 columns</p>\n",
              "</div>"
            ],
            "text/plain": [
              "   Manufacturer    Model     Type  ...  Weight   Origin                Make\n",
              "0         Acura  Integra    Small  ...  2705.0  non-USA       Acura Integra\n",
              "1           NaN   Legend  Midsize  ...  3560.0  non-USA        Acura Legend\n",
              "2          Audi       90  Compact  ...  3375.0  non-USA             Audi 90\n",
              "3          Audi      100  Midsize  ...  3405.0  non-USA            Audi 100\n",
              "4           BMW     535i  Midsize  ...  3640.0  non-USA            BMW 535i\n",
              "..          ...      ...      ...  ...     ...      ...                 ...\n",
              "88   Volkswagen  Eurovan      Van  ...  3960.0      NaN  Volkswagen Eurovan\n",
              "89   Volkswagen   Passat  Compact  ...  2985.0  non-USA   Volkswagen Passat\n",
              "90   Volkswagen  Corrado   Sporty  ...  2810.0  non-USA  Volkswagen Corrado\n",
              "91        Volvo      240  Compact  ...  2985.0  non-USA           Volvo 240\n",
              "92          NaN      850  Midsize  ...  3245.0  non-USA           Volvo 850\n",
              "\n",
              "[93 rows x 27 columns]"
            ]
          },
          "metadata": {
            "tags": []
          },
          "execution_count": 37
        }
      ]
    },
    {
      "cell_type": "markdown",
      "metadata": {
        "id": "1ZOD5I-lZiTB"
      },
      "source": [
        "**29\\.** Как выбрать конкретный столбец из датафрейма в качестве датафрейма, а не series?  (★☆☆)"
      ]
    },
    {
      "cell_type": "code",
      "metadata": {
        "id": "4Lq9rYKiZiTB",
        "colab": {
          "base_uri": "https://localhost:8080/",
          "height": 419
        },
        "outputId": "59a1fc3b-f755-42eb-e625-33078d041a10"
      },
      "source": [
        "df = pd.read_csv('https://raw.githubusercontent.com/selva86/datasets/master/Cars93_miss.csv')\n",
        "\n",
        "#your code\n",
        "df[['AirBags']]"
      ],
      "execution_count": null,
      "outputs": [
        {
          "output_type": "execute_result",
          "data": {
            "text/html": [
              "<div>\n",
              "<style scoped>\n",
              "    .dataframe tbody tr th:only-of-type {\n",
              "        vertical-align: middle;\n",
              "    }\n",
              "\n",
              "    .dataframe tbody tr th {\n",
              "        vertical-align: top;\n",
              "    }\n",
              "\n",
              "    .dataframe thead th {\n",
              "        text-align: right;\n",
              "    }\n",
              "</style>\n",
              "<table border=\"1\" class=\"dataframe\">\n",
              "  <thead>\n",
              "    <tr style=\"text-align: right;\">\n",
              "      <th></th>\n",
              "      <th>AirBags</th>\n",
              "    </tr>\n",
              "  </thead>\n",
              "  <tbody>\n",
              "    <tr>\n",
              "      <th>0</th>\n",
              "      <td>None</td>\n",
              "    </tr>\n",
              "    <tr>\n",
              "      <th>1</th>\n",
              "      <td>Driver &amp; Passenger</td>\n",
              "    </tr>\n",
              "    <tr>\n",
              "      <th>2</th>\n",
              "      <td>Driver only</td>\n",
              "    </tr>\n",
              "    <tr>\n",
              "      <th>3</th>\n",
              "      <td>Driver &amp; Passenger</td>\n",
              "    </tr>\n",
              "    <tr>\n",
              "      <th>4</th>\n",
              "      <td>NaN</td>\n",
              "    </tr>\n",
              "    <tr>\n",
              "      <th>...</th>\n",
              "      <td>...</td>\n",
              "    </tr>\n",
              "    <tr>\n",
              "      <th>88</th>\n",
              "      <td>None</td>\n",
              "    </tr>\n",
              "    <tr>\n",
              "      <th>89</th>\n",
              "      <td>None</td>\n",
              "    </tr>\n",
              "    <tr>\n",
              "      <th>90</th>\n",
              "      <td>None</td>\n",
              "    </tr>\n",
              "    <tr>\n",
              "      <th>91</th>\n",
              "      <td>Driver only</td>\n",
              "    </tr>\n",
              "    <tr>\n",
              "      <th>92</th>\n",
              "      <td>Driver &amp; Passenger</td>\n",
              "    </tr>\n",
              "  </tbody>\n",
              "</table>\n",
              "<p>93 rows × 1 columns</p>\n",
              "</div>"
            ],
            "text/plain": [
              "               AirBags\n",
              "0                 None\n",
              "1   Driver & Passenger\n",
              "2          Driver only\n",
              "3   Driver & Passenger\n",
              "4                  NaN\n",
              "..                 ...\n",
              "88                None\n",
              "89                None\n",
              "90                None\n",
              "91         Driver only\n",
              "92  Driver & Passenger\n",
              "\n",
              "[93 rows x 1 columns]"
            ]
          },
          "metadata": {
            "tags": []
          },
          "execution_count": 38
        }
      ]
    },
    {
      "cell_type": "markdown",
      "metadata": {
        "id": "FPiZ8-1HZiTC"
      },
      "source": [
        "**30\\.** Как изменить порядок столбцов данных? (☆☆☆)"
      ]
    },
    {
      "cell_type": "code",
      "metadata": {
        "id": "5QzhKUz0ZiTC",
        "colab": {
          "base_uri": "https://localhost:8080/",
          "height": 419
        },
        "outputId": "0396e6df-3fb3-4521-a177-1709bee2cbcc"
      },
      "source": [
        "df = pd.read_csv('https://raw.githubusercontent.com/selva86/datasets/master/Cars93_miss.csv')\n",
        "\n",
        "#your code\n",
        "df[['Type','Model']]"
      ],
      "execution_count": null,
      "outputs": [
        {
          "output_type": "execute_result",
          "data": {
            "text/html": [
              "<div>\n",
              "<style scoped>\n",
              "    .dataframe tbody tr th:only-of-type {\n",
              "        vertical-align: middle;\n",
              "    }\n",
              "\n",
              "    .dataframe tbody tr th {\n",
              "        vertical-align: top;\n",
              "    }\n",
              "\n",
              "    .dataframe thead th {\n",
              "        text-align: right;\n",
              "    }\n",
              "</style>\n",
              "<table border=\"1\" class=\"dataframe\">\n",
              "  <thead>\n",
              "    <tr style=\"text-align: right;\">\n",
              "      <th></th>\n",
              "      <th>Type</th>\n",
              "      <th>Model</th>\n",
              "    </tr>\n",
              "  </thead>\n",
              "  <tbody>\n",
              "    <tr>\n",
              "      <th>0</th>\n",
              "      <td>Small</td>\n",
              "      <td>Integra</td>\n",
              "    </tr>\n",
              "    <tr>\n",
              "      <th>1</th>\n",
              "      <td>Midsize</td>\n",
              "      <td>Legend</td>\n",
              "    </tr>\n",
              "    <tr>\n",
              "      <th>2</th>\n",
              "      <td>Compact</td>\n",
              "      <td>90</td>\n",
              "    </tr>\n",
              "    <tr>\n",
              "      <th>3</th>\n",
              "      <td>Midsize</td>\n",
              "      <td>100</td>\n",
              "    </tr>\n",
              "    <tr>\n",
              "      <th>4</th>\n",
              "      <td>Midsize</td>\n",
              "      <td>535i</td>\n",
              "    </tr>\n",
              "    <tr>\n",
              "      <th>...</th>\n",
              "      <td>...</td>\n",
              "      <td>...</td>\n",
              "    </tr>\n",
              "    <tr>\n",
              "      <th>88</th>\n",
              "      <td>Van</td>\n",
              "      <td>Eurovan</td>\n",
              "    </tr>\n",
              "    <tr>\n",
              "      <th>89</th>\n",
              "      <td>Compact</td>\n",
              "      <td>Passat</td>\n",
              "    </tr>\n",
              "    <tr>\n",
              "      <th>90</th>\n",
              "      <td>Sporty</td>\n",
              "      <td>Corrado</td>\n",
              "    </tr>\n",
              "    <tr>\n",
              "      <th>91</th>\n",
              "      <td>Compact</td>\n",
              "      <td>240</td>\n",
              "    </tr>\n",
              "    <tr>\n",
              "      <th>92</th>\n",
              "      <td>Midsize</td>\n",
              "      <td>850</td>\n",
              "    </tr>\n",
              "  </tbody>\n",
              "</table>\n",
              "<p>93 rows × 2 columns</p>\n",
              "</div>"
            ],
            "text/plain": [
              "       Type    Model\n",
              "0     Small  Integra\n",
              "1   Midsize   Legend\n",
              "2   Compact       90\n",
              "3   Midsize      100\n",
              "4   Midsize     535i\n",
              "..      ...      ...\n",
              "88      Van  Eurovan\n",
              "89  Compact   Passat\n",
              "90   Sporty  Corrado\n",
              "91  Compact      240\n",
              "92  Midsize      850\n",
              "\n",
              "[93 rows x 2 columns]"
            ]
          },
          "metadata": {
            "tags": []
          },
          "execution_count": 39
        }
      ]
    },
    {
      "cell_type": "markdown",
      "metadata": {
        "id": "HXS7R5PUZiTC"
      },
      "source": [
        "**31\\.** Как установить количество строк и столбцов, отображаемых в выводе? (☆☆☆)\n",
        "\n",
        "(hint: pd.set_option)"
      ]
    },
    {
      "cell_type": "code",
      "metadata": {
        "id": "CqFkVDhOZiTC",
        "colab": {
          "base_uri": "https://localhost:8080/",
          "height": 419
        },
        "outputId": "f81ba188-671f-4f17-c51a-a2e1af328f17"
      },
      "source": [
        "df = pd.read_csv('https://raw.githubusercontent.com/selva86/datasets/master/Cars93_miss.csv')\n",
        "\n",
        "#your code\n",
        "pd.set_option('display.max_rows', 10)\n",
        "pd.set_option('display.max_columns', 5)\n",
        "df"
      ],
      "execution_count": null,
      "outputs": [
        {
          "output_type": "execute_result",
          "data": {
            "text/html": [
              "<div>\n",
              "<style scoped>\n",
              "    .dataframe tbody tr th:only-of-type {\n",
              "        vertical-align: middle;\n",
              "    }\n",
              "\n",
              "    .dataframe tbody tr th {\n",
              "        vertical-align: top;\n",
              "    }\n",
              "\n",
              "    .dataframe thead th {\n",
              "        text-align: right;\n",
              "    }\n",
              "</style>\n",
              "<table border=\"1\" class=\"dataframe\">\n",
              "  <thead>\n",
              "    <tr style=\"text-align: right;\">\n",
              "      <th></th>\n",
              "      <th>Manufacturer</th>\n",
              "      <th>Model</th>\n",
              "      <th>...</th>\n",
              "      <th>Origin</th>\n",
              "      <th>Make</th>\n",
              "    </tr>\n",
              "  </thead>\n",
              "  <tbody>\n",
              "    <tr>\n",
              "      <th>0</th>\n",
              "      <td>Acura</td>\n",
              "      <td>Integra</td>\n",
              "      <td>...</td>\n",
              "      <td>non-USA</td>\n",
              "      <td>Acura Integra</td>\n",
              "    </tr>\n",
              "    <tr>\n",
              "      <th>1</th>\n",
              "      <td>NaN</td>\n",
              "      <td>Legend</td>\n",
              "      <td>...</td>\n",
              "      <td>non-USA</td>\n",
              "      <td>Acura Legend</td>\n",
              "    </tr>\n",
              "    <tr>\n",
              "      <th>2</th>\n",
              "      <td>Audi</td>\n",
              "      <td>90</td>\n",
              "      <td>...</td>\n",
              "      <td>non-USA</td>\n",
              "      <td>Audi 90</td>\n",
              "    </tr>\n",
              "    <tr>\n",
              "      <th>3</th>\n",
              "      <td>Audi</td>\n",
              "      <td>100</td>\n",
              "      <td>...</td>\n",
              "      <td>non-USA</td>\n",
              "      <td>Audi 100</td>\n",
              "    </tr>\n",
              "    <tr>\n",
              "      <th>4</th>\n",
              "      <td>BMW</td>\n",
              "      <td>535i</td>\n",
              "      <td>...</td>\n",
              "      <td>non-USA</td>\n",
              "      <td>BMW 535i</td>\n",
              "    </tr>\n",
              "    <tr>\n",
              "      <th>...</th>\n",
              "      <td>...</td>\n",
              "      <td>...</td>\n",
              "      <td>...</td>\n",
              "      <td>...</td>\n",
              "      <td>...</td>\n",
              "    </tr>\n",
              "    <tr>\n",
              "      <th>88</th>\n",
              "      <td>Volkswagen</td>\n",
              "      <td>Eurovan</td>\n",
              "      <td>...</td>\n",
              "      <td>NaN</td>\n",
              "      <td>Volkswagen Eurovan</td>\n",
              "    </tr>\n",
              "    <tr>\n",
              "      <th>89</th>\n",
              "      <td>Volkswagen</td>\n",
              "      <td>Passat</td>\n",
              "      <td>...</td>\n",
              "      <td>non-USA</td>\n",
              "      <td>Volkswagen Passat</td>\n",
              "    </tr>\n",
              "    <tr>\n",
              "      <th>90</th>\n",
              "      <td>Volkswagen</td>\n",
              "      <td>Corrado</td>\n",
              "      <td>...</td>\n",
              "      <td>non-USA</td>\n",
              "      <td>Volkswagen Corrado</td>\n",
              "    </tr>\n",
              "    <tr>\n",
              "      <th>91</th>\n",
              "      <td>Volvo</td>\n",
              "      <td>240</td>\n",
              "      <td>...</td>\n",
              "      <td>non-USA</td>\n",
              "      <td>Volvo 240</td>\n",
              "    </tr>\n",
              "    <tr>\n",
              "      <th>92</th>\n",
              "      <td>NaN</td>\n",
              "      <td>850</td>\n",
              "      <td>...</td>\n",
              "      <td>non-USA</td>\n",
              "      <td>Volvo 850</td>\n",
              "    </tr>\n",
              "  </tbody>\n",
              "</table>\n",
              "<p>93 rows × 27 columns</p>\n",
              "</div>"
            ],
            "text/plain": [
              "   Manufacturer    Model  ...   Origin                Make\n",
              "0         Acura  Integra  ...  non-USA       Acura Integra\n",
              "1           NaN   Legend  ...  non-USA        Acura Legend\n",
              "2          Audi       90  ...  non-USA             Audi 90\n",
              "3          Audi      100  ...  non-USA            Audi 100\n",
              "4           BMW     535i  ...  non-USA            BMW 535i\n",
              "..          ...      ...  ...      ...                 ...\n",
              "88   Volkswagen  Eurovan  ...      NaN  Volkswagen Eurovan\n",
              "89   Volkswagen   Passat  ...  non-USA   Volkswagen Passat\n",
              "90   Volkswagen  Corrado  ...  non-USA  Volkswagen Corrado\n",
              "91        Volvo      240  ...  non-USA           Volvo 240\n",
              "92          NaN      850  ...  non-USA           Volvo 850\n",
              "\n",
              "[93 rows x 27 columns]"
            ]
          },
          "metadata": {
            "tags": []
          },
          "execution_count": 40
        }
      ]
    },
    {
      "cell_type": "markdown",
      "metadata": {
        "id": "KNEMMgIlZiTD"
      },
      "source": [
        "**32\\.** Как получить номер строки, в которой содержится максимальное значение в столбце? (★★☆)"
      ]
    },
    {
      "cell_type": "code",
      "metadata": {
        "id": "wTTe2jxsZiTD",
        "colab": {
          "base_uri": "https://localhost:8080/"
        },
        "outputId": "ab4fb856-7806-41c3-f37f-15b114bea7a2"
      },
      "source": [
        "df = pd.DataFrame(np.random.randint(1, 30, 30).reshape(10,-1), columns=list('abc'))\n",
        "\n",
        "#your code\n",
        "print(df.idxmax())"
      ],
      "execution_count": null,
      "outputs": [
        {
          "output_type": "stream",
          "text": [
            "a    4\n",
            "b    1\n",
            "c    0\n",
            "dtype: int64\n"
          ],
          "name": "stdout"
        }
      ]
    },
    {
      "cell_type": "markdown",
      "metadata": {
        "id": "LpL44i8qZiTD"
      },
      "source": [
        "**33\\.** Как получить последние n строк датафрейма с суммой строк 100?  (★★★)"
      ]
    },
    {
      "cell_type": "code",
      "metadata": {
        "collapsed": true,
        "id": "RnP5S0zxZiTE"
      },
      "source": [
        ""
      ],
      "execution_count": null,
      "outputs": []
    },
    {
      "cell_type": "markdown",
      "metadata": {
        "id": "TClcumMHZiTE"
      },
      "source": [
        "### Выбросы (оutliers)"
      ]
    },
    {
      "cell_type": "markdown",
      "metadata": {
        "id": "hA69xLLkZiTE"
      },
      "source": [
        "* 5 Ways to Detect Outliers/Anomalies That Every Data Scientist Should Know (Python Code)\n",
        "\n",
        "https://towardsdatascience.com/5-ways-to-detect-outliers-that-every-data-scientist-should-know-python-code-70a54335a623"
      ]
    },
    {
      "cell_type": "markdown",
      "metadata": {
        "id": "fITmfypGZiTE"
      },
      "source": [
        "**34\\.** Как найти и заменить выбросы из столбца Series или датафрейма? (★★★)\n",
        "\n",
        "Замените все значения из столбца ниже 5того и больше 95го персентиля, на пограничные значения.\n",
        "\n",
        "(hint: .quantile())"
      ]
    },
    {
      "cell_type": "code",
      "metadata": {
        "id": "0lmYcXMpZiTF",
        "colab": {
          "base_uri": "https://localhost:8080/"
        },
        "outputId": "fd3e04b8-c889-4b2e-bc39-9e4ff01fc376"
      },
      "source": [
        "s = pd.Series(np.logspace(-2, 2, 30))\n",
        "\n",
        "#your code\n",
        "s[s<s.quantile(0.5)] = s.quantile(0.5)\n",
        "s[s>s.quantile(0.95)] = s.quantile(0.95)\n",
        "s"
      ],
      "execution_count": null,
      "outputs": [
        {
          "output_type": "execute_result",
          "data": {
            "text/plain": [
              "0      1.012635\n",
              "1      1.012635\n",
              "2      1.012635\n",
              "3      1.012635\n",
              "4      1.012635\n",
              "        ...    \n",
              "25    28.072162\n",
              "26    38.566204\n",
              "27    52.983169\n",
              "28    63.876672\n",
              "29    63.876672\n",
              "Length: 30, dtype: float64"
            ]
          },
          "metadata": {
            "tags": []
          },
          "execution_count": 42
        }
      ]
    },
    {
      "cell_type": "markdown",
      "metadata": {
        "id": "zQDv7ermZiTF"
      },
      "source": [
        "**35\\.** Попробуйте реализовать метод Interquartile Range (IQR) (★★★)\n",
        "\n",
        "Почитать про него можно по ссылке выше."
      ]
    },
    {
      "cell_type": "code",
      "metadata": {
        "collapsed": true,
        "id": "1pg2ZY-wZiTF"
      },
      "source": [
        "s = pd.Series(np.logspace(-2, 2, 30))\n",
        "\n",
        "#your code\n"
      ],
      "execution_count": null,
      "outputs": []
    },
    {
      "cell_type": "markdown",
      "metadata": {
        "id": "yGsujC7bZiTF"
      },
      "source": [
        "**36\\.** Как поменять местами две строки данных? (★★★)"
      ]
    },
    {
      "cell_type": "code",
      "metadata": {
        "collapsed": true,
        "id": "GIkbVfVGZiTG"
      },
      "source": [
        "df = pd.DataFrame(np.arange(25).reshape(5, -1))\n",
        "\n",
        "#your code\n"
      ],
      "execution_count": null,
      "outputs": []
    },
    {
      "cell_type": "markdown",
      "metadata": {
        "id": "94RI44YoZiTG"
      },
      "source": [
        "### one-hot-encoding"
      ]
    },
    {
      "cell_type": "markdown",
      "metadata": {
        "id": "xX2vGAOhZiTG"
      },
      "source": [
        "**37\\.** Как создать однозначные кодировки категориальной переменной? (★★★)\n",
        "\n",
        "Сделайте one-hot кодировку столбца 'a'."
      ]
    },
    {
      "cell_type": "code",
      "metadata": {
        "id": "GdGrD87MZiTG",
        "colab": {
          "base_uri": "https://localhost:8080/",
          "height": 204
        },
        "outputId": "cf8a395f-ca04-4735-ac1d-16def8457498"
      },
      "source": [
        "df = pd.DataFrame([['aa', 'kek'], ['ba', 'lol'], ['ab', 'kek'], ['aa', 'lol'], ['cc', 'kek']], columns=['a', 'b'])\n",
        "\n",
        "#your code\n",
        "pd.get_dummies(df['a'])"
      ],
      "execution_count": null,
      "outputs": [
        {
          "output_type": "execute_result",
          "data": {
            "text/html": [
              "<div>\n",
              "<style scoped>\n",
              "    .dataframe tbody tr th:only-of-type {\n",
              "        vertical-align: middle;\n",
              "    }\n",
              "\n",
              "    .dataframe tbody tr th {\n",
              "        vertical-align: top;\n",
              "    }\n",
              "\n",
              "    .dataframe thead th {\n",
              "        text-align: right;\n",
              "    }\n",
              "</style>\n",
              "<table border=\"1\" class=\"dataframe\">\n",
              "  <thead>\n",
              "    <tr style=\"text-align: right;\">\n",
              "      <th></th>\n",
              "      <th>aa</th>\n",
              "      <th>ab</th>\n",
              "      <th>ba</th>\n",
              "      <th>cc</th>\n",
              "    </tr>\n",
              "  </thead>\n",
              "  <tbody>\n",
              "    <tr>\n",
              "      <th>0</th>\n",
              "      <td>1</td>\n",
              "      <td>0</td>\n",
              "      <td>0</td>\n",
              "      <td>0</td>\n",
              "    </tr>\n",
              "    <tr>\n",
              "      <th>1</th>\n",
              "      <td>0</td>\n",
              "      <td>0</td>\n",
              "      <td>1</td>\n",
              "      <td>0</td>\n",
              "    </tr>\n",
              "    <tr>\n",
              "      <th>2</th>\n",
              "      <td>0</td>\n",
              "      <td>1</td>\n",
              "      <td>0</td>\n",
              "      <td>0</td>\n",
              "    </tr>\n",
              "    <tr>\n",
              "      <th>3</th>\n",
              "      <td>1</td>\n",
              "      <td>0</td>\n",
              "      <td>0</td>\n",
              "      <td>0</td>\n",
              "    </tr>\n",
              "    <tr>\n",
              "      <th>4</th>\n",
              "      <td>0</td>\n",
              "      <td>0</td>\n",
              "      <td>0</td>\n",
              "      <td>1</td>\n",
              "    </tr>\n",
              "  </tbody>\n",
              "</table>\n",
              "</div>"
            ],
            "text/plain": [
              "   aa  ab  ba  cc\n",
              "0   1   0   0   0\n",
              "1   0   0   1   0\n",
              "2   0   1   0   0\n",
              "3   1   0   0   0\n",
              "4   0   0   0   1"
            ]
          },
          "metadata": {
            "tags": []
          },
          "execution_count": 43
        }
      ]
    },
    {
      "cell_type": "markdown",
      "metadata": {
        "id": "vnpx3DMlZiTH"
      },
      "source": [
        "**38\\.** Нормализуйте все столбцы в датафрейме. (★★★)\n",
        "\n",
        "a) Нормализовать все столбцы df путем вычитания среднего значения столбца и деления на стандартное отклонение. \n",
        "\n",
        "b) Трансформируйте все столбцы df так, чтобы минимальное значение в каждом столбце было 0, а max = 1."
      ]
    },
    {
      "cell_type": "code",
      "metadata": {
        "id": "CNuZ5J6YZiTH",
        "colab": {
          "base_uri": "https://localhost:8080/",
          "height": 326
        },
        "outputId": "dd1934ea-29fe-424f-919f-d5e1d9f6f3be"
      },
      "source": [
        "df = pd.DataFrame(np.random.randint(1,100, 80).reshape(8, -1))\n",
        "\n",
        "#your code\n",
        "df = (df - df.mean())/df.std()\n",
        "df"
      ],
      "execution_count": null,
      "outputs": [
        {
          "output_type": "execute_result",
          "data": {
            "text/html": [
              "<div>\n",
              "<style scoped>\n",
              "    .dataframe tbody tr th:only-of-type {\n",
              "        vertical-align: middle;\n",
              "    }\n",
              "\n",
              "    .dataframe tbody tr th {\n",
              "        vertical-align: top;\n",
              "    }\n",
              "\n",
              "    .dataframe thead th {\n",
              "        text-align: right;\n",
              "    }\n",
              "</style>\n",
              "<table border=\"1\" class=\"dataframe\">\n",
              "  <thead>\n",
              "    <tr style=\"text-align: right;\">\n",
              "      <th></th>\n",
              "      <th>0</th>\n",
              "      <th>1</th>\n",
              "      <th>...</th>\n",
              "      <th>8</th>\n",
              "      <th>9</th>\n",
              "    </tr>\n",
              "  </thead>\n",
              "  <tbody>\n",
              "    <tr>\n",
              "      <th>0</th>\n",
              "      <td>-0.577532</td>\n",
              "      <td>-1.683573</td>\n",
              "      <td>...</td>\n",
              "      <td>-0.664590</td>\n",
              "      <td>-1.234077</td>\n",
              "    </tr>\n",
              "    <tr>\n",
              "      <th>1</th>\n",
              "      <td>-0.393946</td>\n",
              "      <td>0.844377</td>\n",
              "      <td>...</td>\n",
              "      <td>-1.394335</td>\n",
              "      <td>0.060692</td>\n",
              "    </tr>\n",
              "    <tr>\n",
              "      <th>2</th>\n",
              "      <td>0.676974</td>\n",
              "      <td>-0.979062</td>\n",
              "      <td>...</td>\n",
              "      <td>1.107649</td>\n",
              "      <td>1.582046</td>\n",
              "    </tr>\n",
              "    <tr>\n",
              "      <th>3</th>\n",
              "      <td>0.768768</td>\n",
              "      <td>-0.357436</td>\n",
              "      <td>...</td>\n",
              "      <td>0.864401</td>\n",
              "      <td>0.287277</td>\n",
              "    </tr>\n",
              "    <tr>\n",
              "      <th>4</th>\n",
              "      <td>-0.883509</td>\n",
              "      <td>-0.191668</td>\n",
              "      <td>...</td>\n",
              "      <td>-0.560340</td>\n",
              "      <td>-0.036415</td>\n",
              "    </tr>\n",
              "    <tr>\n",
              "      <th>5</th>\n",
              "      <td>0.707572</td>\n",
              "      <td>1.341678</td>\n",
              "      <td>...</td>\n",
              "      <td>1.211899</td>\n",
              "      <td>-0.813277</td>\n",
              "    </tr>\n",
              "    <tr>\n",
              "      <th>6</th>\n",
              "      <td>1.288929</td>\n",
              "      <td>0.471400</td>\n",
              "      <td>...</td>\n",
              "      <td>0.308404</td>\n",
              "      <td>-0.975123</td>\n",
              "    </tr>\n",
              "    <tr>\n",
              "      <th>7</th>\n",
              "      <td>-1.587256</td>\n",
              "      <td>0.554284</td>\n",
              "      <td>...</td>\n",
              "      <td>-0.873088</td>\n",
              "      <td>1.128877</td>\n",
              "    </tr>\n",
              "  </tbody>\n",
              "</table>\n",
              "<p>8 rows × 10 columns</p>\n",
              "</div>"
            ],
            "text/plain": [
              "          0         1  ...         8         9\n",
              "0 -0.577532 -1.683573  ... -0.664590 -1.234077\n",
              "1 -0.393946  0.844377  ... -1.394335  0.060692\n",
              "2  0.676974 -0.979062  ...  1.107649  1.582046\n",
              "3  0.768768 -0.357436  ...  0.864401  0.287277\n",
              "4 -0.883509 -0.191668  ... -0.560340 -0.036415\n",
              "5  0.707572  1.341678  ...  1.211899 -0.813277\n",
              "6  1.288929  0.471400  ...  0.308404 -0.975123\n",
              "7 -1.587256  0.554284  ... -0.873088  1.128877\n",
              "\n",
              "[8 rows x 10 columns]"
            ]
          },
          "metadata": {
            "tags": []
          },
          "execution_count": 45
        }
      ]
    },
    {
      "cell_type": "markdown",
      "metadata": {
        "id": "hOsxzJCCZiTH"
      },
      "source": [
        "**39\\.** Как получить конкретную группу из датафрейма сгруппированного по ключу? (★★★)\n",
        "\n",
        "Сгруппируйте по 'name', и выведите данные по группе 'orange'.\n",
        "\n",
        "(hint: groupby(), get_group())"
      ]
    },
    {
      "cell_type": "code",
      "metadata": {
        "id": "S759aVgjZiTH",
        "colab": {
          "base_uri": "https://localhost:8080/",
          "height": 142
        },
        "outputId": "f7250719-fee9-4167-cc4f-34ec00e82820"
      },
      "source": [
        "df = pd.DataFrame({'name': ['apple', 'banana', 'orange'] * 3,\n",
        "                   'taste': np.random.rand(9),\n",
        "                   'price': np.random.randint(0, 15, 9)})\n",
        "\n",
        "#your code\n",
        "df.groupby(['name']).get_group('orange')"
      ],
      "execution_count": null,
      "outputs": [
        {
          "output_type": "execute_result",
          "data": {
            "text/html": [
              "<div>\n",
              "<style scoped>\n",
              "    .dataframe tbody tr th:only-of-type {\n",
              "        vertical-align: middle;\n",
              "    }\n",
              "\n",
              "    .dataframe tbody tr th {\n",
              "        vertical-align: top;\n",
              "    }\n",
              "\n",
              "    .dataframe thead th {\n",
              "        text-align: right;\n",
              "    }\n",
              "</style>\n",
              "<table border=\"1\" class=\"dataframe\">\n",
              "  <thead>\n",
              "    <tr style=\"text-align: right;\">\n",
              "      <th></th>\n",
              "      <th>name</th>\n",
              "      <th>taste</th>\n",
              "      <th>price</th>\n",
              "    </tr>\n",
              "  </thead>\n",
              "  <tbody>\n",
              "    <tr>\n",
              "      <th>2</th>\n",
              "      <td>orange</td>\n",
              "      <td>0.095080</td>\n",
              "      <td>1</td>\n",
              "    </tr>\n",
              "    <tr>\n",
              "      <th>5</th>\n",
              "      <td>orange</td>\n",
              "      <td>0.351503</td>\n",
              "      <td>9</td>\n",
              "    </tr>\n",
              "    <tr>\n",
              "      <th>8</th>\n",
              "      <td>orange</td>\n",
              "      <td>0.823436</td>\n",
              "      <td>14</td>\n",
              "    </tr>\n",
              "  </tbody>\n",
              "</table>\n",
              "</div>"
            ],
            "text/plain": [
              "     name     taste  price\n",
              "2  orange  0.095080      1\n",
              "5  orange  0.351503      9\n",
              "8  orange  0.823436     14"
            ]
          },
          "metadata": {
            "tags": []
          },
          "execution_count": 46
        }
      ]
    },
    {
      "cell_type": "markdown",
      "metadata": {
        "id": "N7zPC2w6ZiTI"
      },
      "source": [
        "**40\\.** Как вычислить среднее значение по столбцу 'price' по каждому фрукту в датафрейме и сохранить сгруппированный столбец как другой столбец (не индекс)? (★★★)"
      ]
    },
    {
      "cell_type": "code",
      "metadata": {
        "id": "IqoVZW-8ZiTI",
        "colab": {
          "base_uri": "https://localhost:8080/",
          "height": 328
        },
        "outputId": "de9c8824-d44c-4812-b0bd-3a54431e4ebf"
      },
      "source": [
        "df = pd.DataFrame({'name': ['apple', 'banana', 'orange'] * 3,\n",
        "                   'taste': np.random.rand(9),\n",
        "                   'price': np.random.randint(0, 15, 9)})\n",
        "\n",
        "#your code\n",
        "df.join(df.groupby('name')['price'].mean(), on='name', rsuffix='_mean')"
      ],
      "execution_count": null,
      "outputs": [
        {
          "output_type": "execute_result",
          "data": {
            "text/html": [
              "<div>\n",
              "<style scoped>\n",
              "    .dataframe tbody tr th:only-of-type {\n",
              "        vertical-align: middle;\n",
              "    }\n",
              "\n",
              "    .dataframe tbody tr th {\n",
              "        vertical-align: top;\n",
              "    }\n",
              "\n",
              "    .dataframe thead th {\n",
              "        text-align: right;\n",
              "    }\n",
              "</style>\n",
              "<table border=\"1\" class=\"dataframe\">\n",
              "  <thead>\n",
              "    <tr style=\"text-align: right;\">\n",
              "      <th></th>\n",
              "      <th>name</th>\n",
              "      <th>taste</th>\n",
              "      <th>price</th>\n",
              "      <th>price_mean</th>\n",
              "    </tr>\n",
              "  </thead>\n",
              "  <tbody>\n",
              "    <tr>\n",
              "      <th>0</th>\n",
              "      <td>apple</td>\n",
              "      <td>0.455057</td>\n",
              "      <td>13</td>\n",
              "      <td>6.333333</td>\n",
              "    </tr>\n",
              "    <tr>\n",
              "      <th>1</th>\n",
              "      <td>banana</td>\n",
              "      <td>0.347074</td>\n",
              "      <td>6</td>\n",
              "      <td>5.000000</td>\n",
              "    </tr>\n",
              "    <tr>\n",
              "      <th>2</th>\n",
              "      <td>orange</td>\n",
              "      <td>0.033509</td>\n",
              "      <td>12</td>\n",
              "      <td>12.000000</td>\n",
              "    </tr>\n",
              "    <tr>\n",
              "      <th>3</th>\n",
              "      <td>apple</td>\n",
              "      <td>0.418455</td>\n",
              "      <td>3</td>\n",
              "      <td>6.333333</td>\n",
              "    </tr>\n",
              "    <tr>\n",
              "      <th>4</th>\n",
              "      <td>banana</td>\n",
              "      <td>0.938363</td>\n",
              "      <td>7</td>\n",
              "      <td>5.000000</td>\n",
              "    </tr>\n",
              "    <tr>\n",
              "      <th>5</th>\n",
              "      <td>orange</td>\n",
              "      <td>0.626032</td>\n",
              "      <td>12</td>\n",
              "      <td>12.000000</td>\n",
              "    </tr>\n",
              "    <tr>\n",
              "      <th>6</th>\n",
              "      <td>apple</td>\n",
              "      <td>0.891332</td>\n",
              "      <td>3</td>\n",
              "      <td>6.333333</td>\n",
              "    </tr>\n",
              "    <tr>\n",
              "      <th>7</th>\n",
              "      <td>banana</td>\n",
              "      <td>0.572448</td>\n",
              "      <td>2</td>\n",
              "      <td>5.000000</td>\n",
              "    </tr>\n",
              "    <tr>\n",
              "      <th>8</th>\n",
              "      <td>orange</td>\n",
              "      <td>0.851241</td>\n",
              "      <td>12</td>\n",
              "      <td>12.000000</td>\n",
              "    </tr>\n",
              "  </tbody>\n",
              "</table>\n",
              "</div>"
            ],
            "text/plain": [
              "     name     taste  price  price_mean\n",
              "0   apple  0.455057     13    6.333333\n",
              "1  banana  0.347074      6    5.000000\n",
              "2  orange  0.033509     12   12.000000\n",
              "3   apple  0.418455      3    6.333333\n",
              "4  banana  0.938363      7    5.000000\n",
              "5  orange  0.626032     12   12.000000\n",
              "6   apple  0.891332      3    6.333333\n",
              "7  banana  0.572448      2    5.000000\n",
              "8  orange  0.851241     12   12.000000"
            ]
          },
          "metadata": {
            "tags": []
          },
          "execution_count": 47
        }
      ]
    },
    {
      "cell_type": "markdown",
      "metadata": {
        "id": "YnigS7-VZiTI"
      },
      "source": [
        "**41\\.** Как объединить два датафрейма по двум столбцам, чтобы в них остались только общие строки?  (★★★)\n",
        "\n",
        "Сделать merge двух датафреймов по колонкам ['fruit', 'weight'] и ['pazham', 'kilo'].\n",
        "\n",
        "(hint: pd.merge https://pandas.pydata.org/pandas-docs/stable/getting_started/10min.html#merge )"
      ]
    },
    {
      "cell_type": "code",
      "metadata": {
        "id": "G3Ozrn-sZiTJ",
        "colab": {
          "base_uri": "https://localhost:8080/",
          "height": 264
        },
        "outputId": "533510d5-4a46-42e2-a80a-18ba13771db4"
      },
      "source": [
        "df1 = pd.DataFrame({'fruit': ['apple', 'banana', 'orange'] * 3,\n",
        "                    'weight': ['high', 'medium', 'low'] * 3,\n",
        "                    'price': np.random.randint(0, 15, 9)})\n",
        "\n",
        "df2 = pd.DataFrame({'pazham': ['apple', 'orange', 'pine'] * 2,\n",
        "                    'kilo': ['high', 'low'] * 3,\n",
        "                    'price': np.random.randint(0, 15, 6)})\n",
        "\n",
        "#your code\n",
        "pd.merge(df1, df2, left_on=['fruit', 'weight'], right_on=['pazham', 'kilo'])"
      ],
      "execution_count": null,
      "outputs": [
        {
          "output_type": "execute_result",
          "data": {
            "text/html": [
              "<div>\n",
              "<style scoped>\n",
              "    .dataframe tbody tr th:only-of-type {\n",
              "        vertical-align: middle;\n",
              "    }\n",
              "\n",
              "    .dataframe tbody tr th {\n",
              "        vertical-align: top;\n",
              "    }\n",
              "\n",
              "    .dataframe thead th {\n",
              "        text-align: right;\n",
              "    }\n",
              "</style>\n",
              "<table border=\"1\" class=\"dataframe\">\n",
              "  <thead>\n",
              "    <tr style=\"text-align: right;\">\n",
              "      <th></th>\n",
              "      <th>fruit</th>\n",
              "      <th>weight</th>\n",
              "      <th>...</th>\n",
              "      <th>kilo</th>\n",
              "      <th>price_y</th>\n",
              "    </tr>\n",
              "  </thead>\n",
              "  <tbody>\n",
              "    <tr>\n",
              "      <th>0</th>\n",
              "      <td>apple</td>\n",
              "      <td>high</td>\n",
              "      <td>...</td>\n",
              "      <td>high</td>\n",
              "      <td>14</td>\n",
              "    </tr>\n",
              "    <tr>\n",
              "      <th>1</th>\n",
              "      <td>apple</td>\n",
              "      <td>high</td>\n",
              "      <td>...</td>\n",
              "      <td>high</td>\n",
              "      <td>14</td>\n",
              "    </tr>\n",
              "    <tr>\n",
              "      <th>2</th>\n",
              "      <td>apple</td>\n",
              "      <td>high</td>\n",
              "      <td>...</td>\n",
              "      <td>high</td>\n",
              "      <td>14</td>\n",
              "    </tr>\n",
              "    <tr>\n",
              "      <th>3</th>\n",
              "      <td>orange</td>\n",
              "      <td>low</td>\n",
              "      <td>...</td>\n",
              "      <td>low</td>\n",
              "      <td>9</td>\n",
              "    </tr>\n",
              "    <tr>\n",
              "      <th>4</th>\n",
              "      <td>orange</td>\n",
              "      <td>low</td>\n",
              "      <td>...</td>\n",
              "      <td>low</td>\n",
              "      <td>9</td>\n",
              "    </tr>\n",
              "    <tr>\n",
              "      <th>5</th>\n",
              "      <td>orange</td>\n",
              "      <td>low</td>\n",
              "      <td>...</td>\n",
              "      <td>low</td>\n",
              "      <td>9</td>\n",
              "    </tr>\n",
              "  </tbody>\n",
              "</table>\n",
              "<p>6 rows × 6 columns</p>\n",
              "</div>"
            ],
            "text/plain": [
              "    fruit weight  ...  kilo price_y\n",
              "0   apple   high  ...  high      14\n",
              "1   apple   high  ...  high      14\n",
              "2   apple   high  ...  high      14\n",
              "3  orange    low  ...   low       9\n",
              "4  orange    low  ...   low       9\n",
              "5  orange    low  ...   low       9\n",
              "\n",
              "[6 rows x 6 columns]"
            ]
          },
          "metadata": {
            "tags": []
          },
          "execution_count": 48
        }
      ]
    },
    {
      "cell_type": "markdown",
      "metadata": {
        "id": "W9SZwne8ZiTK"
      },
      "source": [
        "**42\\.** Как удалить строки из датафрейма А, которые присутствуют в датафрейме B? (★★★)\n"
      ]
    },
    {
      "cell_type": "code",
      "metadata": {
        "collapsed": true,
        "id": "Dt8fA-fUZiTK"
      },
      "source": [
        "df1 = pd.DataFrame({'fruit': ['apple', 'orange', 'banana'] * 3,\n",
        "                    'weight': ['high', 'medium', 'low'] * 3,\n",
        "                    'price': np.arange(9)})\n",
        "\n",
        "df2 = pd.DataFrame({'fruit': ['apple', 'orange', 'pine'] * 2,\n",
        "                    'weight': ['high', 'medium'] * 3,\n",
        "                    'price': np.arange(6)})\n",
        "\n",
        "#your code\n"
      ],
      "execution_count": null,
      "outputs": []
    },
    {
      "cell_type": "markdown",
      "metadata": {
        "id": "ZvdZ57NhZiTL"
      },
      "source": [
        "**43\\.** Как получить номера строк, в которых совпадают значения двух столбцов? (★★★)\n",
        "\n",
        "(hint: np.where)"
      ]
    },
    {
      "cell_type": "code",
      "metadata": {
        "id": "6OpaIGSNZiTL",
        "colab": {
          "base_uri": "https://localhost:8080/"
        },
        "outputId": "2e6b2087-bb24-4366-e583-eed7e4184b74"
      },
      "source": [
        "df = pd.DataFrame({'fruit1': np.random.choice(['apple', 'orange', 'banana'], 10),\n",
        "                    'fruit2': np.random.choice(['apple', 'orange', 'banana'], 10)})\n",
        "\n",
        "\n",
        "#your code\n",
        "df.where(df['fruit1'] == df['fruit2']).dropna().index"
      ],
      "execution_count": null,
      "outputs": [
        {
          "output_type": "execute_result",
          "data": {
            "text/plain": [
              "Int64Index([3, 6, 7, 8, 9], dtype='int64')"
            ]
          },
          "metadata": {
            "tags": []
          },
          "execution_count": 50
        }
      ]
    },
    {
      "cell_type": "markdown",
      "metadata": {
        "id": "FcN9XO4qZiTL"
      },
      "source": [
        "**44\\.** Создайте столбец a_shift со сдвигом на одну строку назад. (★★★)\n",
        "\n",
        "(hint: .shift())"
      ]
    },
    {
      "cell_type": "code",
      "metadata": {
        "id": "CTJ-amA2ZiTL",
        "colab": {
          "base_uri": "https://localhost:8080/",
          "height": 204
        },
        "outputId": "d67ffad4-30fc-45a7-8de3-3cfe7c7e59d6"
      },
      "source": [
        "df = pd.DataFrame(np.random.randint(1, 100, 20).reshape(-1, 4), columns = list('abcd'))\n",
        "\n",
        "#your code\n",
        "df['a_shift'] = df['a'].shift(periods=-1)\n",
        "df"
      ],
      "execution_count": null,
      "outputs": [
        {
          "output_type": "execute_result",
          "data": {
            "text/html": [
              "<div>\n",
              "<style scoped>\n",
              "    .dataframe tbody tr th:only-of-type {\n",
              "        vertical-align: middle;\n",
              "    }\n",
              "\n",
              "    .dataframe tbody tr th {\n",
              "        vertical-align: top;\n",
              "    }\n",
              "\n",
              "    .dataframe thead th {\n",
              "        text-align: right;\n",
              "    }\n",
              "</style>\n",
              "<table border=\"1\" class=\"dataframe\">\n",
              "  <thead>\n",
              "    <tr style=\"text-align: right;\">\n",
              "      <th></th>\n",
              "      <th>a</th>\n",
              "      <th>b</th>\n",
              "      <th>c</th>\n",
              "      <th>d</th>\n",
              "      <th>a_shift</th>\n",
              "    </tr>\n",
              "  </thead>\n",
              "  <tbody>\n",
              "    <tr>\n",
              "      <th>0</th>\n",
              "      <td>84</td>\n",
              "      <td>41</td>\n",
              "      <td>88</td>\n",
              "      <td>83</td>\n",
              "      <td>91.0</td>\n",
              "    </tr>\n",
              "    <tr>\n",
              "      <th>1</th>\n",
              "      <td>91</td>\n",
              "      <td>89</td>\n",
              "      <td>54</td>\n",
              "      <td>54</td>\n",
              "      <td>67.0</td>\n",
              "    </tr>\n",
              "    <tr>\n",
              "      <th>2</th>\n",
              "      <td>67</td>\n",
              "      <td>64</td>\n",
              "      <td>19</td>\n",
              "      <td>9</td>\n",
              "      <td>61.0</td>\n",
              "    </tr>\n",
              "    <tr>\n",
              "      <th>3</th>\n",
              "      <td>61</td>\n",
              "      <td>94</td>\n",
              "      <td>32</td>\n",
              "      <td>13</td>\n",
              "      <td>46.0</td>\n",
              "    </tr>\n",
              "    <tr>\n",
              "      <th>4</th>\n",
              "      <td>46</td>\n",
              "      <td>83</td>\n",
              "      <td>9</td>\n",
              "      <td>42</td>\n",
              "      <td>NaN</td>\n",
              "    </tr>\n",
              "  </tbody>\n",
              "</table>\n",
              "</div>"
            ],
            "text/plain": [
              "    a   b   c   d  a_shift\n",
              "0  84  41  88  83     91.0\n",
              "1  91  89  54  54     67.0\n",
              "2  67  64  19   9     61.0\n",
              "3  61  94  32  13     46.0\n",
              "4  46  83   9  42      NaN"
            ]
          },
          "metadata": {
            "tags": []
          },
          "execution_count": 51
        }
      ]
    },
    {
      "cell_type": "markdown",
      "metadata": {
        "id": "P2tOQVW3ZiTM"
      },
      "source": [
        "**45\\.** Как разбить текстовый столбец на три отдельных столбца? (★★★)\n",
        "\n",
        "Разбить на три столбцы STD, City, State"
      ]
    },
    {
      "cell_type": "code",
      "metadata": {
        "collapsed": true,
        "id": "2vzxP2FAZiTM"
      },
      "source": [
        "df = pd.DataFrame([\"STD, City    State\",\n",
        "\"33, Kolkata    West Bengal\",\n",
        "\"44, Chennai    Tamil Nadu\",\n",
        "\"40, Hyderabad    Telengana\",\n",
        "\"80, Bangalore    Karnataka\"], columns=['row'])\n",
        "\n",
        "#your code"
      ],
      "execution_count": null,
      "outputs": []
    },
    {
      "cell_type": "markdown",
      "metadata": {
        "id": "-ytKmWWYZiTM"
      },
      "source": [
        "### **46\\.** Ну а теперь все вместе.  (★★★★★★★★★★)"
      ]
    },
    {
      "cell_type": "markdown",
      "metadata": {
        "id": "BokGVhxuZiTM"
      },
      "source": [
        "* Заменяем все точки в названии на '_'\n",
        "* Выделить категориальные признаки\n",
        "* Посчитать кол-во уникальных значений во всех текстовых\\категориальных столбцах. \n",
        "* Колонки с только уникальными значениями удаляем (например Model и Make)\n",
        "* Для столбцов у которых значений более 10, оставляем топ 10 значений, остальные заменяем на 'other'\n",
        "* Числовые столбцы проверяем на пропуски. Подсчитываем кол-во nan\\none и делим на размер датафрейма -сохраняем в отдельный датафрейм, это доля пропусков в каждом столбце\n",
        "* Чистим выбросы. Во всех числовых столбцах заменяем все значения столбца меньше 5го персентиля и больше 95ого персентиля на эти пограничные значения.\n",
        "* Заполняем пропуски в числовых столбцах на среднее по столбцу, в текстовых столбцах на 'other'\n",
        "* Все категориальные признаки превращаем в one-hot-encoding\n",
        "* Создать новый столбец Length_Width = Length * Width\n",
        "* Столбцы MPG_cityми MPG_highway из MPG перевести в единицы LPG (литры \\100 км) = (100 * 3,785)  / (MPG * 1,609)\n",
        "* Посчитать среднюю цену по каждому типу машины у каждого производителя\n",
        "* Посчитать максимальные Length и Width по Type\n",
        "* Посчитать кол-во моделей машин по типу машины и наличию подушки безопасности (агрегирование по столбцам Type и AirBags)\n",
        "* Посчитать кол-во машин по каждому типу машины у каждого производителя(агрегирование по столбцам Type и Manufacturer)\n",
        "* Посчитать кол-во машин по Manufacturer-Man_trans_avail\n",
        "* Вывести у какой модели, какого изготовителя максимальная вместимость по пассажирам"
      ]
    },
    {
      "cell_type": "code",
      "metadata": {
        "collapsed": true,
        "id": "ETnJt8vaZiTN"
      },
      "source": [
        "df = pd.read_csv('https://raw.githubusercontent.com/selva86/datasets/master/Cars93_miss.csv')\n",
        "\n",
        "#your code"
      ],
      "execution_count": null,
      "outputs": []
    },
    {
      "cell_type": "code",
      "metadata": {
        "id": "S6f67HjFZiTN",
        "outputId": "c7996ea2-4da6-4563-cd1b-d6045ef4d083"
      },
      "source": [
        "df"
      ],
      "execution_count": null,
      "outputs": [
        {
          "output_type": "execute_result",
          "data": {
            "text/html": [
              "<div>\n",
              "<style scoped>\n",
              "    .dataframe tbody tr th:only-of-type {\n",
              "        vertical-align: middle;\n",
              "    }\n",
              "\n",
              "    .dataframe tbody tr th {\n",
              "        vertical-align: top;\n",
              "    }\n",
              "\n",
              "    .dataframe thead th {\n",
              "        text-align: right;\n",
              "    }\n",
              "</style>\n",
              "<table border=\"1\" class=\"dataframe\">\n",
              "  <thead>\n",
              "    <tr style=\"text-align: right;\">\n",
              "      <th></th>\n",
              "      <th>Manufacturer</th>\n",
              "      <th>Model</th>\n",
              "      <th>Type</th>\n",
              "      <th>Min.Price</th>\n",
              "      <th>Price</th>\n",
              "      <th>Max.Price</th>\n",
              "      <th>MPG.city</th>\n",
              "      <th>MPG.highway</th>\n",
              "      <th>AirBags</th>\n",
              "      <th>DriveTrain</th>\n",
              "      <th>...</th>\n",
              "      <th>Passengers</th>\n",
              "      <th>Length</th>\n",
              "      <th>Wheelbase</th>\n",
              "      <th>Width</th>\n",
              "      <th>Turn.circle</th>\n",
              "      <th>Rear.seat.room</th>\n",
              "      <th>Luggage.room</th>\n",
              "      <th>Weight</th>\n",
              "      <th>Origin</th>\n",
              "      <th>Make</th>\n",
              "    </tr>\n",
              "  </thead>\n",
              "  <tbody>\n",
              "    <tr>\n",
              "      <th>0</th>\n",
              "      <td>Acura</td>\n",
              "      <td>Integra</td>\n",
              "      <td>Small</td>\n",
              "      <td>12.9</td>\n",
              "      <td>15.9</td>\n",
              "      <td>18.8</td>\n",
              "      <td>25.0</td>\n",
              "      <td>31.0</td>\n",
              "      <td>None</td>\n",
              "      <td>Front</td>\n",
              "      <td>...</td>\n",
              "      <td>5.0</td>\n",
              "      <td>177.0</td>\n",
              "      <td>102.0</td>\n",
              "      <td>68.0</td>\n",
              "      <td>37.0</td>\n",
              "      <td>26.5</td>\n",
              "      <td>NaN</td>\n",
              "      <td>2705.0</td>\n",
              "      <td>non-USA</td>\n",
              "      <td>Acura Integra</td>\n",
              "    </tr>\n",
              "    <tr>\n",
              "      <th>1</th>\n",
              "      <td>NaN</td>\n",
              "      <td>Legend</td>\n",
              "      <td>Midsize</td>\n",
              "      <td>29.2</td>\n",
              "      <td>33.9</td>\n",
              "      <td>38.7</td>\n",
              "      <td>18.0</td>\n",
              "      <td>25.0</td>\n",
              "      <td>Driver &amp; Passenger</td>\n",
              "      <td>Front</td>\n",
              "      <td>...</td>\n",
              "      <td>5.0</td>\n",
              "      <td>195.0</td>\n",
              "      <td>115.0</td>\n",
              "      <td>71.0</td>\n",
              "      <td>38.0</td>\n",
              "      <td>30.0</td>\n",
              "      <td>15.0</td>\n",
              "      <td>3560.0</td>\n",
              "      <td>non-USA</td>\n",
              "      <td>Acura Legend</td>\n",
              "    </tr>\n",
              "    <tr>\n",
              "      <th>2</th>\n",
              "      <td>Audi</td>\n",
              "      <td>90</td>\n",
              "      <td>Compact</td>\n",
              "      <td>25.9</td>\n",
              "      <td>29.1</td>\n",
              "      <td>32.3</td>\n",
              "      <td>20.0</td>\n",
              "      <td>26.0</td>\n",
              "      <td>Driver only</td>\n",
              "      <td>Front</td>\n",
              "      <td>...</td>\n",
              "      <td>5.0</td>\n",
              "      <td>180.0</td>\n",
              "      <td>102.0</td>\n",
              "      <td>67.0</td>\n",
              "      <td>37.0</td>\n",
              "      <td>28.0</td>\n",
              "      <td>14.0</td>\n",
              "      <td>3375.0</td>\n",
              "      <td>non-USA</td>\n",
              "      <td>Audi 90</td>\n",
              "    </tr>\n",
              "    <tr>\n",
              "      <th>3</th>\n",
              "      <td>Audi</td>\n",
              "      <td>100</td>\n",
              "      <td>Midsize</td>\n",
              "      <td>NaN</td>\n",
              "      <td>37.7</td>\n",
              "      <td>44.6</td>\n",
              "      <td>19.0</td>\n",
              "      <td>26.0</td>\n",
              "      <td>Driver &amp; Passenger</td>\n",
              "      <td>NaN</td>\n",
              "      <td>...</td>\n",
              "      <td>6.0</td>\n",
              "      <td>193.0</td>\n",
              "      <td>106.0</td>\n",
              "      <td>NaN</td>\n",
              "      <td>37.0</td>\n",
              "      <td>31.0</td>\n",
              "      <td>17.0</td>\n",
              "      <td>3405.0</td>\n",
              "      <td>non-USA</td>\n",
              "      <td>Audi 100</td>\n",
              "    </tr>\n",
              "    <tr>\n",
              "      <th>4</th>\n",
              "      <td>BMW</td>\n",
              "      <td>535i</td>\n",
              "      <td>Midsize</td>\n",
              "      <td>NaN</td>\n",
              "      <td>30.0</td>\n",
              "      <td>NaN</td>\n",
              "      <td>22.0</td>\n",
              "      <td>30.0</td>\n",
              "      <td>NaN</td>\n",
              "      <td>Rear</td>\n",
              "      <td>...</td>\n",
              "      <td>4.0</td>\n",
              "      <td>186.0</td>\n",
              "      <td>109.0</td>\n",
              "      <td>69.0</td>\n",
              "      <td>39.0</td>\n",
              "      <td>27.0</td>\n",
              "      <td>13.0</td>\n",
              "      <td>3640.0</td>\n",
              "      <td>non-USA</td>\n",
              "      <td>BMW 535i</td>\n",
              "    </tr>\n",
              "    <tr>\n",
              "      <th>5</th>\n",
              "      <td>Buick</td>\n",
              "      <td>Century</td>\n",
              "      <td>Midsize</td>\n",
              "      <td>14.2</td>\n",
              "      <td>15.7</td>\n",
              "      <td>17.3</td>\n",
              "      <td>22.0</td>\n",
              "      <td>31.0</td>\n",
              "      <td>Driver only</td>\n",
              "      <td>NaN</td>\n",
              "      <td>...</td>\n",
              "      <td>6.0</td>\n",
              "      <td>189.0</td>\n",
              "      <td>105.0</td>\n",
              "      <td>69.0</td>\n",
              "      <td>41.0</td>\n",
              "      <td>28.0</td>\n",
              "      <td>16.0</td>\n",
              "      <td>NaN</td>\n",
              "      <td>USA</td>\n",
              "      <td>Buick Century</td>\n",
              "    </tr>\n",
              "    <tr>\n",
              "      <th>6</th>\n",
              "      <td>Buick</td>\n",
              "      <td>LeSabre</td>\n",
              "      <td>Large</td>\n",
              "      <td>19.9</td>\n",
              "      <td>20.8</td>\n",
              "      <td>NaN</td>\n",
              "      <td>19.0</td>\n",
              "      <td>28.0</td>\n",
              "      <td>Driver only</td>\n",
              "      <td>Front</td>\n",
              "      <td>...</td>\n",
              "      <td>6.0</td>\n",
              "      <td>200.0</td>\n",
              "      <td>111.0</td>\n",
              "      <td>74.0</td>\n",
              "      <td>42.0</td>\n",
              "      <td>30.5</td>\n",
              "      <td>17.0</td>\n",
              "      <td>3470.0</td>\n",
              "      <td>USA</td>\n",
              "      <td>Buick LeSabre</td>\n",
              "    </tr>\n",
              "    <tr>\n",
              "      <th>7</th>\n",
              "      <td>Buick</td>\n",
              "      <td>Roadmaster</td>\n",
              "      <td>Large</td>\n",
              "      <td>22.6</td>\n",
              "      <td>23.7</td>\n",
              "      <td>24.9</td>\n",
              "      <td>16.0</td>\n",
              "      <td>25.0</td>\n",
              "      <td>Driver only</td>\n",
              "      <td>Rear</td>\n",
              "      <td>...</td>\n",
              "      <td>6.0</td>\n",
              "      <td>216.0</td>\n",
              "      <td>116.0</td>\n",
              "      <td>78.0</td>\n",
              "      <td>45.0</td>\n",
              "      <td>30.5</td>\n",
              "      <td>21.0</td>\n",
              "      <td>4105.0</td>\n",
              "      <td>USA</td>\n",
              "      <td>Buick Roadmaster</td>\n",
              "    </tr>\n",
              "    <tr>\n",
              "      <th>8</th>\n",
              "      <td>Buick</td>\n",
              "      <td>Riviera</td>\n",
              "      <td>Midsize</td>\n",
              "      <td>26.3</td>\n",
              "      <td>26.3</td>\n",
              "      <td>26.3</td>\n",
              "      <td>19.0</td>\n",
              "      <td>27.0</td>\n",
              "      <td>Driver only</td>\n",
              "      <td>Front</td>\n",
              "      <td>...</td>\n",
              "      <td>5.0</td>\n",
              "      <td>198.0</td>\n",
              "      <td>108.0</td>\n",
              "      <td>NaN</td>\n",
              "      <td>41.0</td>\n",
              "      <td>26.5</td>\n",
              "      <td>14.0</td>\n",
              "      <td>3495.0</td>\n",
              "      <td>USA</td>\n",
              "      <td>Buick Riviera</td>\n",
              "    </tr>\n",
              "    <tr>\n",
              "      <th>9</th>\n",
              "      <td>Cadillac</td>\n",
              "      <td>DeVille</td>\n",
              "      <td>Large</td>\n",
              "      <td>33.0</td>\n",
              "      <td>34.7</td>\n",
              "      <td>36.3</td>\n",
              "      <td>16.0</td>\n",
              "      <td>25.0</td>\n",
              "      <td>Driver only</td>\n",
              "      <td>Front</td>\n",
              "      <td>...</td>\n",
              "      <td>6.0</td>\n",
              "      <td>206.0</td>\n",
              "      <td>114.0</td>\n",
              "      <td>73.0</td>\n",
              "      <td>43.0</td>\n",
              "      <td>35.0</td>\n",
              "      <td>18.0</td>\n",
              "      <td>3620.0</td>\n",
              "      <td>USA</td>\n",
              "      <td>Cadillac DeVille</td>\n",
              "    </tr>\n",
              "    <tr>\n",
              "      <th>10</th>\n",
              "      <td>Cadillac</td>\n",
              "      <td>Seville</td>\n",
              "      <td>Midsize</td>\n",
              "      <td>37.5</td>\n",
              "      <td>40.1</td>\n",
              "      <td>42.7</td>\n",
              "      <td>16.0</td>\n",
              "      <td>25.0</td>\n",
              "      <td>Driver &amp; Passenger</td>\n",
              "      <td>Front</td>\n",
              "      <td>...</td>\n",
              "      <td>5.0</td>\n",
              "      <td>204.0</td>\n",
              "      <td>111.0</td>\n",
              "      <td>74.0</td>\n",
              "      <td>44.0</td>\n",
              "      <td>31.0</td>\n",
              "      <td>NaN</td>\n",
              "      <td>3935.0</td>\n",
              "      <td>USA</td>\n",
              "      <td>Cadillac Seville</td>\n",
              "    </tr>\n",
              "    <tr>\n",
              "      <th>11</th>\n",
              "      <td>Chevrolet</td>\n",
              "      <td>Cavalier</td>\n",
              "      <td>Compact</td>\n",
              "      <td>8.5</td>\n",
              "      <td>13.4</td>\n",
              "      <td>18.3</td>\n",
              "      <td>25.0</td>\n",
              "      <td>36.0</td>\n",
              "      <td>NaN</td>\n",
              "      <td>NaN</td>\n",
              "      <td>...</td>\n",
              "      <td>5.0</td>\n",
              "      <td>182.0</td>\n",
              "      <td>101.0</td>\n",
              "      <td>66.0</td>\n",
              "      <td>38.0</td>\n",
              "      <td>25.0</td>\n",
              "      <td>13.0</td>\n",
              "      <td>2490.0</td>\n",
              "      <td>USA</td>\n",
              "      <td>Chevrolet Cavalier</td>\n",
              "    </tr>\n",
              "    <tr>\n",
              "      <th>12</th>\n",
              "      <td>Chevrolet</td>\n",
              "      <td>Corsica</td>\n",
              "      <td>Compact</td>\n",
              "      <td>11.4</td>\n",
              "      <td>11.4</td>\n",
              "      <td>11.4</td>\n",
              "      <td>25.0</td>\n",
              "      <td>34.0</td>\n",
              "      <td>Driver only</td>\n",
              "      <td>Front</td>\n",
              "      <td>...</td>\n",
              "      <td>5.0</td>\n",
              "      <td>184.0</td>\n",
              "      <td>103.0</td>\n",
              "      <td>68.0</td>\n",
              "      <td>39.0</td>\n",
              "      <td>26.0</td>\n",
              "      <td>NaN</td>\n",
              "      <td>2785.0</td>\n",
              "      <td>USA</td>\n",
              "      <td>Chevrolet Corsica</td>\n",
              "    </tr>\n",
              "    <tr>\n",
              "      <th>13</th>\n",
              "      <td>Chevrolet</td>\n",
              "      <td>Camaro</td>\n",
              "      <td>Sporty</td>\n",
              "      <td>13.4</td>\n",
              "      <td>15.1</td>\n",
              "      <td>16.8</td>\n",
              "      <td>19.0</td>\n",
              "      <td>28.0</td>\n",
              "      <td>Driver &amp; Passenger</td>\n",
              "      <td>Rear</td>\n",
              "      <td>...</td>\n",
              "      <td>4.0</td>\n",
              "      <td>193.0</td>\n",
              "      <td>101.0</td>\n",
              "      <td>74.0</td>\n",
              "      <td>43.0</td>\n",
              "      <td>25.0</td>\n",
              "      <td>13.0</td>\n",
              "      <td>3240.0</td>\n",
              "      <td>USA</td>\n",
              "      <td>Chevrolet Camaro</td>\n",
              "    </tr>\n",
              "    <tr>\n",
              "      <th>14</th>\n",
              "      <td>Chevrolet</td>\n",
              "      <td>Lumina</td>\n",
              "      <td>Midsize</td>\n",
              "      <td>13.4</td>\n",
              "      <td>15.9</td>\n",
              "      <td>18.4</td>\n",
              "      <td>NaN</td>\n",
              "      <td>29.0</td>\n",
              "      <td>None</td>\n",
              "      <td>Front</td>\n",
              "      <td>...</td>\n",
              "      <td>6.0</td>\n",
              "      <td>NaN</td>\n",
              "      <td>108.0</td>\n",
              "      <td>71.0</td>\n",
              "      <td>NaN</td>\n",
              "      <td>28.5</td>\n",
              "      <td>16.0</td>\n",
              "      <td>3195.0</td>\n",
              "      <td>USA</td>\n",
              "      <td>Chevrolet Lumina</td>\n",
              "    </tr>\n",
              "    <tr>\n",
              "      <th>15</th>\n",
              "      <td>Chevrolet</td>\n",
              "      <td>Lumina_APV</td>\n",
              "      <td>Van</td>\n",
              "      <td>14.7</td>\n",
              "      <td>16.3</td>\n",
              "      <td>18.0</td>\n",
              "      <td>18.0</td>\n",
              "      <td>23.0</td>\n",
              "      <td>None</td>\n",
              "      <td>Front</td>\n",
              "      <td>...</td>\n",
              "      <td>7.0</td>\n",
              "      <td>178.0</td>\n",
              "      <td>110.0</td>\n",
              "      <td>74.0</td>\n",
              "      <td>44.0</td>\n",
              "      <td>30.5</td>\n",
              "      <td>NaN</td>\n",
              "      <td>3715.0</td>\n",
              "      <td>USA</td>\n",
              "      <td>Chevrolet Lumina_APV</td>\n",
              "    </tr>\n",
              "    <tr>\n",
              "      <th>16</th>\n",
              "      <td>Chevrolet</td>\n",
              "      <td>Astro</td>\n",
              "      <td>Van</td>\n",
              "      <td>14.7</td>\n",
              "      <td>16.6</td>\n",
              "      <td>18.6</td>\n",
              "      <td>15.0</td>\n",
              "      <td>20.0</td>\n",
              "      <td>None</td>\n",
              "      <td>4WD</td>\n",
              "      <td>...</td>\n",
              "      <td>8.0</td>\n",
              "      <td>194.0</td>\n",
              "      <td>111.0</td>\n",
              "      <td>78.0</td>\n",
              "      <td>42.0</td>\n",
              "      <td>33.5</td>\n",
              "      <td>NaN</td>\n",
              "      <td>4025.0</td>\n",
              "      <td>USA</td>\n",
              "      <td>Chevrolet Astro</td>\n",
              "    </tr>\n",
              "    <tr>\n",
              "      <th>17</th>\n",
              "      <td>Chevrolet</td>\n",
              "      <td>Caprice</td>\n",
              "      <td>Large</td>\n",
              "      <td>18.0</td>\n",
              "      <td>18.8</td>\n",
              "      <td>19.6</td>\n",
              "      <td>17.0</td>\n",
              "      <td>26.0</td>\n",
              "      <td>Driver only</td>\n",
              "      <td>Rear</td>\n",
              "      <td>...</td>\n",
              "      <td>6.0</td>\n",
              "      <td>214.0</td>\n",
              "      <td>116.0</td>\n",
              "      <td>77.0</td>\n",
              "      <td>42.0</td>\n",
              "      <td>29.5</td>\n",
              "      <td>20.0</td>\n",
              "      <td>3910.0</td>\n",
              "      <td>USA</td>\n",
              "      <td>Chevrolet Caprice</td>\n",
              "    </tr>\n",
              "    <tr>\n",
              "      <th>18</th>\n",
              "      <td>Chevrolet</td>\n",
              "      <td>Corvette</td>\n",
              "      <td>Sporty</td>\n",
              "      <td>34.6</td>\n",
              "      <td>38.0</td>\n",
              "      <td>41.5</td>\n",
              "      <td>17.0</td>\n",
              "      <td>25.0</td>\n",
              "      <td>Driver only</td>\n",
              "      <td>Rear</td>\n",
              "      <td>...</td>\n",
              "      <td>2.0</td>\n",
              "      <td>179.0</td>\n",
              "      <td>96.0</td>\n",
              "      <td>74.0</td>\n",
              "      <td>43.0</td>\n",
              "      <td>NaN</td>\n",
              "      <td>NaN</td>\n",
              "      <td>3380.0</td>\n",
              "      <td>NaN</td>\n",
              "      <td>Chevrolet Corvette</td>\n",
              "    </tr>\n",
              "    <tr>\n",
              "      <th>19</th>\n",
              "      <td>NaN</td>\n",
              "      <td>Concorde</td>\n",
              "      <td>Large</td>\n",
              "      <td>18.4</td>\n",
              "      <td>18.4</td>\n",
              "      <td>18.4</td>\n",
              "      <td>20.0</td>\n",
              "      <td>28.0</td>\n",
              "      <td>Driver &amp; Passenger</td>\n",
              "      <td>Front</td>\n",
              "      <td>...</td>\n",
              "      <td>6.0</td>\n",
              "      <td>203.0</td>\n",
              "      <td>113.0</td>\n",
              "      <td>74.0</td>\n",
              "      <td>NaN</td>\n",
              "      <td>31.0</td>\n",
              "      <td>15.0</td>\n",
              "      <td>3515.0</td>\n",
              "      <td>USA</td>\n",
              "      <td>Chrylser Concorde</td>\n",
              "    </tr>\n",
              "    <tr>\n",
              "      <th>20</th>\n",
              "      <td>Chrysler</td>\n",
              "      <td>LeBaron</td>\n",
              "      <td>Compact</td>\n",
              "      <td>14.5</td>\n",
              "      <td>15.8</td>\n",
              "      <td>17.1</td>\n",
              "      <td>23.0</td>\n",
              "      <td>28.0</td>\n",
              "      <td>Driver &amp; Passenger</td>\n",
              "      <td>Front</td>\n",
              "      <td>...</td>\n",
              "      <td>6.0</td>\n",
              "      <td>183.0</td>\n",
              "      <td>104.0</td>\n",
              "      <td>68.0</td>\n",
              "      <td>41.0</td>\n",
              "      <td>30.5</td>\n",
              "      <td>14.0</td>\n",
              "      <td>3085.0</td>\n",
              "      <td>USA</td>\n",
              "      <td>Chrysler LeBaron</td>\n",
              "    </tr>\n",
              "    <tr>\n",
              "      <th>21</th>\n",
              "      <td>Chrysler</td>\n",
              "      <td>Imperial</td>\n",
              "      <td>Large</td>\n",
              "      <td>29.5</td>\n",
              "      <td>29.5</td>\n",
              "      <td>29.5</td>\n",
              "      <td>20.0</td>\n",
              "      <td>26.0</td>\n",
              "      <td>Driver only</td>\n",
              "      <td>Front</td>\n",
              "      <td>...</td>\n",
              "      <td>6.0</td>\n",
              "      <td>203.0</td>\n",
              "      <td>110.0</td>\n",
              "      <td>69.0</td>\n",
              "      <td>44.0</td>\n",
              "      <td>36.0</td>\n",
              "      <td>17.0</td>\n",
              "      <td>3570.0</td>\n",
              "      <td>USA</td>\n",
              "      <td>Chrysler Imperial</td>\n",
              "    </tr>\n",
              "    <tr>\n",
              "      <th>22</th>\n",
              "      <td>Dodge</td>\n",
              "      <td>Colt</td>\n",
              "      <td>Small</td>\n",
              "      <td>7.9</td>\n",
              "      <td>9.2</td>\n",
              "      <td>10.6</td>\n",
              "      <td>29.0</td>\n",
              "      <td>33.0</td>\n",
              "      <td>None</td>\n",
              "      <td>Front</td>\n",
              "      <td>...</td>\n",
              "      <td>5.0</td>\n",
              "      <td>174.0</td>\n",
              "      <td>98.0</td>\n",
              "      <td>66.0</td>\n",
              "      <td>32.0</td>\n",
              "      <td>NaN</td>\n",
              "      <td>11.0</td>\n",
              "      <td>2270.0</td>\n",
              "      <td>USA</td>\n",
              "      <td>Dodge Colt</td>\n",
              "    </tr>\n",
              "    <tr>\n",
              "      <th>23</th>\n",
              "      <td>Dodge</td>\n",
              "      <td>Shadow</td>\n",
              "      <td>Small</td>\n",
              "      <td>8.4</td>\n",
              "      <td>11.3</td>\n",
              "      <td>14.2</td>\n",
              "      <td>23.0</td>\n",
              "      <td>29.0</td>\n",
              "      <td>Driver only</td>\n",
              "      <td>Front</td>\n",
              "      <td>...</td>\n",
              "      <td>5.0</td>\n",
              "      <td>172.0</td>\n",
              "      <td>97.0</td>\n",
              "      <td>67.0</td>\n",
              "      <td>38.0</td>\n",
              "      <td>26.5</td>\n",
              "      <td>NaN</td>\n",
              "      <td>2670.0</td>\n",
              "      <td>USA</td>\n",
              "      <td>Dodge Shadow</td>\n",
              "    </tr>\n",
              "    <tr>\n",
              "      <th>24</th>\n",
              "      <td>Dodge</td>\n",
              "      <td>Spirit</td>\n",
              "      <td>Compact</td>\n",
              "      <td>11.9</td>\n",
              "      <td>13.3</td>\n",
              "      <td>14.7</td>\n",
              "      <td>22.0</td>\n",
              "      <td>27.0</td>\n",
              "      <td>Driver only</td>\n",
              "      <td>Front</td>\n",
              "      <td>...</td>\n",
              "      <td>6.0</td>\n",
              "      <td>181.0</td>\n",
              "      <td>104.0</td>\n",
              "      <td>68.0</td>\n",
              "      <td>39.0</td>\n",
              "      <td>30.5</td>\n",
              "      <td>NaN</td>\n",
              "      <td>2970.0</td>\n",
              "      <td>USA</td>\n",
              "      <td>Dodge Spirit</td>\n",
              "    </tr>\n",
              "    <tr>\n",
              "      <th>25</th>\n",
              "      <td>Dodge</td>\n",
              "      <td>Caravan</td>\n",
              "      <td>Van</td>\n",
              "      <td>NaN</td>\n",
              "      <td>19.0</td>\n",
              "      <td>24.4</td>\n",
              "      <td>17.0</td>\n",
              "      <td>21.0</td>\n",
              "      <td>Driver only</td>\n",
              "      <td>4WD</td>\n",
              "      <td>...</td>\n",
              "      <td>7.0</td>\n",
              "      <td>175.0</td>\n",
              "      <td>112.0</td>\n",
              "      <td>72.0</td>\n",
              "      <td>42.0</td>\n",
              "      <td>26.5</td>\n",
              "      <td>NaN</td>\n",
              "      <td>3705.0</td>\n",
              "      <td>USA</td>\n",
              "      <td>Dodge Caravan</td>\n",
              "    </tr>\n",
              "    <tr>\n",
              "      <th>26</th>\n",
              "      <td>Dodge</td>\n",
              "      <td>Dynasty</td>\n",
              "      <td>Midsize</td>\n",
              "      <td>14.8</td>\n",
              "      <td>15.6</td>\n",
              "      <td>16.4</td>\n",
              "      <td>21.0</td>\n",
              "      <td>NaN</td>\n",
              "      <td>Driver only</td>\n",
              "      <td>Front</td>\n",
              "      <td>...</td>\n",
              "      <td>6.0</td>\n",
              "      <td>192.0</td>\n",
              "      <td>105.0</td>\n",
              "      <td>69.0</td>\n",
              "      <td>42.0</td>\n",
              "      <td>30.5</td>\n",
              "      <td>16.0</td>\n",
              "      <td>3080.0</td>\n",
              "      <td>USA</td>\n",
              "      <td>Dodge Dynasty</td>\n",
              "    </tr>\n",
              "    <tr>\n",
              "      <th>27</th>\n",
              "      <td>Dodge</td>\n",
              "      <td>Stealth</td>\n",
              "      <td>Sporty</td>\n",
              "      <td>18.5</td>\n",
              "      <td>25.8</td>\n",
              "      <td>33.1</td>\n",
              "      <td>NaN</td>\n",
              "      <td>24.0</td>\n",
              "      <td>Driver only</td>\n",
              "      <td>4WD</td>\n",
              "      <td>...</td>\n",
              "      <td>4.0</td>\n",
              "      <td>180.0</td>\n",
              "      <td>97.0</td>\n",
              "      <td>NaN</td>\n",
              "      <td>40.0</td>\n",
              "      <td>20.0</td>\n",
              "      <td>11.0</td>\n",
              "      <td>3805.0</td>\n",
              "      <td>USA</td>\n",
              "      <td>Dodge Stealth</td>\n",
              "    </tr>\n",
              "    <tr>\n",
              "      <th>28</th>\n",
              "      <td>Eagle</td>\n",
              "      <td>Summit</td>\n",
              "      <td>Small</td>\n",
              "      <td>7.9</td>\n",
              "      <td>12.2</td>\n",
              "      <td>16.5</td>\n",
              "      <td>29.0</td>\n",
              "      <td>33.0</td>\n",
              "      <td>None</td>\n",
              "      <td>Front</td>\n",
              "      <td>...</td>\n",
              "      <td>5.0</td>\n",
              "      <td>174.0</td>\n",
              "      <td>98.0</td>\n",
              "      <td>66.0</td>\n",
              "      <td>36.0</td>\n",
              "      <td>26.5</td>\n",
              "      <td>11.0</td>\n",
              "      <td>2295.0</td>\n",
              "      <td>USA</td>\n",
              "      <td>Eagle Summit</td>\n",
              "    </tr>\n",
              "    <tr>\n",
              "      <th>29</th>\n",
              "      <td>Eagle</td>\n",
              "      <td>Vision</td>\n",
              "      <td>Large</td>\n",
              "      <td>NaN</td>\n",
              "      <td>19.3</td>\n",
              "      <td>21.2</td>\n",
              "      <td>20.0</td>\n",
              "      <td>28.0</td>\n",
              "      <td>Driver &amp; Passenger</td>\n",
              "      <td>Front</td>\n",
              "      <td>...</td>\n",
              "      <td>6.0</td>\n",
              "      <td>202.0</td>\n",
              "      <td>113.0</td>\n",
              "      <td>74.0</td>\n",
              "      <td>40.0</td>\n",
              "      <td>30.0</td>\n",
              "      <td>15.0</td>\n",
              "      <td>3490.0</td>\n",
              "      <td>USA</td>\n",
              "      <td>Eagle Vision</td>\n",
              "    </tr>\n",
              "    <tr>\n",
              "      <th>...</th>\n",
              "      <td>...</td>\n",
              "      <td>...</td>\n",
              "      <td>...</td>\n",
              "      <td>...</td>\n",
              "      <td>...</td>\n",
              "      <td>...</td>\n",
              "      <td>...</td>\n",
              "      <td>...</td>\n",
              "      <td>...</td>\n",
              "      <td>...</td>\n",
              "      <td>...</td>\n",
              "      <td>...</td>\n",
              "      <td>...</td>\n",
              "      <td>...</td>\n",
              "      <td>...</td>\n",
              "      <td>...</td>\n",
              "      <td>...</td>\n",
              "      <td>...</td>\n",
              "      <td>...</td>\n",
              "      <td>...</td>\n",
              "      <td>...</td>\n",
              "    </tr>\n",
              "    <tr>\n",
              "      <th>63</th>\n",
              "      <td>Nissan</td>\n",
              "      <td>Sentra</td>\n",
              "      <td>Small</td>\n",
              "      <td>8.7</td>\n",
              "      <td>11.8</td>\n",
              "      <td>14.9</td>\n",
              "      <td>29.0</td>\n",
              "      <td>33.0</td>\n",
              "      <td>Driver only</td>\n",
              "      <td>Front</td>\n",
              "      <td>...</td>\n",
              "      <td>5.0</td>\n",
              "      <td>170.0</td>\n",
              "      <td>96.0</td>\n",
              "      <td>66.0</td>\n",
              "      <td>33.0</td>\n",
              "      <td>26.0</td>\n",
              "      <td>NaN</td>\n",
              "      <td>NaN</td>\n",
              "      <td>non-USA</td>\n",
              "      <td>Nissan Sentra</td>\n",
              "    </tr>\n",
              "    <tr>\n",
              "      <th>64</th>\n",
              "      <td>Nissan</td>\n",
              "      <td>Altima</td>\n",
              "      <td>Compact</td>\n",
              "      <td>13.0</td>\n",
              "      <td>15.7</td>\n",
              "      <td>18.3</td>\n",
              "      <td>24.0</td>\n",
              "      <td>30.0</td>\n",
              "      <td>Driver only</td>\n",
              "      <td>Front</td>\n",
              "      <td>...</td>\n",
              "      <td>5.0</td>\n",
              "      <td>181.0</td>\n",
              "      <td>103.0</td>\n",
              "      <td>67.0</td>\n",
              "      <td>40.0</td>\n",
              "      <td>28.5</td>\n",
              "      <td>14.0</td>\n",
              "      <td>3050.0</td>\n",
              "      <td>non-USA</td>\n",
              "      <td>Nissan Altima</td>\n",
              "    </tr>\n",
              "    <tr>\n",
              "      <th>65</th>\n",
              "      <td>Nissan</td>\n",
              "      <td>Quest</td>\n",
              "      <td>Van</td>\n",
              "      <td>16.7</td>\n",
              "      <td>19.1</td>\n",
              "      <td>21.5</td>\n",
              "      <td>17.0</td>\n",
              "      <td>23.0</td>\n",
              "      <td>None</td>\n",
              "      <td>Front</td>\n",
              "      <td>...</td>\n",
              "      <td>7.0</td>\n",
              "      <td>190.0</td>\n",
              "      <td>112.0</td>\n",
              "      <td>74.0</td>\n",
              "      <td>41.0</td>\n",
              "      <td>27.0</td>\n",
              "      <td>NaN</td>\n",
              "      <td>4100.0</td>\n",
              "      <td>non-USA</td>\n",
              "      <td>Nissan Quest</td>\n",
              "    </tr>\n",
              "    <tr>\n",
              "      <th>66</th>\n",
              "      <td>Nissan</td>\n",
              "      <td>Maxima</td>\n",
              "      <td>Midsize</td>\n",
              "      <td>21.0</td>\n",
              "      <td>21.5</td>\n",
              "      <td>22.0</td>\n",
              "      <td>21.0</td>\n",
              "      <td>26.0</td>\n",
              "      <td>Driver only</td>\n",
              "      <td>Front</td>\n",
              "      <td>...</td>\n",
              "      <td>5.0</td>\n",
              "      <td>188.0</td>\n",
              "      <td>104.0</td>\n",
              "      <td>69.0</td>\n",
              "      <td>41.0</td>\n",
              "      <td>28.5</td>\n",
              "      <td>14.0</td>\n",
              "      <td>3200.0</td>\n",
              "      <td>non-USA</td>\n",
              "      <td>Nissan Maxima</td>\n",
              "    </tr>\n",
              "    <tr>\n",
              "      <th>67</th>\n",
              "      <td>Oldsmobile</td>\n",
              "      <td>Achieva</td>\n",
              "      <td>Compact</td>\n",
              "      <td>13.0</td>\n",
              "      <td>13.5</td>\n",
              "      <td>14.0</td>\n",
              "      <td>24.0</td>\n",
              "      <td>31.0</td>\n",
              "      <td>None</td>\n",
              "      <td>Front</td>\n",
              "      <td>...</td>\n",
              "      <td>5.0</td>\n",
              "      <td>188.0</td>\n",
              "      <td>103.0</td>\n",
              "      <td>67.0</td>\n",
              "      <td>39.0</td>\n",
              "      <td>28.0</td>\n",
              "      <td>14.0</td>\n",
              "      <td>2910.0</td>\n",
              "      <td>USA</td>\n",
              "      <td>Oldsmobile Achieva</td>\n",
              "    </tr>\n",
              "    <tr>\n",
              "      <th>68</th>\n",
              "      <td>Oldsmobile</td>\n",
              "      <td>Cutlass_Ciera</td>\n",
              "      <td>Midsize</td>\n",
              "      <td>14.2</td>\n",
              "      <td>16.3</td>\n",
              "      <td>18.4</td>\n",
              "      <td>23.0</td>\n",
              "      <td>31.0</td>\n",
              "      <td>Driver only</td>\n",
              "      <td>Front</td>\n",
              "      <td>...</td>\n",
              "      <td>5.0</td>\n",
              "      <td>190.0</td>\n",
              "      <td>105.0</td>\n",
              "      <td>70.0</td>\n",
              "      <td>42.0</td>\n",
              "      <td>28.0</td>\n",
              "      <td>16.0</td>\n",
              "      <td>2890.0</td>\n",
              "      <td>USA</td>\n",
              "      <td>Oldsmobile Cutlass_Ciera</td>\n",
              "    </tr>\n",
              "    <tr>\n",
              "      <th>69</th>\n",
              "      <td>Oldsmobile</td>\n",
              "      <td>Silhouette</td>\n",
              "      <td>Van</td>\n",
              "      <td>19.5</td>\n",
              "      <td>19.5</td>\n",
              "      <td>19.5</td>\n",
              "      <td>18.0</td>\n",
              "      <td>23.0</td>\n",
              "      <td>None</td>\n",
              "      <td>Front</td>\n",
              "      <td>...</td>\n",
              "      <td>7.0</td>\n",
              "      <td>NaN</td>\n",
              "      <td>110.0</td>\n",
              "      <td>74.0</td>\n",
              "      <td>44.0</td>\n",
              "      <td>30.5</td>\n",
              "      <td>NaN</td>\n",
              "      <td>3715.0</td>\n",
              "      <td>USA</td>\n",
              "      <td>Oldsmobile Silhouette</td>\n",
              "    </tr>\n",
              "    <tr>\n",
              "      <th>70</th>\n",
              "      <td>Oldsmobile</td>\n",
              "      <td>Eighty-Eight</td>\n",
              "      <td>Large</td>\n",
              "      <td>19.5</td>\n",
              "      <td>20.7</td>\n",
              "      <td>21.9</td>\n",
              "      <td>NaN</td>\n",
              "      <td>28.0</td>\n",
              "      <td>Driver only</td>\n",
              "      <td>Front</td>\n",
              "      <td>...</td>\n",
              "      <td>6.0</td>\n",
              "      <td>201.0</td>\n",
              "      <td>111.0</td>\n",
              "      <td>74.0</td>\n",
              "      <td>42.0</td>\n",
              "      <td>31.5</td>\n",
              "      <td>17.0</td>\n",
              "      <td>3470.0</td>\n",
              "      <td>USA</td>\n",
              "      <td>Oldsmobile Eighty-Eight</td>\n",
              "    </tr>\n",
              "    <tr>\n",
              "      <th>71</th>\n",
              "      <td>Plymouth</td>\n",
              "      <td>Laser</td>\n",
              "      <td>Sporty</td>\n",
              "      <td>11.4</td>\n",
              "      <td>14.4</td>\n",
              "      <td>17.4</td>\n",
              "      <td>NaN</td>\n",
              "      <td>30.0</td>\n",
              "      <td>None</td>\n",
              "      <td>4WD</td>\n",
              "      <td>...</td>\n",
              "      <td>4.0</td>\n",
              "      <td>173.0</td>\n",
              "      <td>97.0</td>\n",
              "      <td>67.0</td>\n",
              "      <td>39.0</td>\n",
              "      <td>24.5</td>\n",
              "      <td>8.0</td>\n",
              "      <td>2640.0</td>\n",
              "      <td>NaN</td>\n",
              "      <td>Plymouth Laser</td>\n",
              "    </tr>\n",
              "    <tr>\n",
              "      <th>72</th>\n",
              "      <td>Pontiac</td>\n",
              "      <td>LeMans</td>\n",
              "      <td>Small</td>\n",
              "      <td>NaN</td>\n",
              "      <td>9.0</td>\n",
              "      <td>9.9</td>\n",
              "      <td>31.0</td>\n",
              "      <td>41.0</td>\n",
              "      <td>None</td>\n",
              "      <td>Front</td>\n",
              "      <td>...</td>\n",
              "      <td>4.0</td>\n",
              "      <td>177.0</td>\n",
              "      <td>99.0</td>\n",
              "      <td>66.0</td>\n",
              "      <td>35.0</td>\n",
              "      <td>25.5</td>\n",
              "      <td>17.0</td>\n",
              "      <td>2350.0</td>\n",
              "      <td>USA</td>\n",
              "      <td>Pontiac LeMans</td>\n",
              "    </tr>\n",
              "    <tr>\n",
              "      <th>73</th>\n",
              "      <td>Pontiac</td>\n",
              "      <td>Sunbird</td>\n",
              "      <td>Compact</td>\n",
              "      <td>9.4</td>\n",
              "      <td>11.1</td>\n",
              "      <td>12.8</td>\n",
              "      <td>NaN</td>\n",
              "      <td>31.0</td>\n",
              "      <td>None</td>\n",
              "      <td>NaN</td>\n",
              "      <td>...</td>\n",
              "      <td>5.0</td>\n",
              "      <td>181.0</td>\n",
              "      <td>101.0</td>\n",
              "      <td>66.0</td>\n",
              "      <td>39.0</td>\n",
              "      <td>25.0</td>\n",
              "      <td>13.0</td>\n",
              "      <td>NaN</td>\n",
              "      <td>USA</td>\n",
              "      <td>NaN</td>\n",
              "    </tr>\n",
              "    <tr>\n",
              "      <th>74</th>\n",
              "      <td>Pontiac</td>\n",
              "      <td>Firebird</td>\n",
              "      <td>NaN</td>\n",
              "      <td>14.0</td>\n",
              "      <td>17.7</td>\n",
              "      <td>21.4</td>\n",
              "      <td>19.0</td>\n",
              "      <td>28.0</td>\n",
              "      <td>Driver &amp; Passenger</td>\n",
              "      <td>Rear</td>\n",
              "      <td>...</td>\n",
              "      <td>4.0</td>\n",
              "      <td>196.0</td>\n",
              "      <td>101.0</td>\n",
              "      <td>75.0</td>\n",
              "      <td>43.0</td>\n",
              "      <td>25.0</td>\n",
              "      <td>13.0</td>\n",
              "      <td>3240.0</td>\n",
              "      <td>USA</td>\n",
              "      <td>Pontiac Firebird</td>\n",
              "    </tr>\n",
              "    <tr>\n",
              "      <th>75</th>\n",
              "      <td>Pontiac</td>\n",
              "      <td>Grand_Prix</td>\n",
              "      <td>Midsize</td>\n",
              "      <td>15.4</td>\n",
              "      <td>18.5</td>\n",
              "      <td>21.6</td>\n",
              "      <td>19.0</td>\n",
              "      <td>27.0</td>\n",
              "      <td>None</td>\n",
              "      <td>Front</td>\n",
              "      <td>...</td>\n",
              "      <td>5.0</td>\n",
              "      <td>195.0</td>\n",
              "      <td>108.0</td>\n",
              "      <td>72.0</td>\n",
              "      <td>41.0</td>\n",
              "      <td>28.5</td>\n",
              "      <td>16.0</td>\n",
              "      <td>3450.0</td>\n",
              "      <td>USA</td>\n",
              "      <td>Pontiac Grand_Prix</td>\n",
              "    </tr>\n",
              "    <tr>\n",
              "      <th>76</th>\n",
              "      <td>Pontiac</td>\n",
              "      <td>Bonneville</td>\n",
              "      <td>Large</td>\n",
              "      <td>19.4</td>\n",
              "      <td>24.4</td>\n",
              "      <td>29.4</td>\n",
              "      <td>19.0</td>\n",
              "      <td>28.0</td>\n",
              "      <td>Driver &amp; Passenger</td>\n",
              "      <td>Front</td>\n",
              "      <td>...</td>\n",
              "      <td>6.0</td>\n",
              "      <td>177.0</td>\n",
              "      <td>111.0</td>\n",
              "      <td>74.0</td>\n",
              "      <td>43.0</td>\n",
              "      <td>30.5</td>\n",
              "      <td>18.0</td>\n",
              "      <td>3495.0</td>\n",
              "      <td>USA</td>\n",
              "      <td>Pontiac Bonneville</td>\n",
              "    </tr>\n",
              "    <tr>\n",
              "      <th>77</th>\n",
              "      <td>Saab</td>\n",
              "      <td>900</td>\n",
              "      <td>Compact</td>\n",
              "      <td>20.3</td>\n",
              "      <td>28.7</td>\n",
              "      <td>37.1</td>\n",
              "      <td>20.0</td>\n",
              "      <td>26.0</td>\n",
              "      <td>NaN</td>\n",
              "      <td>Front</td>\n",
              "      <td>...</td>\n",
              "      <td>5.0</td>\n",
              "      <td>NaN</td>\n",
              "      <td>99.0</td>\n",
              "      <td>67.0</td>\n",
              "      <td>37.0</td>\n",
              "      <td>26.5</td>\n",
              "      <td>14.0</td>\n",
              "      <td>2775.0</td>\n",
              "      <td>non-USA</td>\n",
              "      <td>Saab 900</td>\n",
              "    </tr>\n",
              "    <tr>\n",
              "      <th>78</th>\n",
              "      <td>Saturn</td>\n",
              "      <td>SL</td>\n",
              "      <td>Small</td>\n",
              "      <td>9.2</td>\n",
              "      <td>NaN</td>\n",
              "      <td>12.9</td>\n",
              "      <td>NaN</td>\n",
              "      <td>38.0</td>\n",
              "      <td>Driver only</td>\n",
              "      <td>Front</td>\n",
              "      <td>...</td>\n",
              "      <td>5.0</td>\n",
              "      <td>176.0</td>\n",
              "      <td>102.0</td>\n",
              "      <td>68.0</td>\n",
              "      <td>40.0</td>\n",
              "      <td>26.5</td>\n",
              "      <td>NaN</td>\n",
              "      <td>2495.0</td>\n",
              "      <td>USA</td>\n",
              "      <td>Saturn SL</td>\n",
              "    </tr>\n",
              "    <tr>\n",
              "      <th>79</th>\n",
              "      <td>Subaru</td>\n",
              "      <td>Justy</td>\n",
              "      <td>Small</td>\n",
              "      <td>7.3</td>\n",
              "      <td>8.4</td>\n",
              "      <td>9.5</td>\n",
              "      <td>33.0</td>\n",
              "      <td>37.0</td>\n",
              "      <td>None</td>\n",
              "      <td>4WD</td>\n",
              "      <td>...</td>\n",
              "      <td>4.0</td>\n",
              "      <td>146.0</td>\n",
              "      <td>90.0</td>\n",
              "      <td>60.0</td>\n",
              "      <td>32.0</td>\n",
              "      <td>23.5</td>\n",
              "      <td>10.0</td>\n",
              "      <td>2045.0</td>\n",
              "      <td>non-USA</td>\n",
              "      <td>Subaru Justy</td>\n",
              "    </tr>\n",
              "    <tr>\n",
              "      <th>80</th>\n",
              "      <td>Subaru</td>\n",
              "      <td>Loyale</td>\n",
              "      <td>Small</td>\n",
              "      <td>10.5</td>\n",
              "      <td>10.9</td>\n",
              "      <td>11.3</td>\n",
              "      <td>25.0</td>\n",
              "      <td>30.0</td>\n",
              "      <td>None</td>\n",
              "      <td>4WD</td>\n",
              "      <td>...</td>\n",
              "      <td>5.0</td>\n",
              "      <td>175.0</td>\n",
              "      <td>97.0</td>\n",
              "      <td>65.0</td>\n",
              "      <td>35.0</td>\n",
              "      <td>27.5</td>\n",
              "      <td>15.0</td>\n",
              "      <td>2490.0</td>\n",
              "      <td>non-USA</td>\n",
              "      <td>Subaru Loyale</td>\n",
              "    </tr>\n",
              "    <tr>\n",
              "      <th>81</th>\n",
              "      <td>Subaru</td>\n",
              "      <td>Legacy</td>\n",
              "      <td>Compact</td>\n",
              "      <td>16.3</td>\n",
              "      <td>19.5</td>\n",
              "      <td>22.7</td>\n",
              "      <td>23.0</td>\n",
              "      <td>30.0</td>\n",
              "      <td>Driver only</td>\n",
              "      <td>4WD</td>\n",
              "      <td>...</td>\n",
              "      <td>5.0</td>\n",
              "      <td>179.0</td>\n",
              "      <td>102.0</td>\n",
              "      <td>67.0</td>\n",
              "      <td>37.0</td>\n",
              "      <td>27.0</td>\n",
              "      <td>14.0</td>\n",
              "      <td>3085.0</td>\n",
              "      <td>non-USA</td>\n",
              "      <td>Subaru Legacy</td>\n",
              "    </tr>\n",
              "    <tr>\n",
              "      <th>82</th>\n",
              "      <td>Suzuki</td>\n",
              "      <td>Swift</td>\n",
              "      <td>NaN</td>\n",
              "      <td>7.3</td>\n",
              "      <td>8.6</td>\n",
              "      <td>NaN</td>\n",
              "      <td>39.0</td>\n",
              "      <td>43.0</td>\n",
              "      <td>None</td>\n",
              "      <td>Front</td>\n",
              "      <td>...</td>\n",
              "      <td>4.0</td>\n",
              "      <td>161.0</td>\n",
              "      <td>93.0</td>\n",
              "      <td>NaN</td>\n",
              "      <td>34.0</td>\n",
              "      <td>27.5</td>\n",
              "      <td>10.0</td>\n",
              "      <td>1965.0</td>\n",
              "      <td>non-USA</td>\n",
              "      <td>Suzuki Swift</td>\n",
              "    </tr>\n",
              "    <tr>\n",
              "      <th>83</th>\n",
              "      <td>Toyota</td>\n",
              "      <td>Tercel</td>\n",
              "      <td>Small</td>\n",
              "      <td>NaN</td>\n",
              "      <td>9.8</td>\n",
              "      <td>11.8</td>\n",
              "      <td>32.0</td>\n",
              "      <td>37.0</td>\n",
              "      <td>Driver only</td>\n",
              "      <td>Front</td>\n",
              "      <td>...</td>\n",
              "      <td>NaN</td>\n",
              "      <td>162.0</td>\n",
              "      <td>94.0</td>\n",
              "      <td>NaN</td>\n",
              "      <td>36.0</td>\n",
              "      <td>24.0</td>\n",
              "      <td>11.0</td>\n",
              "      <td>2055.0</td>\n",
              "      <td>non-USA</td>\n",
              "      <td>Toyota Tercel</td>\n",
              "    </tr>\n",
              "    <tr>\n",
              "      <th>84</th>\n",
              "      <td>Toyota</td>\n",
              "      <td>Celica</td>\n",
              "      <td>Sporty</td>\n",
              "      <td>14.2</td>\n",
              "      <td>18.4</td>\n",
              "      <td>22.6</td>\n",
              "      <td>25.0</td>\n",
              "      <td>32.0</td>\n",
              "      <td>NaN</td>\n",
              "      <td>Front</td>\n",
              "      <td>...</td>\n",
              "      <td>4.0</td>\n",
              "      <td>174.0</td>\n",
              "      <td>99.0</td>\n",
              "      <td>69.0</td>\n",
              "      <td>NaN</td>\n",
              "      <td>23.0</td>\n",
              "      <td>13.0</td>\n",
              "      <td>2950.0</td>\n",
              "      <td>non-USA</td>\n",
              "      <td>Toyota Celica</td>\n",
              "    </tr>\n",
              "    <tr>\n",
              "      <th>85</th>\n",
              "      <td>Toyota</td>\n",
              "      <td>Camry</td>\n",
              "      <td>Midsize</td>\n",
              "      <td>15.2</td>\n",
              "      <td>NaN</td>\n",
              "      <td>21.2</td>\n",
              "      <td>22.0</td>\n",
              "      <td>29.0</td>\n",
              "      <td>Driver only</td>\n",
              "      <td>NaN</td>\n",
              "      <td>...</td>\n",
              "      <td>5.0</td>\n",
              "      <td>188.0</td>\n",
              "      <td>103.0</td>\n",
              "      <td>70.0</td>\n",
              "      <td>38.0</td>\n",
              "      <td>28.5</td>\n",
              "      <td>15.0</td>\n",
              "      <td>3030.0</td>\n",
              "      <td>non-USA</td>\n",
              "      <td>Toyota Camry</td>\n",
              "    </tr>\n",
              "    <tr>\n",
              "      <th>86</th>\n",
              "      <td>Toyota</td>\n",
              "      <td>Previa</td>\n",
              "      <td>Van</td>\n",
              "      <td>NaN</td>\n",
              "      <td>22.7</td>\n",
              "      <td>26.6</td>\n",
              "      <td>18.0</td>\n",
              "      <td>22.0</td>\n",
              "      <td>Driver only</td>\n",
              "      <td>4WD</td>\n",
              "      <td>...</td>\n",
              "      <td>7.0</td>\n",
              "      <td>187.0</td>\n",
              "      <td>113.0</td>\n",
              "      <td>71.0</td>\n",
              "      <td>41.0</td>\n",
              "      <td>35.0</td>\n",
              "      <td>NaN</td>\n",
              "      <td>3785.0</td>\n",
              "      <td>non-USA</td>\n",
              "      <td>Toyota Previa</td>\n",
              "    </tr>\n",
              "    <tr>\n",
              "      <th>87</th>\n",
              "      <td>Volkswagen</td>\n",
              "      <td>Fox</td>\n",
              "      <td>Small</td>\n",
              "      <td>8.7</td>\n",
              "      <td>9.1</td>\n",
              "      <td>9.5</td>\n",
              "      <td>25.0</td>\n",
              "      <td>33.0</td>\n",
              "      <td>None</td>\n",
              "      <td>Front</td>\n",
              "      <td>...</td>\n",
              "      <td>4.0</td>\n",
              "      <td>163.0</td>\n",
              "      <td>93.0</td>\n",
              "      <td>63.0</td>\n",
              "      <td>34.0</td>\n",
              "      <td>26.0</td>\n",
              "      <td>10.0</td>\n",
              "      <td>2240.0</td>\n",
              "      <td>non-USA</td>\n",
              "      <td>Volkswagen Fox</td>\n",
              "    </tr>\n",
              "    <tr>\n",
              "      <th>88</th>\n",
              "      <td>Volkswagen</td>\n",
              "      <td>Eurovan</td>\n",
              "      <td>Van</td>\n",
              "      <td>16.6</td>\n",
              "      <td>19.7</td>\n",
              "      <td>22.7</td>\n",
              "      <td>17.0</td>\n",
              "      <td>21.0</td>\n",
              "      <td>None</td>\n",
              "      <td>Front</td>\n",
              "      <td>...</td>\n",
              "      <td>7.0</td>\n",
              "      <td>187.0</td>\n",
              "      <td>115.0</td>\n",
              "      <td>72.0</td>\n",
              "      <td>38.0</td>\n",
              "      <td>34.0</td>\n",
              "      <td>NaN</td>\n",
              "      <td>3960.0</td>\n",
              "      <td>NaN</td>\n",
              "      <td>Volkswagen Eurovan</td>\n",
              "    </tr>\n",
              "    <tr>\n",
              "      <th>89</th>\n",
              "      <td>Volkswagen</td>\n",
              "      <td>Passat</td>\n",
              "      <td>Compact</td>\n",
              "      <td>17.6</td>\n",
              "      <td>20.0</td>\n",
              "      <td>22.4</td>\n",
              "      <td>21.0</td>\n",
              "      <td>30.0</td>\n",
              "      <td>None</td>\n",
              "      <td>Front</td>\n",
              "      <td>...</td>\n",
              "      <td>5.0</td>\n",
              "      <td>180.0</td>\n",
              "      <td>103.0</td>\n",
              "      <td>67.0</td>\n",
              "      <td>35.0</td>\n",
              "      <td>31.5</td>\n",
              "      <td>14.0</td>\n",
              "      <td>2985.0</td>\n",
              "      <td>non-USA</td>\n",
              "      <td>Volkswagen Passat</td>\n",
              "    </tr>\n",
              "    <tr>\n",
              "      <th>90</th>\n",
              "      <td>Volkswagen</td>\n",
              "      <td>Corrado</td>\n",
              "      <td>Sporty</td>\n",
              "      <td>22.9</td>\n",
              "      <td>23.3</td>\n",
              "      <td>23.7</td>\n",
              "      <td>18.0</td>\n",
              "      <td>25.0</td>\n",
              "      <td>None</td>\n",
              "      <td>Front</td>\n",
              "      <td>...</td>\n",
              "      <td>4.0</td>\n",
              "      <td>159.0</td>\n",
              "      <td>97.0</td>\n",
              "      <td>66.0</td>\n",
              "      <td>36.0</td>\n",
              "      <td>26.0</td>\n",
              "      <td>15.0</td>\n",
              "      <td>2810.0</td>\n",
              "      <td>non-USA</td>\n",
              "      <td>Volkswagen Corrado</td>\n",
              "    </tr>\n",
              "    <tr>\n",
              "      <th>91</th>\n",
              "      <td>Volvo</td>\n",
              "      <td>240</td>\n",
              "      <td>Compact</td>\n",
              "      <td>21.8</td>\n",
              "      <td>22.7</td>\n",
              "      <td>23.5</td>\n",
              "      <td>21.0</td>\n",
              "      <td>28.0</td>\n",
              "      <td>Driver only</td>\n",
              "      <td>Rear</td>\n",
              "      <td>...</td>\n",
              "      <td>5.0</td>\n",
              "      <td>190.0</td>\n",
              "      <td>104.0</td>\n",
              "      <td>67.0</td>\n",
              "      <td>37.0</td>\n",
              "      <td>29.5</td>\n",
              "      <td>14.0</td>\n",
              "      <td>2985.0</td>\n",
              "      <td>non-USA</td>\n",
              "      <td>Volvo 240</td>\n",
              "    </tr>\n",
              "    <tr>\n",
              "      <th>92</th>\n",
              "      <td>NaN</td>\n",
              "      <td>850</td>\n",
              "      <td>Midsize</td>\n",
              "      <td>24.8</td>\n",
              "      <td>26.7</td>\n",
              "      <td>28.5</td>\n",
              "      <td>20.0</td>\n",
              "      <td>28.0</td>\n",
              "      <td>Driver &amp; Passenger</td>\n",
              "      <td>Front</td>\n",
              "      <td>...</td>\n",
              "      <td>5.0</td>\n",
              "      <td>184.0</td>\n",
              "      <td>105.0</td>\n",
              "      <td>69.0</td>\n",
              "      <td>38.0</td>\n",
              "      <td>30.0</td>\n",
              "      <td>15.0</td>\n",
              "      <td>3245.0</td>\n",
              "      <td>non-USA</td>\n",
              "      <td>Volvo 850</td>\n",
              "    </tr>\n",
              "  </tbody>\n",
              "</table>\n",
              "<p>93 rows × 27 columns</p>\n",
              "</div>"
            ],
            "text/plain": [
              "   Manufacturer          Model     Type  Min.Price  Price  Max.Price  \\\n",
              "0         Acura        Integra    Small       12.9   15.9       18.8   \n",
              "1           NaN         Legend  Midsize       29.2   33.9       38.7   \n",
              "2          Audi             90  Compact       25.9   29.1       32.3   \n",
              "3          Audi            100  Midsize        NaN   37.7       44.6   \n",
              "4           BMW           535i  Midsize        NaN   30.0        NaN   \n",
              "5         Buick        Century  Midsize       14.2   15.7       17.3   \n",
              "6         Buick        LeSabre    Large       19.9   20.8        NaN   \n",
              "7         Buick     Roadmaster    Large       22.6   23.7       24.9   \n",
              "8         Buick        Riviera  Midsize       26.3   26.3       26.3   \n",
              "9      Cadillac        DeVille    Large       33.0   34.7       36.3   \n",
              "10     Cadillac        Seville  Midsize       37.5   40.1       42.7   \n",
              "11    Chevrolet       Cavalier  Compact        8.5   13.4       18.3   \n",
              "12    Chevrolet        Corsica  Compact       11.4   11.4       11.4   \n",
              "13    Chevrolet         Camaro   Sporty       13.4   15.1       16.8   \n",
              "14    Chevrolet         Lumina  Midsize       13.4   15.9       18.4   \n",
              "15    Chevrolet     Lumina_APV      Van       14.7   16.3       18.0   \n",
              "16    Chevrolet          Astro      Van       14.7   16.6       18.6   \n",
              "17    Chevrolet        Caprice    Large       18.0   18.8       19.6   \n",
              "18    Chevrolet       Corvette   Sporty       34.6   38.0       41.5   \n",
              "19          NaN       Concorde    Large       18.4   18.4       18.4   \n",
              "20     Chrysler        LeBaron  Compact       14.5   15.8       17.1   \n",
              "21     Chrysler       Imperial    Large       29.5   29.5       29.5   \n",
              "22        Dodge           Colt    Small        7.9    9.2       10.6   \n",
              "23        Dodge         Shadow    Small        8.4   11.3       14.2   \n",
              "24        Dodge         Spirit  Compact       11.9   13.3       14.7   \n",
              "25        Dodge        Caravan      Van        NaN   19.0       24.4   \n",
              "26        Dodge        Dynasty  Midsize       14.8   15.6       16.4   \n",
              "27        Dodge        Stealth   Sporty       18.5   25.8       33.1   \n",
              "28        Eagle         Summit    Small        7.9   12.2       16.5   \n",
              "29        Eagle         Vision    Large        NaN   19.3       21.2   \n",
              "..          ...            ...      ...        ...    ...        ...   \n",
              "63       Nissan         Sentra    Small        8.7   11.8       14.9   \n",
              "64       Nissan         Altima  Compact       13.0   15.7       18.3   \n",
              "65       Nissan          Quest      Van       16.7   19.1       21.5   \n",
              "66       Nissan         Maxima  Midsize       21.0   21.5       22.0   \n",
              "67   Oldsmobile        Achieva  Compact       13.0   13.5       14.0   \n",
              "68   Oldsmobile  Cutlass_Ciera  Midsize       14.2   16.3       18.4   \n",
              "69   Oldsmobile     Silhouette      Van       19.5   19.5       19.5   \n",
              "70   Oldsmobile   Eighty-Eight    Large       19.5   20.7       21.9   \n",
              "71     Plymouth          Laser   Sporty       11.4   14.4       17.4   \n",
              "72      Pontiac         LeMans    Small        NaN    9.0        9.9   \n",
              "73      Pontiac        Sunbird  Compact        9.4   11.1       12.8   \n",
              "74      Pontiac       Firebird      NaN       14.0   17.7       21.4   \n",
              "75      Pontiac     Grand_Prix  Midsize       15.4   18.5       21.6   \n",
              "76      Pontiac     Bonneville    Large       19.4   24.4       29.4   \n",
              "77         Saab            900  Compact       20.3   28.7       37.1   \n",
              "78       Saturn             SL    Small        9.2    NaN       12.9   \n",
              "79       Subaru          Justy    Small        7.3    8.4        9.5   \n",
              "80       Subaru         Loyale    Small       10.5   10.9       11.3   \n",
              "81       Subaru         Legacy  Compact       16.3   19.5       22.7   \n",
              "82       Suzuki          Swift      NaN        7.3    8.6        NaN   \n",
              "83       Toyota         Tercel    Small        NaN    9.8       11.8   \n",
              "84       Toyota         Celica   Sporty       14.2   18.4       22.6   \n",
              "85       Toyota          Camry  Midsize       15.2    NaN       21.2   \n",
              "86       Toyota         Previa      Van        NaN   22.7       26.6   \n",
              "87   Volkswagen            Fox    Small        8.7    9.1        9.5   \n",
              "88   Volkswagen        Eurovan      Van       16.6   19.7       22.7   \n",
              "89   Volkswagen         Passat  Compact       17.6   20.0       22.4   \n",
              "90   Volkswagen        Corrado   Sporty       22.9   23.3       23.7   \n",
              "91        Volvo            240  Compact       21.8   22.7       23.5   \n",
              "92          NaN            850  Midsize       24.8   26.7       28.5   \n",
              "\n",
              "    MPG.city  MPG.highway             AirBags DriveTrain  \\\n",
              "0       25.0         31.0                None      Front   \n",
              "1       18.0         25.0  Driver & Passenger      Front   \n",
              "2       20.0         26.0         Driver only      Front   \n",
              "3       19.0         26.0  Driver & Passenger        NaN   \n",
              "4       22.0         30.0                 NaN       Rear   \n",
              "5       22.0         31.0         Driver only        NaN   \n",
              "6       19.0         28.0         Driver only      Front   \n",
              "7       16.0         25.0         Driver only       Rear   \n",
              "8       19.0         27.0         Driver only      Front   \n",
              "9       16.0         25.0         Driver only      Front   \n",
              "10      16.0         25.0  Driver & Passenger      Front   \n",
              "11      25.0         36.0                 NaN        NaN   \n",
              "12      25.0         34.0         Driver only      Front   \n",
              "13      19.0         28.0  Driver & Passenger       Rear   \n",
              "14       NaN         29.0                None      Front   \n",
              "15      18.0         23.0                None      Front   \n",
              "16      15.0         20.0                None        4WD   \n",
              "17      17.0         26.0         Driver only       Rear   \n",
              "18      17.0         25.0         Driver only       Rear   \n",
              "19      20.0         28.0  Driver & Passenger      Front   \n",
              "20      23.0         28.0  Driver & Passenger      Front   \n",
              "21      20.0         26.0         Driver only      Front   \n",
              "22      29.0         33.0                None      Front   \n",
              "23      23.0         29.0         Driver only      Front   \n",
              "24      22.0         27.0         Driver only      Front   \n",
              "25      17.0         21.0         Driver only        4WD   \n",
              "26      21.0          NaN         Driver only      Front   \n",
              "27       NaN         24.0         Driver only        4WD   \n",
              "28      29.0         33.0                None      Front   \n",
              "29      20.0         28.0  Driver & Passenger      Front   \n",
              "..       ...          ...                 ...        ...   \n",
              "63      29.0         33.0         Driver only      Front   \n",
              "64      24.0         30.0         Driver only      Front   \n",
              "65      17.0         23.0                None      Front   \n",
              "66      21.0         26.0         Driver only      Front   \n",
              "67      24.0         31.0                None      Front   \n",
              "68      23.0         31.0         Driver only      Front   \n",
              "69      18.0         23.0                None      Front   \n",
              "70       NaN         28.0         Driver only      Front   \n",
              "71       NaN         30.0                None        4WD   \n",
              "72      31.0         41.0                None      Front   \n",
              "73       NaN         31.0                None        NaN   \n",
              "74      19.0         28.0  Driver & Passenger       Rear   \n",
              "75      19.0         27.0                None      Front   \n",
              "76      19.0         28.0  Driver & Passenger      Front   \n",
              "77      20.0         26.0                 NaN      Front   \n",
              "78       NaN         38.0         Driver only      Front   \n",
              "79      33.0         37.0                None        4WD   \n",
              "80      25.0         30.0                None        4WD   \n",
              "81      23.0         30.0         Driver only        4WD   \n",
              "82      39.0         43.0                None      Front   \n",
              "83      32.0         37.0         Driver only      Front   \n",
              "84      25.0         32.0                 NaN      Front   \n",
              "85      22.0         29.0         Driver only        NaN   \n",
              "86      18.0         22.0         Driver only        4WD   \n",
              "87      25.0         33.0                None      Front   \n",
              "88      17.0         21.0                None      Front   \n",
              "89      21.0         30.0                None      Front   \n",
              "90      18.0         25.0                None      Front   \n",
              "91      21.0         28.0         Driver only       Rear   \n",
              "92      20.0         28.0  Driver & Passenger      Front   \n",
              "\n",
              "              ...            Passengers  Length  Wheelbase  Width  \\\n",
              "0             ...                   5.0   177.0      102.0   68.0   \n",
              "1             ...                   5.0   195.0      115.0   71.0   \n",
              "2             ...                   5.0   180.0      102.0   67.0   \n",
              "3             ...                   6.0   193.0      106.0    NaN   \n",
              "4             ...                   4.0   186.0      109.0   69.0   \n",
              "5             ...                   6.0   189.0      105.0   69.0   \n",
              "6             ...                   6.0   200.0      111.0   74.0   \n",
              "7             ...                   6.0   216.0      116.0   78.0   \n",
              "8             ...                   5.0   198.0      108.0    NaN   \n",
              "9             ...                   6.0   206.0      114.0   73.0   \n",
              "10            ...                   5.0   204.0      111.0   74.0   \n",
              "11            ...                   5.0   182.0      101.0   66.0   \n",
              "12            ...                   5.0   184.0      103.0   68.0   \n",
              "13            ...                   4.0   193.0      101.0   74.0   \n",
              "14            ...                   6.0     NaN      108.0   71.0   \n",
              "15            ...                   7.0   178.0      110.0   74.0   \n",
              "16            ...                   8.0   194.0      111.0   78.0   \n",
              "17            ...                   6.0   214.0      116.0   77.0   \n",
              "18            ...                   2.0   179.0       96.0   74.0   \n",
              "19            ...                   6.0   203.0      113.0   74.0   \n",
              "20            ...                   6.0   183.0      104.0   68.0   \n",
              "21            ...                   6.0   203.0      110.0   69.0   \n",
              "22            ...                   5.0   174.0       98.0   66.0   \n",
              "23            ...                   5.0   172.0       97.0   67.0   \n",
              "24            ...                   6.0   181.0      104.0   68.0   \n",
              "25            ...                   7.0   175.0      112.0   72.0   \n",
              "26            ...                   6.0   192.0      105.0   69.0   \n",
              "27            ...                   4.0   180.0       97.0    NaN   \n",
              "28            ...                   5.0   174.0       98.0   66.0   \n",
              "29            ...                   6.0   202.0      113.0   74.0   \n",
              "..            ...                   ...     ...        ...    ...   \n",
              "63            ...                   5.0   170.0       96.0   66.0   \n",
              "64            ...                   5.0   181.0      103.0   67.0   \n",
              "65            ...                   7.0   190.0      112.0   74.0   \n",
              "66            ...                   5.0   188.0      104.0   69.0   \n",
              "67            ...                   5.0   188.0      103.0   67.0   \n",
              "68            ...                   5.0   190.0      105.0   70.0   \n",
              "69            ...                   7.0     NaN      110.0   74.0   \n",
              "70            ...                   6.0   201.0      111.0   74.0   \n",
              "71            ...                   4.0   173.0       97.0   67.0   \n",
              "72            ...                   4.0   177.0       99.0   66.0   \n",
              "73            ...                   5.0   181.0      101.0   66.0   \n",
              "74            ...                   4.0   196.0      101.0   75.0   \n",
              "75            ...                   5.0   195.0      108.0   72.0   \n",
              "76            ...                   6.0   177.0      111.0   74.0   \n",
              "77            ...                   5.0     NaN       99.0   67.0   \n",
              "78            ...                   5.0   176.0      102.0   68.0   \n",
              "79            ...                   4.0   146.0       90.0   60.0   \n",
              "80            ...                   5.0   175.0       97.0   65.0   \n",
              "81            ...                   5.0   179.0      102.0   67.0   \n",
              "82            ...                   4.0   161.0       93.0    NaN   \n",
              "83            ...                   NaN   162.0       94.0    NaN   \n",
              "84            ...                   4.0   174.0       99.0   69.0   \n",
              "85            ...                   5.0   188.0      103.0   70.0   \n",
              "86            ...                   7.0   187.0      113.0   71.0   \n",
              "87            ...                   4.0   163.0       93.0   63.0   \n",
              "88            ...                   7.0   187.0      115.0   72.0   \n",
              "89            ...                   5.0   180.0      103.0   67.0   \n",
              "90            ...                   4.0   159.0       97.0   66.0   \n",
              "91            ...                   5.0   190.0      104.0   67.0   \n",
              "92            ...                   5.0   184.0      105.0   69.0   \n",
              "\n",
              "    Turn.circle Rear.seat.room  Luggage.room  Weight   Origin  \\\n",
              "0          37.0           26.5           NaN  2705.0  non-USA   \n",
              "1          38.0           30.0          15.0  3560.0  non-USA   \n",
              "2          37.0           28.0          14.0  3375.0  non-USA   \n",
              "3          37.0           31.0          17.0  3405.0  non-USA   \n",
              "4          39.0           27.0          13.0  3640.0  non-USA   \n",
              "5          41.0           28.0          16.0     NaN      USA   \n",
              "6          42.0           30.5          17.0  3470.0      USA   \n",
              "7          45.0           30.5          21.0  4105.0      USA   \n",
              "8          41.0           26.5          14.0  3495.0      USA   \n",
              "9          43.0           35.0          18.0  3620.0      USA   \n",
              "10         44.0           31.0           NaN  3935.0      USA   \n",
              "11         38.0           25.0          13.0  2490.0      USA   \n",
              "12         39.0           26.0           NaN  2785.0      USA   \n",
              "13         43.0           25.0          13.0  3240.0      USA   \n",
              "14          NaN           28.5          16.0  3195.0      USA   \n",
              "15         44.0           30.5           NaN  3715.0      USA   \n",
              "16         42.0           33.5           NaN  4025.0      USA   \n",
              "17         42.0           29.5          20.0  3910.0      USA   \n",
              "18         43.0            NaN           NaN  3380.0      NaN   \n",
              "19          NaN           31.0          15.0  3515.0      USA   \n",
              "20         41.0           30.5          14.0  3085.0      USA   \n",
              "21         44.0           36.0          17.0  3570.0      USA   \n",
              "22         32.0            NaN          11.0  2270.0      USA   \n",
              "23         38.0           26.5           NaN  2670.0      USA   \n",
              "24         39.0           30.5           NaN  2970.0      USA   \n",
              "25         42.0           26.5           NaN  3705.0      USA   \n",
              "26         42.0           30.5          16.0  3080.0      USA   \n",
              "27         40.0           20.0          11.0  3805.0      USA   \n",
              "28         36.0           26.5          11.0  2295.0      USA   \n",
              "29         40.0           30.0          15.0  3490.0      USA   \n",
              "..          ...            ...           ...     ...      ...   \n",
              "63         33.0           26.0           NaN     NaN  non-USA   \n",
              "64         40.0           28.5          14.0  3050.0  non-USA   \n",
              "65         41.0           27.0           NaN  4100.0  non-USA   \n",
              "66         41.0           28.5          14.0  3200.0  non-USA   \n",
              "67         39.0           28.0          14.0  2910.0      USA   \n",
              "68         42.0           28.0          16.0  2890.0      USA   \n",
              "69         44.0           30.5           NaN  3715.0      USA   \n",
              "70         42.0           31.5          17.0  3470.0      USA   \n",
              "71         39.0           24.5           8.0  2640.0      NaN   \n",
              "72         35.0           25.5          17.0  2350.0      USA   \n",
              "73         39.0           25.0          13.0     NaN      USA   \n",
              "74         43.0           25.0          13.0  3240.0      USA   \n",
              "75         41.0           28.5          16.0  3450.0      USA   \n",
              "76         43.0           30.5          18.0  3495.0      USA   \n",
              "77         37.0           26.5          14.0  2775.0  non-USA   \n",
              "78         40.0           26.5           NaN  2495.0      USA   \n",
              "79         32.0           23.5          10.0  2045.0  non-USA   \n",
              "80         35.0           27.5          15.0  2490.0  non-USA   \n",
              "81         37.0           27.0          14.0  3085.0  non-USA   \n",
              "82         34.0           27.5          10.0  1965.0  non-USA   \n",
              "83         36.0           24.0          11.0  2055.0  non-USA   \n",
              "84          NaN           23.0          13.0  2950.0  non-USA   \n",
              "85         38.0           28.5          15.0  3030.0  non-USA   \n",
              "86         41.0           35.0           NaN  3785.0  non-USA   \n",
              "87         34.0           26.0          10.0  2240.0  non-USA   \n",
              "88         38.0           34.0           NaN  3960.0      NaN   \n",
              "89         35.0           31.5          14.0  2985.0  non-USA   \n",
              "90         36.0           26.0          15.0  2810.0  non-USA   \n",
              "91         37.0           29.5          14.0  2985.0  non-USA   \n",
              "92         38.0           30.0          15.0  3245.0  non-USA   \n",
              "\n",
              "                        Make  \n",
              "0              Acura Integra  \n",
              "1               Acura Legend  \n",
              "2                    Audi 90  \n",
              "3                   Audi 100  \n",
              "4                   BMW 535i  \n",
              "5              Buick Century  \n",
              "6              Buick LeSabre  \n",
              "7           Buick Roadmaster  \n",
              "8              Buick Riviera  \n",
              "9           Cadillac DeVille  \n",
              "10          Cadillac Seville  \n",
              "11        Chevrolet Cavalier  \n",
              "12         Chevrolet Corsica  \n",
              "13          Chevrolet Camaro  \n",
              "14          Chevrolet Lumina  \n",
              "15      Chevrolet Lumina_APV  \n",
              "16           Chevrolet Astro  \n",
              "17         Chevrolet Caprice  \n",
              "18        Chevrolet Corvette  \n",
              "19         Chrylser Concorde  \n",
              "20          Chrysler LeBaron  \n",
              "21         Chrysler Imperial  \n",
              "22                Dodge Colt  \n",
              "23              Dodge Shadow  \n",
              "24              Dodge Spirit  \n",
              "25             Dodge Caravan  \n",
              "26             Dodge Dynasty  \n",
              "27             Dodge Stealth  \n",
              "28              Eagle Summit  \n",
              "29              Eagle Vision  \n",
              "..                       ...  \n",
              "63             Nissan Sentra  \n",
              "64             Nissan Altima  \n",
              "65              Nissan Quest  \n",
              "66             Nissan Maxima  \n",
              "67        Oldsmobile Achieva  \n",
              "68  Oldsmobile Cutlass_Ciera  \n",
              "69     Oldsmobile Silhouette  \n",
              "70   Oldsmobile Eighty-Eight  \n",
              "71            Plymouth Laser  \n",
              "72            Pontiac LeMans  \n",
              "73                       NaN  \n",
              "74          Pontiac Firebird  \n",
              "75        Pontiac Grand_Prix  \n",
              "76        Pontiac Bonneville  \n",
              "77                  Saab 900  \n",
              "78                 Saturn SL  \n",
              "79              Subaru Justy  \n",
              "80             Subaru Loyale  \n",
              "81             Subaru Legacy  \n",
              "82              Suzuki Swift  \n",
              "83             Toyota Tercel  \n",
              "84             Toyota Celica  \n",
              "85              Toyota Camry  \n",
              "86             Toyota Previa  \n",
              "87            Volkswagen Fox  \n",
              "88        Volkswagen Eurovan  \n",
              "89         Volkswagen Passat  \n",
              "90        Volkswagen Corrado  \n",
              "91                 Volvo 240  \n",
              "92                 Volvo 850  \n",
              "\n",
              "[93 rows x 27 columns]"
            ]
          },
          "metadata": {
            "tags": []
          },
          "execution_count": 123
        }
      ]
    },
    {
      "cell_type": "markdown",
      "metadata": {
        "id": "wSbevT3dZiTO"
      },
      "source": [
        "**47\\.** Перевести индексы первого и третьего уровня в колонки"
      ]
    },
    {
      "cell_type": "code",
      "metadata": {
        "id": "EIA_YJokZiTO",
        "colab": {
          "base_uri": "https://localhost:8080/",
          "height": 266
        },
        "outputId": "2a5e5f8e-98ec-42b2-b7b2-e72e7db96c6e"
      },
      "source": [
        "df = pd.DataFrame({\n",
        "    'school_code': ['s001','s002','s003','s001','s002','s004'],\n",
        "    'class': ['V', 'V', 'VI', 'VI', 'V', 'VI'],\n",
        "    'name': ['Alberto Franco','Gino Mcneill','Ryan Parkes', 'Eesha Hinton', 'Gino Mcneill', 'David Parkes'],\n",
        "    'date_of_birth': ['15/05/2002','17/05/2002','16/02/1999','25/09/1998','11/05/2002','15/09/1997'],\n",
        "    'weight': [35, 32, 33, 30, 31, 32],\n",
        "    't_id': ['t1', 't2', 't3', 't4', 't5', 't6']})\n",
        "df1 = df.set_index(['t_id', 'school_code', 'class'])\n",
        "df1.reset_index(level=[0, 2])"
      ],
      "execution_count": null,
      "outputs": [
        {
          "output_type": "execute_result",
          "data": {
            "text/html": [
              "<div>\n",
              "<style scoped>\n",
              "    .dataframe tbody tr th:only-of-type {\n",
              "        vertical-align: middle;\n",
              "    }\n",
              "\n",
              "    .dataframe tbody tr th {\n",
              "        vertical-align: top;\n",
              "    }\n",
              "\n",
              "    .dataframe thead th {\n",
              "        text-align: right;\n",
              "    }\n",
              "</style>\n",
              "<table border=\"1\" class=\"dataframe\">\n",
              "  <thead>\n",
              "    <tr style=\"text-align: right;\">\n",
              "      <th></th>\n",
              "      <th>t_id</th>\n",
              "      <th>class</th>\n",
              "      <th>name</th>\n",
              "      <th>date_of_birth</th>\n",
              "      <th>weight</th>\n",
              "    </tr>\n",
              "    <tr>\n",
              "      <th>school_code</th>\n",
              "      <th></th>\n",
              "      <th></th>\n",
              "      <th></th>\n",
              "      <th></th>\n",
              "      <th></th>\n",
              "    </tr>\n",
              "  </thead>\n",
              "  <tbody>\n",
              "    <tr>\n",
              "      <th>s001</th>\n",
              "      <td>t1</td>\n",
              "      <td>V</td>\n",
              "      <td>Alberto Franco</td>\n",
              "      <td>15/05/2002</td>\n",
              "      <td>35</td>\n",
              "    </tr>\n",
              "    <tr>\n",
              "      <th>s002</th>\n",
              "      <td>t2</td>\n",
              "      <td>V</td>\n",
              "      <td>Gino Mcneill</td>\n",
              "      <td>17/05/2002</td>\n",
              "      <td>32</td>\n",
              "    </tr>\n",
              "    <tr>\n",
              "      <th>s003</th>\n",
              "      <td>t3</td>\n",
              "      <td>VI</td>\n",
              "      <td>Ryan Parkes</td>\n",
              "      <td>16/02/1999</td>\n",
              "      <td>33</td>\n",
              "    </tr>\n",
              "    <tr>\n",
              "      <th>s001</th>\n",
              "      <td>t4</td>\n",
              "      <td>VI</td>\n",
              "      <td>Eesha Hinton</td>\n",
              "      <td>25/09/1998</td>\n",
              "      <td>30</td>\n",
              "    </tr>\n",
              "    <tr>\n",
              "      <th>s002</th>\n",
              "      <td>t5</td>\n",
              "      <td>V</td>\n",
              "      <td>Gino Mcneill</td>\n",
              "      <td>11/05/2002</td>\n",
              "      <td>31</td>\n",
              "    </tr>\n",
              "    <tr>\n",
              "      <th>s004</th>\n",
              "      <td>t6</td>\n",
              "      <td>VI</td>\n",
              "      <td>David Parkes</td>\n",
              "      <td>15/09/1997</td>\n",
              "      <td>32</td>\n",
              "    </tr>\n",
              "  </tbody>\n",
              "</table>\n",
              "</div>"
            ],
            "text/plain": [
              "            t_id class            name date_of_birth  weight\n",
              "school_code                                                 \n",
              "s001          t1     V  Alberto Franco    15/05/2002      35\n",
              "s002          t2     V    Gino Mcneill    17/05/2002      32\n",
              "s003          t3    VI     Ryan Parkes    16/02/1999      33\n",
              "s001          t4    VI    Eesha Hinton    25/09/1998      30\n",
              "s002          t5     V    Gino Mcneill    11/05/2002      31\n",
              "s004          t6    VI    David Parkes    15/09/1997      32"
            ]
          },
          "metadata": {
            "tags": []
          },
          "execution_count": 52
        }
      ]
    },
    {
      "cell_type": "markdown",
      "metadata": {
        "id": "nogUkgOOZiTO"
      },
      "source": [
        "**48\\.** Вывести строку из Series и DataFrame по заданному индексу"
      ]
    },
    {
      "cell_type": "code",
      "metadata": {
        "id": "z7nBZsIXZiTP",
        "colab": {
          "base_uri": "https://localhost:8080/"
        },
        "outputId": "a188ab17-09ba-4ef1-ddb3-9bdf9396d6b8"
      },
      "source": [
        "ds = pd.Series([1,3,5,7,9,11,13,15], index=[0,1,2,3,4,5,7,8])\n",
        "df = pd.DataFrame({\n",
        "    'school_code': ['s001','s002','s003','s001','s002','s004'],\n",
        "    'class': ['V', 'V', 'VI', 'VI', 'V', 'VI'],\n",
        "    'name': ['Alberto Franco','Gino Mcneill','Ryan Parkes', 'Eesha Hinton', 'Gino Mcneill', 'David Parkes'],\n",
        "    'date_of_birth': ['15/05/2002','17/05/2002','16/02/1999','25/09/1998','11/05/2002','15/09/1997'],\n",
        "    'weight': [35, 32, 33, 30, 31, 32]})\n",
        "\n",
        "indx = 4\n",
        "\n",
        "ds.iloc[indx]\n",
        "df.iloc[indx]"
      ],
      "execution_count": null,
      "outputs": [
        {
          "output_type": "execute_result",
          "data": {
            "text/plain": [
              "school_code              s002\n",
              "class                       V\n",
              "name             Gino Mcneill\n",
              "date_of_birth      11/05/2002\n",
              "weight                     31\n",
              "Name: 4, dtype: object"
            ]
          },
          "metadata": {
            "tags": []
          },
          "execution_count": 53
        }
      ]
    },
    {
      "cell_type": "markdown",
      "metadata": {
        "id": "AFHyRnDVZiTP"
      },
      "source": [
        "**49\\.** Найти индексы строк с пропущенными данными"
      ]
    },
    {
      "cell_type": "code",
      "metadata": {
        "id": "iAjw84HiZiTP",
        "colab": {
          "base_uri": "https://localhost:8080/"
        },
        "outputId": "f0c71d2b-f4ee-4229-f758-d0112d238e7d"
      },
      "source": [
        "df = pd.DataFrame({\n",
        "    'school_code': ['s001','s002','s003','s001','s002','s004'],\n",
        "    'class': ['V', 'V', 'VI', 'VI', 'V', 'VI'],\n",
        "    'name': ['Alberto Franco','Gino Mcneill','Ryan Parkes', 'Eesha Hinton', 'Gino Mcneill', 'David Parkes'],\n",
        "    'date_of_birth': ['15/05/2002','17/05/2002','16/02/1999','25/09/1998','11/05/2002','15/09/1997'],\n",
        "    'weight': [35, None, 33, 30, 31, None]},\n",
        "     index = ['t1', 't2', 't3', 't4', 't5', 't6'])\n",
        "\n",
        "df[df.isna().any(1)].index"
      ],
      "execution_count": null,
      "outputs": [
        {
          "output_type": "execute_result",
          "data": {
            "text/plain": [
              "Index(['t2', 't6'], dtype='object')"
            ]
          },
          "metadata": {
            "tags": []
          },
          "execution_count": 54
        }
      ]
    },
    {
      "cell_type": "markdown",
      "metadata": {
        "id": "RuRAJun-ZiTQ"
      },
      "source": [
        "**50\\.** Сделать left join датафреймов"
      ]
    },
    {
      "cell_type": "code",
      "metadata": {
        "collapsed": true,
        "id": "zTcKVk4mZiTQ"
      },
      "source": [
        "data1 = pd.DataFrame({'key1': ['K0', 'K0', 'K1', 'K2'],\n",
        "                     'key2': ['K0', 'K1', 'K0', 'K1'],\n",
        "                     'P': ['P0', 'P1', 'P2', 'P3'],\n",
        "                     'Q': ['Q0', 'Q1', 'Q2', 'Q3']}) \n",
        "data2 = pd.DataFrame({'key1': ['K0', 'K1', 'K1', 'K2'],\n",
        "                      'key2': ['K0', 'K0', 'K0', 'K0'],\n",
        "                      'R': ['R0', 'R1', 'R2', 'R3'],\n",
        "                      'S': ['S0', 'S1', 'S2', 'S3']})"
      ],
      "execution_count": null,
      "outputs": []
    },
    {
      "cell_type": "markdown",
      "metadata": {
        "id": "TTYU29h5ZiTQ"
      },
      "source": [
        "**51\\.** Соединить два датафрейма"
      ]
    },
    {
      "cell_type": "code",
      "metadata": {
        "id": "y3lc9TF4ZiTQ",
        "colab": {
          "base_uri": "https://localhost:8080/",
          "height": 173
        },
        "outputId": "672c91c4-3bf5-4828-c40c-846915d38a42"
      },
      "source": [
        "data1 = pd.DataFrame({'A': ['A0', 'A1', 'A2'],\n",
        "                      'B': ['B0', 'B1', 'B2']},\n",
        "                     index=['K0', 'K1', 'K2'])\n",
        "\n",
        "data2 = pd.DataFrame({'C': ['C0', 'C2', 'C3'],\n",
        "                      'D': ['D0', 'D2', 'D3']},\n",
        "                     index=['K0', 'K2', 'K3'])\n",
        "\n",
        "pd.concat([data1, data2], axis=1)"
      ],
      "execution_count": null,
      "outputs": [
        {
          "output_type": "execute_result",
          "data": {
            "text/html": [
              "<div>\n",
              "<style scoped>\n",
              "    .dataframe tbody tr th:only-of-type {\n",
              "        vertical-align: middle;\n",
              "    }\n",
              "\n",
              "    .dataframe tbody tr th {\n",
              "        vertical-align: top;\n",
              "    }\n",
              "\n",
              "    .dataframe thead th {\n",
              "        text-align: right;\n",
              "    }\n",
              "</style>\n",
              "<table border=\"1\" class=\"dataframe\">\n",
              "  <thead>\n",
              "    <tr style=\"text-align: right;\">\n",
              "      <th></th>\n",
              "      <th>A</th>\n",
              "      <th>B</th>\n",
              "      <th>C</th>\n",
              "      <th>D</th>\n",
              "    </tr>\n",
              "  </thead>\n",
              "  <tbody>\n",
              "    <tr>\n",
              "      <th>K0</th>\n",
              "      <td>A0</td>\n",
              "      <td>B0</td>\n",
              "      <td>C0</td>\n",
              "      <td>D0</td>\n",
              "    </tr>\n",
              "    <tr>\n",
              "      <th>K1</th>\n",
              "      <td>A1</td>\n",
              "      <td>B1</td>\n",
              "      <td>NaN</td>\n",
              "      <td>NaN</td>\n",
              "    </tr>\n",
              "    <tr>\n",
              "      <th>K2</th>\n",
              "      <td>A2</td>\n",
              "      <td>B2</td>\n",
              "      <td>C2</td>\n",
              "      <td>D2</td>\n",
              "    </tr>\n",
              "    <tr>\n",
              "      <th>K3</th>\n",
              "      <td>NaN</td>\n",
              "      <td>NaN</td>\n",
              "      <td>C3</td>\n",
              "      <td>D3</td>\n",
              "    </tr>\n",
              "  </tbody>\n",
              "</table>\n",
              "</div>"
            ],
            "text/plain": [
              "      A    B    C    D\n",
              "K0   A0   B0   C0   D0\n",
              "K1   A1   B1  NaN  NaN\n",
              "K2   A2   B2   C2   D2\n",
              "K3  NaN  NaN   C3   D3"
            ]
          },
          "metadata": {
            "tags": []
          },
          "execution_count": 55
        }
      ]
    },
    {
      "cell_type": "markdown",
      "metadata": {
        "id": "XiFdSylmZiTR"
      },
      "source": [
        "**52\\.** Сгруппировать датафрейм по полям 'customer_id' и 'salesman_id' и отсортировать по sum of purch_amt внутри каждой группы"
      ]
    },
    {
      "cell_type": "code",
      "metadata": {
        "id": "C5luXCXkZiTR",
        "colab": {
          "base_uri": "https://localhost:8080/"
        },
        "outputId": "b31ff316-5aaa-42fd-ef55-b1c1dbdf7892"
      },
      "source": [
        "df = pd.DataFrame({\n",
        "'ord_no':[70001,70009,70002,70004,70007,70005,70008,70010,70003,70012,70011,70013],\n",
        "'purch_amt':[150.5,270.65,65.26,110.5,948.5,2400.6,5760,1983.43,2480.4,250.45, 75.29,3045.6],\n",
        "'ord_date': ['2012-10-05','2012-09-10','2012-10-05','2012-08-17','2012-09-10','2012-07-27','2012-09-10','2012-10-10','2012-10-10','2012-06-27','2012-08-17','2012-04-25'],\n",
        "'customer_id':[3001,3001,3005,3001,3005,3001,3005,3001,3005,3001,3005,3005],\n",
        "'salesman_id': [5002,5005,5001,5003,5002,5001,5001,5006,5003,5002,5007,5001]})\n",
        "\n",
        "df.groupby(['customer_id','salesman_id'])['purch_amt'].sum().sort_values()"
      ],
      "execution_count": null,
      "outputs": [
        {
          "output_type": "execute_result",
          "data": {
            "text/plain": [
              "customer_id  salesman_id\n",
              "3005         5007             75.29\n",
              "3001         5003            110.50\n",
              "             5005            270.65\n",
              "             5002            400.95\n",
              "3005         5002            948.50\n",
              "3001         5006           1983.43\n",
              "             5001           2400.60\n",
              "3005         5003           2480.40\n",
              "             5001           8870.86\n",
              "Name: purch_amt, dtype: float64"
            ]
          },
          "metadata": {
            "tags": []
          },
          "execution_count": 56
        }
      ]
    },
    {
      "cell_type": "markdown",
      "metadata": {
        "id": "Dv3pLE8-ZiTR"
      },
      "source": [
        "**53\\.** Сгруппировать датафрейм по месяцу и году из даты ord_date и найти общее количество заказов по годам и по месяцам"
      ]
    },
    {
      "cell_type": "code",
      "metadata": {
        "collapsed": true,
        "id": "ITnmSBg8ZiTR"
      },
      "source": [
        "df = pd.DataFrame({\n",
        "'ord_no':[70001,70009,70002,70004,70007,70005,70008,70010,70003,70012,70011,70013],\n",
        "'purch_amt':[150.5,270.65,65.26,110.5,948.5,2400.6,5760,1983.43,2480.4,250.45, 75.29,3045.6],\n",
        "'ord_date': ['05-10-2012','09-10-2012','05-10-2013','08-17-2013','10-09-2013','07-27-2014','10-09-2012','10-10-2012','10-10-2012','06-17-2014','07-08-2012','04-25-2012'],\n",
        "'customer_id':[3001,3001,3005,3001,3005,3001,3005,3001,3005,3001,3005,3005],\n",
        "'salesman_id': [5002,5005,5001,5003,5002,5001,5001,5006,5003,5002,5007,5001]})\n",
        "\n"
      ],
      "execution_count": null,
      "outputs": []
    },
    {
      "cell_type": "markdown",
      "metadata": {
        "id": "IwQJ6zx6ZiTS"
      },
      "source": [
        "# Regular expressions with Pandas"
      ]
    },
    {
      "cell_type": "markdown",
      "metadata": {
        "id": "NdrARq7NZiTS"
      },
      "source": [
        "**1\\.** Выделить в отдельную колонку event_id первую цифру в кавычках, во вторую колонку event_probability вероятность (★☆☆) "
      ]
    },
    {
      "cell_type": "code",
      "metadata": {
        "collapsed": true,
        "id": "N5khk_xEZiTS"
      },
      "source": [
        "df=pd.DataFrame({'col1':[\"{'34': 0.9839372122311848}\",\n",
        "                         \"{'77': 0.6724645988404411}\",\n",
        "                         \"{'77': 0.6491011266207006}\",\n",
        "                         \"{'77': 0.6123085784265466}\",\n",
        "                         \"{'34': 0.87}\",\n",
        "                         \"{'77': 0.6225699652019304}\",\n",
        "                         \"{'3': 0.5470808226524633}\",\n",
        "                         \"{'77': 0.6233849004135044}\",\n",
        "                         \"{'77': 0.7050888998743866}\",\n",
        "                         \"{'52': 0.8945052223205372}\"]})\n",
        "\n",
        "#your code\n"
      ],
      "execution_count": null,
      "outputs": []
    },
    {
      "cell_type": "markdown",
      "metadata": {
        "id": "tfodr_80ZiTS"
      },
      "source": [
        "**2\\.** Удалите все тэги, переносы строк из текстов новостей (★★★)\n",
        "\n",
        "(hint: df.column.str())"
      ]
    },
    {
      "cell_type": "code",
      "metadata": {
        "id": "MBuY_O7aZiTT"
      },
      "source": [
        "df = pd.read_excel('/drive/my-drive/news.xlsx')\n",
        "\n",
        "#your code\n",
        "df['text']=df['text'].str.replace(r'<.*>|\\n','')\n",
        "df"
      ],
      "execution_count": null,
      "outputs": []
    },
    {
      "cell_type": "markdown",
      "metadata": {
        "id": "cH1ZkFG8ZiTT"
      },
      "source": [
        "**3\\.** Проставьте флаг в колонку source_ria если текст новости содержит: риа новости, тасс, коммерсант. Перед поиском переведите тексты в lower и удалите все кроме букв. Данные после чистки из предыдушего задания (★★★)\n",
        "\n",
        "(hint: df.column.str())"
      ]
    },
    {
      "cell_type": "code",
      "metadata": {
        "collapsed": true,
        "id": "CxRSdrwIZiTT"
      },
      "source": [
        "\n",
        "df['text']=df['text'].str.lower()\n",
        "df['text']=df['text'].str.replace(r'\\W+\\d+',' ')\n",
        "df['source_ria']=df['text'].str.match(r'.*(риа новости|тасс|коммерсант).*')\n",
        "df"
      ],
      "execution_count": null,
      "outputs": []
    },
    {
      "cell_type": "markdown",
      "metadata": {
        "id": "QZDp-ozPZiTT"
      },
      "source": [
        "**4\\.** Отфильтруйте строки с валидными емейлами (★★★)"
      ]
    },
    {
      "cell_type": "code",
      "metadata": {
        "id": "-mAHSdj7ZiTT",
        "colab": {
          "base_uri": "https://localhost:8080/"
        },
        "outputId": "14694b36-868c-45ef-d837-077e858b3454"
      },
      "source": [
        "emails = pd.Series(['buying books at amazom.com', 'rameses@egypt.com', 'matt@t.co', 'narendra@modi.com', 'kek lol@mail.ru'])\n",
        "\n",
        "#your code\n",
        "emails[emails.str.match(r'\\w+@\\w+.\\w+')]"
      ],
      "execution_count": null,
      "outputs": [
        {
          "output_type": "execute_result",
          "data": {
            "text/plain": [
              "1    rameses@egypt.com\n",
              "2            matt@t.co\n",
              "3    narendra@modi.com\n",
              "dtype: object"
            ]
          },
          "metadata": {
            "tags": []
          },
          "execution_count": 59
        }
      ]
    },
    {
      "cell_type": "markdown",
      "metadata": {
        "id": "pg3m-Cp7ZiTU"
      },
      "source": [
        "**5\\.** Напишите паттерн для поиска строки содержащей только буквы в верхнем и нижнем регистре, цифры и подчеркивание"
      ]
    },
    {
      "cell_type": "code",
      "metadata": {
        "collapsed": true,
        "id": "xtFgt9XmZiTU"
      },
      "source": [
        ""
      ],
      "execution_count": null,
      "outputs": []
    },
    {
      "cell_type": "markdown",
      "metadata": {
        "id": "RS9WtTF0ZiTU"
      },
      "source": [
        "**6\\.** Замените пробелы на подчеркивание и наоборот"
      ]
    },
    {
      "cell_type": "code",
      "metadata": {
        "collapsed": true,
        "id": "3gbCZvixZiTU"
      },
      "source": [
        "\n",
        "text='Hello, my name is Aleksandr Shevtsov'\n",
        "first=re.sub(r' ', '_', text)\n",
        "second=re.sub(r'_', ' ', text)\n",
        "s1, s2"
      ],
      "execution_count": null,
      "outputs": []
    },
    {
      "cell_type": "markdown",
      "metadata": {
        "id": "a-RcTfwPZiTV"
      },
      "source": [
        "**7\\.** Найдите слова длиной 3,4,5 "
      ]
    },
    {
      "cell_type": "code",
      "metadata": {
        "collapsed": true,
        "id": "qgWP7dMVZiTV"
      },
      "source": [
        "text = 'cat dog java python car javascript php kotlin'\n",
        "re.findall(r'\\b([a-zA-Zа-яА-ЯёЁ]{3,5})\\b', text)"
      ],
      "execution_count": null,
      "outputs": []
    },
    {
      "cell_type": "markdown",
      "metadata": {
        "id": "OigfHHPQZiTV"
      },
      "source": [
        "**8\\.** Сделайте регистронезависимую замену(replace) во входной строке"
      ]
    },
    {
      "cell_type": "code",
      "metadata": {
        "id": "_z3AHaqlZiTV",
        "colab": {
          "base_uri": "https://localhost:8080/",
          "height": 35
        },
        "outputId": "41e9fdf4-89f5-4bf1-ae25-fdc8f5b53833"
      },
      "source": [
        "text='Сегодня отличный день'\n",
        "\n",
        "text.lower().replace(r'отличный','прекрасный')"
      ],
      "execution_count": null,
      "outputs": [
        {
          "output_type": "execute_result",
          "data": {
            "application/vnd.google.colaboratory.intrinsic+json": {
              "type": "string"
            },
            "text/plain": [
              "'сегодня прекрасный день'"
            ]
          },
          "metadata": {
            "tags": []
          },
          "execution_count": 63
        }
      ]
    }
  ]
}